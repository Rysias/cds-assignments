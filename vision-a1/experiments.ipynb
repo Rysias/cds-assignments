{
 "cells": [
  {
   "cell_type": "markdown",
   "id": "b35c40ba-17fd-4ce5-b47d-8d9bd5e7a88a",
   "metadata": {},
   "source": [
    "# Experimenting for A1\n",
    "- Figuring out how to solve the stuff\n",
    "\n",
    "TODO: Refactor into a script"
   ]
  },
  {
   "cell_type": "code",
   "execution_count": 1,
   "id": "5ecb5bcf-c40f-45b4-bdba-420c7faf526c",
   "metadata": {
    "execution": {
     "iopub.execute_input": "2022-03-03T16:12:40.770689Z",
     "iopub.status.busy": "2022-03-03T16:12:40.770553Z",
     "iopub.status.idle": "2022-03-03T16:12:41.038516Z",
     "shell.execute_reply": "2022-03-03T16:12:41.037810Z",
     "shell.execute_reply.started": "2022-03-03T16:12:40.770673Z"
    },
    "tags": []
   },
   "outputs": [],
   "source": [
    "import cv2\n",
    "import numpy as np\n",
    "import pandas as pd\n",
    "from pathlib import Path\n",
    "from typing import List"
   ]
  },
  {
   "cell_type": "code",
   "execution_count": 4,
   "id": "629a8098-4219-4cf1-87ad-615cd2d6c5aa",
   "metadata": {
    "execution": {
     "iopub.execute_input": "2022-03-03T16:02:27.853550Z",
     "iopub.status.busy": "2022-03-03T16:02:27.853021Z",
     "iopub.status.idle": "2022-03-03T16:02:27.865972Z",
     "shell.execute_reply": "2022-03-03T16:02:27.864883Z",
     "shell.execute_reply.started": "2022-03-03T16:02:27.853476Z"
    },
    "tags": []
   },
   "outputs": [],
   "source": [
    "# Helper functions\n",
    "def to_gray(img): \n",
    "    return cv2.cvtColor(img, cv2.COLOR_BGR2GRAY).astype(np.uint8)\n",
    "\n",
    "def calc_color_hist(img, key=None):         \n",
    "    return cv2.calcHist([img], [0, 1, 2], None, [8, 8, 8], [0, 256, 0, 256, 0, 256])\n",
    "    \n",
    "def create_norm_hist(img: np.ndarray, key=None) -> np.ndarray: \n",
    "    hist = calc_color_hist(img, key=key)\n",
    "    return cv2.normalize(hist, hist).flatten()\n",
    "\n",
    "def read_img(path: Path) -> np.ndarray: \n",
    "    return cv2.imread(str(path))\n",
    "\n",
    "def process_img(img_path: Path):\n",
    "    img = read_img(img_path)\n",
    "    return create_norm_hist(img)\n",
    "\n",
    "def compare_hists(source_hist, candidate_hist):\n",
    "    return cv2.compareHist(source_hist, candidate_hist, cv2.HISTCMP_CHISQR)"
   ]
  },
  {
   "cell_type": "code",
   "execution_count": 2,
   "id": "6eb19c70-0b89-4c38-b477-509ac70c5d1b",
   "metadata": {
    "execution": {
     "iopub.execute_input": "2022-03-02T12:19:21.976242Z",
     "iopub.status.busy": "2022-03-02T12:19:21.975720Z",
     "iopub.status.idle": "2022-03-02T12:19:21.983443Z",
     "shell.execute_reply": "2022-03-02T12:19:21.981972Z",
     "shell.execute_reply.started": "2022-03-02T12:19:21.976194Z"
    },
    "tags": []
   },
   "outputs": [],
   "source": [
    "DATA_DIR = Path(\"../../../CDS-VIS/flowers\")\n",
    "assert DATA_DIR.exists()"
   ]
  },
  {
   "cell_type": "code",
   "execution_count": 64,
   "id": "8d0665d2-aff5-4404-9098-c108e63b1589",
   "metadata": {
    "execution": {
     "iopub.execute_input": "2022-03-02T13:02:01.323031Z",
     "iopub.status.busy": "2022-03-02T13:02:01.322321Z",
     "iopub.status.idle": "2022-03-02T13:02:01.341044Z",
     "shell.execute_reply": "2022-03-02T13:02:01.340228Z",
     "shell.execute_reply.started": "2022-03-02T13:02:01.322977Z"
    },
    "tags": []
   },
   "outputs": [],
   "source": [
    "all_flowers = list(DATA_DIR.glob(\"*.jpg\"))\n",
    "test_flower = all_flowers[0]\n",
    "all_flowers.remove(test_flower)\n",
    "assert test_flower not in all_flowers"
   ]
  },
  {
   "cell_type": "code",
   "execution_count": 77,
   "id": "6c9a976c-0464-4c47-9e96-269a7b1df98e",
   "metadata": {
    "execution": {
     "iopub.execute_input": "2022-03-02T13:09:31.612151Z",
     "iopub.status.busy": "2022-03-02T13:09:31.611456Z",
     "iopub.status.idle": "2022-03-02T13:09:31.627148Z",
     "shell.execute_reply": "2022-03-02T13:09:31.626428Z",
     "shell.execute_reply.started": "2022-03-02T13:09:31.612098Z"
    },
    "tags": []
   },
   "outputs": [],
   "source": [
    "source_img = read_img(test_flower)\n",
    "testy = create_norm_hist(source_img)"
   ]
  },
  {
   "cell_type": "code",
   "execution_count": 36,
   "id": "faf89b5f-2eee-4627-8afa-2ae020e93eef",
   "metadata": {
    "execution": {
     "iopub.execute_input": "2022-03-02T12:39:14.113262Z",
     "iopub.status.busy": "2022-03-02T12:39:14.112713Z",
     "iopub.status.idle": "2022-03-02T12:39:14.123232Z",
     "shell.execute_reply": "2022-03-02T12:39:14.122119Z",
     "shell.execute_reply.started": "2022-03-02T12:39:14.113208Z"
    },
    "tags": []
   },
   "outputs": [
    {
     "data": {
      "text/plain": [
       "0.0"
      ]
     },
     "execution_count": 36,
     "metadata": {},
     "output_type": "execute_result"
    }
   ],
   "source": [
    "cv2.compareHist(testy, testy, cv2.HISTCMP_CHISQR)"
   ]
  },
  {
   "cell_type": "code",
   "execution_count": 46,
   "id": "c9024fe8-eac1-4280-8477-6f2fc468c2ec",
   "metadata": {
    "execution": {
     "iopub.execute_input": "2022-03-02T12:45:24.074975Z",
     "iopub.status.busy": "2022-03-02T12:45:24.074419Z",
     "iopub.status.idle": "2022-03-02T12:45:24.090096Z",
     "shell.execute_reply": "2022-03-02T12:45:24.089150Z",
     "shell.execute_reply.started": "2022-03-02T12:45:24.074922Z"
    },
    "tags": []
   },
   "outputs": [],
   "source": [
    "source_hist = process_img(test_flower)\n",
    "\n"
   ]
  },
  {
   "cell_type": "code",
   "execution_count": 67,
   "id": "5bb5c30e-a79d-43f2-9a1f-ace7e8af8437",
   "metadata": {
    "execution": {
     "iopub.execute_input": "2022-03-02T13:03:16.427150Z",
     "iopub.status.busy": "2022-03-02T13:03:16.426646Z",
     "iopub.status.idle": "2022-03-02T13:03:16.438648Z",
     "shell.execute_reply": "2022-03-02T13:03:16.437856Z",
     "shell.execute_reply.started": "2022-03-02T13:03:16.427102Z"
    },
    "tags": []
   },
   "outputs": [],
   "source": [
    "dist_df = pd.DataFrame({\"dist\": 0}, index=all_flowers)"
   ]
  },
  {
   "cell_type": "code",
   "execution_count": 68,
   "id": "4c2b818d-e9c4-47ac-b6de-aebfd096e34b",
   "metadata": {
    "execution": {
     "iopub.execute_input": "2022-03-02T13:03:21.395399Z",
     "iopub.status.busy": "2022-03-02T13:03:21.394784Z",
     "iopub.status.idle": "2022-03-02T13:03:21.409980Z",
     "shell.execute_reply": "2022-03-02T13:03:21.409154Z",
     "shell.execute_reply.started": "2022-03-02T13:03:21.395348Z"
    },
    "tags": []
   },
   "outputs": [
    {
     "data": {
      "text/html": [
       "<div>\n",
       "<style scoped>\n",
       "    .dataframe tbody tr th:only-of-type {\n",
       "        vertical-align: middle;\n",
       "    }\n",
       "\n",
       "    .dataframe tbody tr th {\n",
       "        vertical-align: top;\n",
       "    }\n",
       "\n",
       "    .dataframe thead th {\n",
       "        text-align: right;\n",
       "    }\n",
       "</style>\n",
       "<table border=\"1\" class=\"dataframe\">\n",
       "  <thead>\n",
       "    <tr style=\"text-align: right;\">\n",
       "      <th></th>\n",
       "      <th>dist</th>\n",
       "    </tr>\n",
       "  </thead>\n",
       "  <tbody>\n",
       "    <tr>\n",
       "      <th>../../../CDS-VIS/flowers/image_0772.jpg</th>\n",
       "      <td>0</td>\n",
       "    </tr>\n",
       "    <tr>\n",
       "      <th>../../../CDS-VIS/flowers/image_1307.jpg</th>\n",
       "      <td>0</td>\n",
       "    </tr>\n",
       "    <tr>\n",
       "      <th>../../../CDS-VIS/flowers/image_0127.jpg</th>\n",
       "      <td>0</td>\n",
       "    </tr>\n",
       "    <tr>\n",
       "      <th>../../../CDS-VIS/flowers/image_0479.jpg</th>\n",
       "      <td>0</td>\n",
       "    </tr>\n",
       "    <tr>\n",
       "      <th>../../../CDS-VIS/flowers/image_1250.jpg</th>\n",
       "      <td>0</td>\n",
       "    </tr>\n",
       "    <tr>\n",
       "      <th>...</th>\n",
       "      <td>...</td>\n",
       "    </tr>\n",
       "    <tr>\n",
       "      <th>../../../CDS-VIS/flowers/image_0682.jpg</th>\n",
       "      <td>0</td>\n",
       "    </tr>\n",
       "    <tr>\n",
       "      <th>../../../CDS-VIS/flowers/image_1342.jpg</th>\n",
       "      <td>0</td>\n",
       "    </tr>\n",
       "    <tr>\n",
       "      <th>../../../CDS-VIS/flowers/image_1025.jpg</th>\n",
       "      <td>0</td>\n",
       "    </tr>\n",
       "    <tr>\n",
       "      <th>../../../CDS-VIS/flowers/image_1061.jpg</th>\n",
       "      <td>0</td>\n",
       "    </tr>\n",
       "    <tr>\n",
       "      <th>../../../CDS-VIS/flowers/image_0134.jpg</th>\n",
       "      <td>0</td>\n",
       "    </tr>\n",
       "  </tbody>\n",
       "</table>\n",
       "<p>1359 rows × 1 columns</p>\n",
       "</div>"
      ],
      "text/plain": [
       "                                         dist\n",
       "../../../CDS-VIS/flowers/image_0772.jpg     0\n",
       "../../../CDS-VIS/flowers/image_1307.jpg     0\n",
       "../../../CDS-VIS/flowers/image_0127.jpg     0\n",
       "../../../CDS-VIS/flowers/image_0479.jpg     0\n",
       "../../../CDS-VIS/flowers/image_1250.jpg     0\n",
       "...                                       ...\n",
       "../../../CDS-VIS/flowers/image_0682.jpg     0\n",
       "../../../CDS-VIS/flowers/image_1342.jpg     0\n",
       "../../../CDS-VIS/flowers/image_1025.jpg     0\n",
       "../../../CDS-VIS/flowers/image_1061.jpg     0\n",
       "../../../CDS-VIS/flowers/image_0134.jpg     0\n",
       "\n",
       "[1359 rows x 1 columns]"
      ]
     },
     "execution_count": 68,
     "metadata": {},
     "output_type": "execute_result"
    }
   ],
   "source": [
    "dist_df"
   ]
  },
  {
   "cell_type": "code",
   "execution_count": 138,
   "id": "a6937b85-bc97-4b15-a436-2416e9d2715c",
   "metadata": {
    "execution": {
     "iopub.execute_input": "2022-03-02T13:49:53.250811Z",
     "iopub.status.busy": "2022-03-02T13:49:53.250303Z",
     "iopub.status.idle": "2022-03-02T13:49:58.779218Z",
     "shell.execute_reply": "2022-03-02T13:49:58.778542Z",
     "shell.execute_reply.started": "2022-03-02T13:49:53.250764Z"
    },
    "tags": []
   },
   "outputs": [
    {
     "name": "stdout",
     "output_type": "stream",
     "text": [
      "processed 0 imgs!\n",
      "processed 200 imgs!\n",
      "processed 400 imgs!\n",
      "processed 600 imgs!\n",
      "processed 800 imgs!\n",
      "processed 1000 imgs!\n",
      "processed 1200 imgs!\n"
     ]
    }
   ],
   "source": [
    "for i, flower in enumerate(all_flowers):\n",
    "    candidate_hist = process_img(flower)\n",
    "    dist_df.loc[flower, \"dist\"] += compare_hists(source_hist, candidate_hist)\n",
    "    if i % 200 == 0: \n",
    "        print(f\"processed {i} imgs!\")"
   ]
  },
  {
   "cell_type": "code",
   "execution_count": 153,
   "id": "6a20726a-63d2-4fb3-b2e7-6da81d352385",
   "metadata": {
    "execution": {
     "iopub.execute_input": "2022-03-02T13:56:33.257826Z",
     "iopub.status.busy": "2022-03-02T13:56:33.257285Z",
     "iopub.status.idle": "2022-03-02T13:56:33.275743Z",
     "shell.execute_reply": "2022-03-02T13:56:33.274800Z",
     "shell.execute_reply.started": "2022-03-02T13:56:33.257775Z"
    },
    "tags": []
   },
   "outputs": [
    {
     "data": {
      "text/html": [
       "<div>\n",
       "<style scoped>\n",
       "    .dataframe tbody tr th:only-of-type {\n",
       "        vertical-align: middle;\n",
       "    }\n",
       "\n",
       "    .dataframe tbody tr th {\n",
       "        vertical-align: top;\n",
       "    }\n",
       "\n",
       "    .dataframe thead th {\n",
       "        text-align: right;\n",
       "    }\n",
       "</style>\n",
       "<table border=\"1\" class=\"dataframe\">\n",
       "  <thead>\n",
       "    <tr style=\"text-align: right;\">\n",
       "      <th></th>\n",
       "      <th>source</th>\n",
       "      <th>1st</th>\n",
       "      <th>2nd</th>\n",
       "      <th>3rd</th>\n",
       "    </tr>\n",
       "  </thead>\n",
       "  <tbody>\n",
       "    <tr>\n",
       "      <th>0</th>\n",
       "      <td>image_1079.jpg</td>\n",
       "      <td>image_0626.jpg</td>\n",
       "      <td>image_0228.jpg</td>\n",
       "      <td>image_0077.jpg</td>\n",
       "    </tr>\n",
       "  </tbody>\n",
       "</table>\n",
       "</div>"
      ],
      "text/plain": [
       "           source             1st             2nd             3rd\n",
       "0  image_1079.jpg  image_0626.jpg  image_0228.jpg  image_0077.jpg"
      ]
     },
     "execution_count": 153,
     "metadata": {},
     "output_type": "execute_result"
    }
   ],
   "source": [
    "closest_imgs = dist_df.nsmallest(3, \"dist\")\n",
    "output_dict = {\"source\": [test_flower.name], \"1st\": [closest_imgs.index[0].name], \"2nd\": [closest_imgs.index[1].name], \"3rd\": [closest_imgs.index[2].name]}\n",
    "pd.DataFrame.from_dict(output_dict)"
   ]
  },
  {
   "cell_type": "code",
   "execution_count": 79,
   "id": "276dbbe1-2c98-4697-adf6-279b1fde1f2e",
   "metadata": {
    "execution": {
     "iopub.execute_input": "2022-03-02T13:10:14.517914Z",
     "iopub.status.busy": "2022-03-02T13:10:14.517377Z",
     "iopub.status.idle": "2022-03-02T13:10:14.528446Z",
     "shell.execute_reply": "2022-03-02T13:10:14.527390Z",
     "shell.execute_reply.started": "2022-03-02T13:10:14.517862Z"
    },
    "tags": []
   },
   "outputs": [],
   "source": [
    "def add_text(img, text):\n",
    "    new_img = img.copy()\n",
    "    # setup text\n",
    "    font = cv2.FONT_HERSHEY_SIMPLEX\n",
    "\n",
    "    # get boundary of this text\n",
    "    textsize = cv2.getTextSize(text, font, 1, 2)[0]\n",
    "\n",
    "    # get coords based on boundary\n",
    "    textX = (img.shape[1] - textsize[0]) // 2\n",
    "    textY = (img.shape[0] + textsize[1]) // 2\n",
    "\n",
    "    # add text centered on image\n",
    "    cv2.putText(new_img, text, (textX, textY ), font, 1, (255, 255, 255), 2)\n",
    "    \n",
    "    return new_img"
   ]
  },
  {
   "cell_type": "code",
   "execution_count": 80,
   "id": "fae88be5-09ce-4071-b104-59e5ae72f365",
   "metadata": {
    "execution": {
     "iopub.execute_input": "2022-03-02T13:10:17.093953Z",
     "iopub.status.busy": "2022-03-02T13:10:17.093423Z",
     "iopub.status.idle": "2022-03-02T13:10:17.113579Z",
     "shell.execute_reply": "2022-03-02T13:10:17.112968Z",
     "shell.execute_reply.started": "2022-03-02T13:10:17.093904Z"
    },
    "tags": []
   },
   "outputs": [
    {
     "data": {
      "text/plain": [
       "True"
      ]
     },
     "execution_count": 80,
     "metadata": {},
     "output_type": "execute_result"
    }
   ],
   "source": [
    "cv2.imwrite(\"test_img.jpg\", add_text(source_img, \"testy\"))"
   ]
  },
  {
   "cell_type": "code",
   "execution_count": 82,
   "id": "fe1df15a-6b0c-4c45-aa19-4f13ad924567",
   "metadata": {
    "execution": {
     "iopub.execute_input": "2022-03-02T13:11:46.321665Z",
     "iopub.status.busy": "2022-03-02T13:11:46.321134Z",
     "iopub.status.idle": "2022-03-02T13:11:46.331272Z",
     "shell.execute_reply": "2022-03-02T13:11:46.329949Z",
     "shell.execute_reply.started": "2022-03-02T13:11:46.321616Z"
    },
    "tags": []
   },
   "outputs": [
    {
     "data": {
      "text/plain": [
       "'dist: 2.13'"
      ]
     },
     "execution_count": 82,
     "metadata": {},
     "output_type": "execute_result"
    }
   ],
   "source": [
    "def format_dist(dist: float) -> str:\n",
    "    return f\"dist:{dist: .2f}\"\n",
    "\n",
    "format_dist(2.132456)"
   ]
  },
  {
   "cell_type": "code",
   "execution_count": 132,
   "id": "c0b24a48-f255-4134-a9a1-79d62e35f472",
   "metadata": {
    "execution": {
     "iopub.execute_input": "2022-03-02T13:46:59.475579Z",
     "iopub.status.busy": "2022-03-02T13:46:59.475073Z",
     "iopub.status.idle": "2022-03-02T13:46:59.482545Z",
     "shell.execute_reply": "2022-03-02T13:46:59.481332Z",
     "shell.execute_reply.started": "2022-03-02T13:46:59.475532Z"
    },
    "tags": []
   },
   "outputs": [],
   "source": [
    "def resize_square(img, size=300):\n",
    "    return cv2.resize(img, dsize=(size, size))"
   ]
  },
  {
   "cell_type": "code",
   "execution_count": 133,
   "id": "77abccf2-db06-4dfe-b111-b386e7ef31d5",
   "metadata": {
    "execution": {
     "iopub.execute_input": "2022-03-02T13:47:03.490074Z",
     "iopub.status.busy": "2022-03-02T13:47:03.489565Z",
     "iopub.status.idle": "2022-03-02T13:47:03.517232Z",
     "shell.execute_reply": "2022-03-02T13:47:03.516502Z",
     "shell.execute_reply.started": "2022-03-02T13:47:03.490028Z"
    },
    "tags": []
   },
   "outputs": [],
   "source": [
    "dist_img_list = [resize_square(add_text(source_img, \"SOURCE\"))]\n",
    "for filename, row in dist_df.nsmallest(3, \"dist\").iterrows():\n",
    "    img = resize_square(read_img(filename))\n",
    "    assert img.shape[1] == 300\n",
    "    dist_img_list.append(add_text(img, format_dist(row[\"dist\"])))"
   ]
  },
  {
   "cell_type": "code",
   "execution_count": 136,
   "id": "aa032b76-f6b2-4f82-8663-642ac0690ef2",
   "metadata": {
    "execution": {
     "iopub.execute_input": "2022-03-02T13:47:23.702299Z",
     "iopub.status.busy": "2022-03-02T13:47:23.701793Z",
     "iopub.status.idle": "2022-03-02T13:47:23.714522Z",
     "shell.execute_reply": "2022-03-02T13:47:23.713801Z",
     "shell.execute_reply.started": "2022-03-02T13:47:23.702249Z"
    },
    "tags": []
   },
   "outputs": [],
   "source": [
    "import math \n",
    "def arrange_square(img_list: List[np.ndarray], img_dim=300) -> np.ndarray: \n",
    "    \"\"\" Adapted from https://stackoverflow.com/a/52283965 \"\"\" \n",
    "    if len(img_list) not in [i**2 for i in range(10)]: \n",
    "        raise ValueError(\"List must have square number of elements\")\n",
    "    \n",
    "    canvas_shape = math.isqrt(len(img_list))\n",
    "    imgmatrix = np.zeros((canvas_shape*img_dim, canvas_shape*img_dim, 3), np.uint8)\n",
    "    #Prepare an iterable with the right dimensions\n",
    "    positions = itertools.product(range(canvas_shape), range(canvas_shape))\n",
    "\n",
    "    for (y_i, x_i), img in zip(positions, img_list):\n",
    "        x = x_i * img_dim\n",
    "        y = y_i * img_dim\n",
    "        imgmatrix[y:y+img_dim, x:x+img_dim, :] = img\n",
    "    return imgmatrix\n",
    "        "
   ]
  },
  {
   "cell_type": "code",
   "execution_count": 154,
   "id": "7e638187-46a4-4910-b390-5c3043f397c5",
   "metadata": {
    "execution": {
     "iopub.execute_input": "2022-03-02T13:57:21.874216Z",
     "iopub.status.busy": "2022-03-02T13:57:21.873698Z",
     "iopub.status.idle": "2022-03-02T13:57:21.881366Z",
     "shell.execute_reply": "2022-03-02T13:57:21.880485Z",
     "shell.execute_reply.started": "2022-03-02T13:57:21.874168Z"
    },
    "tags": []
   },
   "outputs": [],
   "source": [
    "import itertools\n",
    "testy = arrange_square(dist_img_list)"
   ]
  },
  {
   "cell_type": "code",
   "execution_count": 19,
   "id": "4e791dda-efeb-48c0-8c55-4f74beac2098",
   "metadata": {
    "execution": {
     "iopub.execute_input": "2022-03-03T12:35:50.560816Z",
     "iopub.status.busy": "2022-03-03T12:35:50.560248Z",
     "iopub.status.idle": "2022-03-03T12:35:50.567446Z",
     "shell.execute_reply": "2022-03-03T12:35:50.566558Z",
     "shell.execute_reply.started": "2022-03-03T12:35:50.560775Z"
    },
    "tags": []
   },
   "outputs": [],
   "source": [
    "import itertools\n",
    "import numpy as np\n",
    "\n",
    "testy = {\"a\": np.array((1, 2)), \"b\": np.array((3, 2)), \"c\": np.array((1, 42)), \"d\": np.array((13, 2))}\n",
    "\n",
    "wowow = list(itertools.combinations(testy.items(), 2))"
   ]
  },
  {
   "cell_type": "code",
   "execution_count": 3,
   "id": "c7bfb9eb-8cde-4543-b9d3-6ebb8d7407c1",
   "metadata": {
    "execution": {
     "iopub.execute_input": "2022-03-03T17:23:26.330068Z",
     "iopub.status.busy": "2022-03-03T17:23:26.329554Z",
     "iopub.status.idle": "2022-03-03T17:23:26.682866Z",
     "shell.execute_reply": "2022-03-03T17:23:26.682237Z",
     "shell.execute_reply.started": "2022-03-03T17:23:26.330027Z"
    },
    "tags": []
   },
   "outputs": [],
   "source": [
    "from pathlib import PosixPath, Path\n",
    "import pandas as pd"
   ]
  },
  {
   "cell_type": "code",
   "execution_count": 2,
   "id": "5ed60056-3bc1-45e3-8050-235932fce7ec",
   "metadata": {
    "execution": {
     "iopub.execute_input": "2022-03-03T13:30:36.269303Z",
     "iopub.status.busy": "2022-03-03T13:30:36.268819Z",
     "iopub.status.idle": "2022-03-03T13:30:36.276859Z",
     "shell.execute_reply": "2022-03-03T13:30:36.276000Z",
     "shell.execute_reply.started": "2022-03-03T13:30:36.269256Z"
    },
    "tags": []
   },
   "outputs": [],
   "source": [
    "testy = [{'key': 'image_0772.jpg-image_1079.jpg', 'dist': 398.90088971033646}, {'key': 'image_1079.jpg-image_1307.jpg', 'dist': 308.6794332315007}, {'key': 'image_0127.jpg-image_1079.jpg', 'dist': 65.86221812570959}, {'key': 'image_0479.jpg-image_1079.jpg', 'dist': 1501.1858082961376}, {'key': 'image_1079.jpg-image_1250.jpg', 'dist': 427.9419007281442}]"
   ]
  },
  {
   "cell_type": "code",
   "execution_count": 4,
   "id": "e903b0a0-e40f-480f-8104-adcfeb4f4ae9",
   "metadata": {
    "execution": {
     "iopub.execute_input": "2022-03-03T13:30:40.462042Z",
     "iopub.status.busy": "2022-03-03T13:30:40.461550Z",
     "iopub.status.idle": "2022-03-03T13:30:40.469938Z",
     "shell.execute_reply": "2022-03-03T13:30:40.469086Z",
     "shell.execute_reply.started": "2022-03-03T13:30:40.461994Z"
    },
    "tags": []
   },
   "outputs": [],
   "source": [
    "full_df = pd.DataFrame(testy)\n"
   ]
  },
  {
   "cell_type": "code",
   "execution_count": 1,
   "id": "ca0673e1-e77f-4424-bc12-c168eda899a4",
   "metadata": {
    "execution": {
     "iopub.execute_input": "2022-03-03T17:23:20.880012Z",
     "iopub.status.busy": "2022-03-03T17:23:20.879341Z",
     "iopub.status.idle": "2022-03-03T17:23:20.885891Z",
     "shell.execute_reply": "2022-03-03T17:23:20.884870Z",
     "shell.execute_reply.started": "2022-03-03T17:23:20.879950Z"
    },
    "tags": []
   },
   "outputs": [],
   "source": [
    "from typing import Tuple"
   ]
  },
  {
   "cell_type": "code",
   "execution_count": 4,
   "id": "64ae64d9-2f4c-4355-bc0c-d76a62a0fb3d",
   "metadata": {
    "execution": {
     "iopub.execute_input": "2022-03-03T17:23:28.143059Z",
     "iopub.status.busy": "2022-03-03T17:23:28.142471Z",
     "iopub.status.idle": "2022-03-03T17:23:28.154049Z",
     "shell.execute_reply": "2022-03-03T17:23:28.152990Z",
     "shell.execute_reply.started": "2022-03-03T17:23:28.143009Z"
    },
    "tags": []
   },
   "outputs": [],
   "source": [
    "def create_dist_row(arg: Tuple[Path, pd.DataFrame]) -> pd.DataFrame:\n",
    "    source_path, dist_df = arg\n",
    "    col_filter = (dist_df[\"path1\"] == source_path.name) | (dist_df[\"path2\"] == source_path.name)\n",
    "    smallest_dists = dist_df[col_filter].nsmallest(3, \"dist\")\n",
    "    smallest_dists[\"target\"] = smallest_dists[\"key\"].str.replace(source_path.name, \"\", regex=False).str.replace(\"-\", \"\", regex=False)\n",
    "    smallest_dists[\"source\"] = source_path.name\n",
    "    smallest_dists[\"rank\"] = [\"1st\", \"2nd\", \"3rd\"]    \n",
    "    return smallest_dists.pivot(index=\"source\", columns = \"rank\", values=\"target\")"
   ]
  },
  {
   "cell_type": "code",
   "execution_count": 5,
   "id": "98f96854-c89c-4115-8c7a-c703635acd8b",
   "metadata": {
    "execution": {
     "iopub.execute_input": "2022-03-03T17:23:30.702424Z",
     "iopub.status.busy": "2022-03-03T17:23:30.701964Z",
     "iopub.status.idle": "2022-03-03T17:23:33.021073Z",
     "shell.execute_reply": "2022-03-03T17:23:33.019339Z",
     "shell.execute_reply.started": "2022-03-03T17:23:30.702381Z"
    },
    "tags": []
   },
   "outputs": [],
   "source": [
    "test_df = pd.read_csv(\"output/all_dists.csv\", index_col=0)"
   ]
  },
  {
   "cell_type": "code",
   "execution_count": 9,
   "id": "7d454641-8443-48ab-9da4-f08738dc74fd",
   "metadata": {
    "execution": {
     "iopub.execute_input": "2022-03-03T17:27:11.997787Z",
     "iopub.status.busy": "2022-03-03T17:27:11.996635Z",
     "iopub.status.idle": "2022-03-03T17:27:12.004316Z",
     "shell.execute_reply": "2022-03-03T17:27:12.003216Z",
     "shell.execute_reply.started": "2022-03-03T17:27:11.997730Z"
    },
    "tags": []
   },
   "outputs": [],
   "source": [
    "def combine_reversed_df(df):\n",
    "    reversed_df = df.rename({\"path1\": \"path2\", \"path2\": \"path1\"}, axis=1)\n",
    "    return pd.concat((df, reversed_df))"
   ]
  },
  {
   "cell_type": "code",
   "execution_count": 10,
   "id": "e773090b-e6fe-499f-a494-1f98beb6023a",
   "metadata": {
    "execution": {
     "iopub.execute_input": "2022-03-03T17:27:26.201974Z",
     "iopub.status.busy": "2022-03-03T17:27:26.201452Z",
     "iopub.status.idle": "2022-03-03T17:27:26.369893Z",
     "shell.execute_reply": "2022-03-03T17:27:26.368770Z",
     "shell.execute_reply.started": "2022-03-03T17:27:26.201934Z"
    },
    "tags": []
   },
   "outputs": [],
   "source": [
    "full_df = combine_reversed_df(test_df)"
   ]
  },
  {
   "cell_type": "code",
   "execution_count": 36,
   "id": "6a38afee-5a64-4eac-84da-b4ad9a5bd483",
   "metadata": {
    "execution": {
     "iopub.execute_input": "2022-03-03T17:46:57.108603Z",
     "iopub.status.busy": "2022-03-03T17:46:57.108331Z",
     "iopub.status.idle": "2022-03-03T17:46:57.111971Z",
     "shell.execute_reply": "2022-03-03T17:46:57.111440Z",
     "shell.execute_reply.started": "2022-03-03T17:46:57.108580Z"
    },
    "tags": []
   },
   "outputs": [],
   "source": [
    "def find_smallest_cands(df, n=3, col=\"dist\", target=\"path2\"):\n",
    "    return df.nsmallest(n, col)[[target]].assign(rank = [\"1st\", \"2nd\", \"3rd\"])"
   ]
  },
  {
   "cell_type": "code",
   "execution_count": 21,
   "id": "b6a5e4ec-0dc6-4787-83c4-178e1f274a35",
   "metadata": {
    "execution": {
     "iopub.execute_input": "2022-03-03T17:32:55.312520Z",
     "iopub.status.busy": "2022-03-03T17:32:55.312039Z",
     "iopub.status.idle": "2022-03-03T17:32:55.453035Z",
     "shell.execute_reply": "2022-03-03T17:32:55.452344Z",
     "shell.execute_reply.started": "2022-03-03T17:32:55.312480Z"
    },
    "tags": []
   },
   "outputs": [
    {
     "data": {
      "text/plain": [
       "707555    ../../../CDS-VIS/flowers/image_0469.jpg\n",
       "707555    ../../../CDS-VIS/flowers/image_0422.jpg\n",
       "308221    ../../../CDS-VIS/flowers/image_0443.jpg\n",
       "Name: path2, dtype: object"
      ]
     },
     "execution_count": 21,
     "metadata": {},
     "output_type": "execute_result"
    }
   ],
   "source": [
    "find_smallest_cands(full_df)"
   ]
  },
  {
   "cell_type": "code",
   "execution_count": 37,
   "id": "5ecfa5b1-b6c2-4aa4-92c6-53856fe37757",
   "metadata": {
    "execution": {
     "iopub.execute_input": "2022-03-03T17:46:58.599034Z",
     "iopub.status.busy": "2022-03-03T17:46:58.598536Z",
     "iopub.status.idle": "2022-03-03T17:47:02.585470Z",
     "shell.execute_reply": "2022-03-03T17:47:02.583927Z",
     "shell.execute_reply.started": "2022-03-03T17:46:58.598991Z"
    },
    "tags": []
   },
   "outputs": [],
   "source": [
    "top_df = full_df.groupby(\"path1\").apply(find_smallest_cands)"
   ]
  },
  {
   "cell_type": "code",
   "execution_count": 33,
   "id": "b3786c5b-7e2c-4d21-8e0a-858ae9af7a60",
   "metadata": {
    "execution": {
     "iopub.execute_input": "2022-03-03T17:37:05.158080Z",
     "iopub.status.busy": "2022-03-03T17:37:05.157615Z",
     "iopub.status.idle": "2022-03-03T17:37:05.201157Z",
     "shell.execute_reply": "2022-03-03T17:37:05.200297Z",
     "shell.execute_reply.started": "2022-03-03T17:37:05.158044Z"
    },
    "tags": []
   },
   "outputs": [
    {
     "data": {
      "text/html": [
       "<div>\n",
       "<style scoped>\n",
       "    .dataframe tbody tr th:only-of-type {\n",
       "        vertical-align: middle;\n",
       "    }\n",
       "\n",
       "    .dataframe tbody tr th {\n",
       "        vertical-align: top;\n",
       "    }\n",
       "\n",
       "    .dataframe thead th {\n",
       "        text-align: right;\n",
       "    }\n",
       "</style>\n",
       "<table border=\"1\" class=\"dataframe\">\n",
       "  <thead>\n",
       "    <tr style=\"text-align: right;\">\n",
       "      <th>rank</th>\n",
       "      <th>1st</th>\n",
       "      <th>2nd</th>\n",
       "      <th>3rd</th>\n",
       "    </tr>\n",
       "    <tr>\n",
       "      <th>path1</th>\n",
       "      <th></th>\n",
       "      <th></th>\n",
       "      <th></th>\n",
       "    </tr>\n",
       "  </thead>\n",
       "  <tbody>\n",
       "    <tr>\n",
       "      <th>../../../CDS-VIS/flowers/image_0001.jpg</th>\n",
       "      <td>../../../CDS-VIS/flowers/image_0594.jpg</td>\n",
       "      <td>../../../CDS-VIS/flowers/image_0566.jpg</td>\n",
       "      <td>../../../CDS-VIS/flowers/image_0874.jpg</td>\n",
       "    </tr>\n",
       "    <tr>\n",
       "      <th>../../../CDS-VIS/flowers/image_0002.jpg</th>\n",
       "      <td>../../../CDS-VIS/flowers/image_0042.jpg</td>\n",
       "      <td>../../../CDS-VIS/flowers/image_0955.jpg</td>\n",
       "      <td>../../../CDS-VIS/flowers/image_1031.jpg</td>\n",
       "    </tr>\n",
       "    <tr>\n",
       "      <th>../../../CDS-VIS/flowers/image_0003.jpg</th>\n",
       "      <td>../../../CDS-VIS/flowers/image_0581.jpg</td>\n",
       "      <td>../../../CDS-VIS/flowers/image_1132.jpg</td>\n",
       "      <td>../../../CDS-VIS/flowers/image_0008.jpg</td>\n",
       "    </tr>\n",
       "    <tr>\n",
       "      <th>../../../CDS-VIS/flowers/image_0004.jpg</th>\n",
       "      <td>../../../CDS-VIS/flowers/image_0466.jpg</td>\n",
       "      <td>../../../CDS-VIS/flowers/image_0102.jpg</td>\n",
       "      <td>../../../CDS-VIS/flowers/image_1325.jpg</td>\n",
       "    </tr>\n",
       "    <tr>\n",
       "      <th>../../../CDS-VIS/flowers/image_0005.jpg</th>\n",
       "      <td>../../../CDS-VIS/flowers/image_1115.jpg</td>\n",
       "      <td>../../../CDS-VIS/flowers/image_1129.jpg</td>\n",
       "      <td>../../../CDS-VIS/flowers/image_1198.jpg</td>\n",
       "    </tr>\n",
       "    <tr>\n",
       "      <th>...</th>\n",
       "      <td>...</td>\n",
       "      <td>...</td>\n",
       "      <td>...</td>\n",
       "    </tr>\n",
       "    <tr>\n",
       "      <th>../../../CDS-VIS/flowers/image_1356.jpg</th>\n",
       "      <td>../../../CDS-VIS/flowers/image_0875.jpg</td>\n",
       "      <td>../../../CDS-VIS/flowers/image_0291.jpg</td>\n",
       "      <td>../../../CDS-VIS/flowers/image_0096.jpg</td>\n",
       "    </tr>\n",
       "    <tr>\n",
       "      <th>../../../CDS-VIS/flowers/image_1357.jpg</th>\n",
       "      <td>../../../CDS-VIS/flowers/image_1098.jpg</td>\n",
       "      <td>../../../CDS-VIS/flowers/image_0875.jpg</td>\n",
       "      <td>../../../CDS-VIS/flowers/image_1166.jpg</td>\n",
       "    </tr>\n",
       "    <tr>\n",
       "      <th>../../../CDS-VIS/flowers/image_1358.jpg</th>\n",
       "      <td>../../../CDS-VIS/flowers/image_0085.jpg</td>\n",
       "      <td>../../../CDS-VIS/flowers/image_1178.jpg</td>\n",
       "      <td>../../../CDS-VIS/flowers/image_0922.jpg</td>\n",
       "    </tr>\n",
       "    <tr>\n",
       "      <th>../../../CDS-VIS/flowers/image_1359.jpg</th>\n",
       "      <td>../../../CDS-VIS/flowers/image_0453.jpg</td>\n",
       "      <td>../../../CDS-VIS/flowers/image_1342.jpg</td>\n",
       "      <td>../../../CDS-VIS/flowers/image_0255.jpg</td>\n",
       "    </tr>\n",
       "    <tr>\n",
       "      <th>../../../CDS-VIS/flowers/image_1360.jpg</th>\n",
       "      <td>../../../CDS-VIS/flowers/image_0387.jpg</td>\n",
       "      <td>../../../CDS-VIS/flowers/image_0637.jpg</td>\n",
       "      <td>../../../CDS-VIS/flowers/image_0095.jpg</td>\n",
       "    </tr>\n",
       "  </tbody>\n",
       "</table>\n",
       "<p>1360 rows × 3 columns</p>\n",
       "</div>"
      ],
      "text/plain": [
       "rank                                                                         1st  \\\n",
       "path1                                                                              \n",
       "../../../CDS-VIS/flowers/image_0001.jpg  ../../../CDS-VIS/flowers/image_0594.jpg   \n",
       "../../../CDS-VIS/flowers/image_0002.jpg  ../../../CDS-VIS/flowers/image_0042.jpg   \n",
       "../../../CDS-VIS/flowers/image_0003.jpg  ../../../CDS-VIS/flowers/image_0581.jpg   \n",
       "../../../CDS-VIS/flowers/image_0004.jpg  ../../../CDS-VIS/flowers/image_0466.jpg   \n",
       "../../../CDS-VIS/flowers/image_0005.jpg  ../../../CDS-VIS/flowers/image_1115.jpg   \n",
       "...                                                                          ...   \n",
       "../../../CDS-VIS/flowers/image_1356.jpg  ../../../CDS-VIS/flowers/image_0875.jpg   \n",
       "../../../CDS-VIS/flowers/image_1357.jpg  ../../../CDS-VIS/flowers/image_1098.jpg   \n",
       "../../../CDS-VIS/flowers/image_1358.jpg  ../../../CDS-VIS/flowers/image_0085.jpg   \n",
       "../../../CDS-VIS/flowers/image_1359.jpg  ../../../CDS-VIS/flowers/image_0453.jpg   \n",
       "../../../CDS-VIS/flowers/image_1360.jpg  ../../../CDS-VIS/flowers/image_0387.jpg   \n",
       "\n",
       "rank                                                                         2nd  \\\n",
       "path1                                                                              \n",
       "../../../CDS-VIS/flowers/image_0001.jpg  ../../../CDS-VIS/flowers/image_0566.jpg   \n",
       "../../../CDS-VIS/flowers/image_0002.jpg  ../../../CDS-VIS/flowers/image_0955.jpg   \n",
       "../../../CDS-VIS/flowers/image_0003.jpg  ../../../CDS-VIS/flowers/image_1132.jpg   \n",
       "../../../CDS-VIS/flowers/image_0004.jpg  ../../../CDS-VIS/flowers/image_0102.jpg   \n",
       "../../../CDS-VIS/flowers/image_0005.jpg  ../../../CDS-VIS/flowers/image_1129.jpg   \n",
       "...                                                                          ...   \n",
       "../../../CDS-VIS/flowers/image_1356.jpg  ../../../CDS-VIS/flowers/image_0291.jpg   \n",
       "../../../CDS-VIS/flowers/image_1357.jpg  ../../../CDS-VIS/flowers/image_0875.jpg   \n",
       "../../../CDS-VIS/flowers/image_1358.jpg  ../../../CDS-VIS/flowers/image_1178.jpg   \n",
       "../../../CDS-VIS/flowers/image_1359.jpg  ../../../CDS-VIS/flowers/image_1342.jpg   \n",
       "../../../CDS-VIS/flowers/image_1360.jpg  ../../../CDS-VIS/flowers/image_0637.jpg   \n",
       "\n",
       "rank                                                                         3rd  \n",
       "path1                                                                             \n",
       "../../../CDS-VIS/flowers/image_0001.jpg  ../../../CDS-VIS/flowers/image_0874.jpg  \n",
       "../../../CDS-VIS/flowers/image_0002.jpg  ../../../CDS-VIS/flowers/image_1031.jpg  \n",
       "../../../CDS-VIS/flowers/image_0003.jpg  ../../../CDS-VIS/flowers/image_0008.jpg  \n",
       "../../../CDS-VIS/flowers/image_0004.jpg  ../../../CDS-VIS/flowers/image_1325.jpg  \n",
       "../../../CDS-VIS/flowers/image_0005.jpg  ../../../CDS-VIS/flowers/image_1198.jpg  \n",
       "...                                                                          ...  \n",
       "../../../CDS-VIS/flowers/image_1356.jpg  ../../../CDS-VIS/flowers/image_0096.jpg  \n",
       "../../../CDS-VIS/flowers/image_1357.jpg  ../../../CDS-VIS/flowers/image_1166.jpg  \n",
       "../../../CDS-VIS/flowers/image_1358.jpg  ../../../CDS-VIS/flowers/image_0922.jpg  \n",
       "../../../CDS-VIS/flowers/image_1359.jpg  ../../../CDS-VIS/flowers/image_0255.jpg  \n",
       "../../../CDS-VIS/flowers/image_1360.jpg  ../../../CDS-VIS/flowers/image_0095.jpg  \n",
       "\n",
       "[1360 rows x 3 columns]"
      ]
     },
     "execution_count": 33,
     "metadata": {},
     "output_type": "execute_result"
    }
   ],
   "source": [
    "top_df.reset_index().pivot(index=\"path1\", columns=\"rank\", values=\"path2\")"
   ]
  },
  {
   "cell_type": "code",
   "execution_count": 8,
   "id": "3af6ff89-d9b2-49d7-aa34-d64d5ecca325",
   "metadata": {
    "execution": {
     "iopub.execute_input": "2022-03-03T17:25:25.110449Z",
     "iopub.status.busy": "2022-03-03T17:25:25.109413Z",
     "iopub.status.idle": "2022-03-03T17:25:25.128997Z",
     "shell.execute_reply": "2022-03-03T17:25:25.128051Z",
     "shell.execute_reply.started": "2022-03-03T17:25:25.110402Z"
    },
    "tags": []
   },
   "outputs": [
    {
     "data": {
      "text/html": [
       "<div>\n",
       "<style scoped>\n",
       "    .dataframe tbody tr th:only-of-type {\n",
       "        vertical-align: middle;\n",
       "    }\n",
       "\n",
       "    .dataframe tbody tr th {\n",
       "        vertical-align: top;\n",
       "    }\n",
       "\n",
       "    .dataframe thead th {\n",
       "        text-align: right;\n",
       "    }\n",
       "</style>\n",
       "<table border=\"1\" class=\"dataframe\">\n",
       "  <thead>\n",
       "    <tr style=\"text-align: right;\">\n",
       "      <th></th>\n",
       "      <th>path2</th>\n",
       "      <th>path1</th>\n",
       "      <th>key</th>\n",
       "      <th>dist</th>\n",
       "    </tr>\n",
       "  </thead>\n",
       "  <tbody>\n",
       "    <tr>\n",
       "      <th>0</th>\n",
       "      <td>../../../CDS-VIS/flowers/image_1079.jpg</td>\n",
       "      <td>../../../CDS-VIS/flowers/image_0772.jpg</td>\n",
       "      <td>image_0772.jpg-image_1079.jpg</td>\n",
       "      <td>398.900890</td>\n",
       "    </tr>\n",
       "    <tr>\n",
       "      <th>1</th>\n",
       "      <td>../../../CDS-VIS/flowers/image_1079.jpg</td>\n",
       "      <td>../../../CDS-VIS/flowers/image_1307.jpg</td>\n",
       "      <td>image_1079.jpg-image_1307.jpg</td>\n",
       "      <td>308.679433</td>\n",
       "    </tr>\n",
       "    <tr>\n",
       "      <th>2</th>\n",
       "      <td>../../../CDS-VIS/flowers/image_1079.jpg</td>\n",
       "      <td>../../../CDS-VIS/flowers/image_0127.jpg</td>\n",
       "      <td>image_0127.jpg-image_1079.jpg</td>\n",
       "      <td>65.862218</td>\n",
       "    </tr>\n",
       "    <tr>\n",
       "      <th>3</th>\n",
       "      <td>../../../CDS-VIS/flowers/image_1079.jpg</td>\n",
       "      <td>../../../CDS-VIS/flowers/image_0479.jpg</td>\n",
       "      <td>image_0479.jpg-image_1079.jpg</td>\n",
       "      <td>1501.185808</td>\n",
       "    </tr>\n",
       "    <tr>\n",
       "      <th>4</th>\n",
       "      <td>../../../CDS-VIS/flowers/image_1079.jpg</td>\n",
       "      <td>../../../CDS-VIS/flowers/image_1250.jpg</td>\n",
       "      <td>image_1079.jpg-image_1250.jpg</td>\n",
       "      <td>427.941901</td>\n",
       "    </tr>\n",
       "    <tr>\n",
       "      <th>0</th>\n",
       "      <td>../../../CDS-VIS/flowers/image_0772.jpg</td>\n",
       "      <td>../../../CDS-VIS/flowers/image_1079.jpg</td>\n",
       "      <td>image_0772.jpg-image_1079.jpg</td>\n",
       "      <td>398.900890</td>\n",
       "    </tr>\n",
       "    <tr>\n",
       "      <th>1</th>\n",
       "      <td>../../../CDS-VIS/flowers/image_1307.jpg</td>\n",
       "      <td>../../../CDS-VIS/flowers/image_1079.jpg</td>\n",
       "      <td>image_1079.jpg-image_1307.jpg</td>\n",
       "      <td>308.679433</td>\n",
       "    </tr>\n",
       "    <tr>\n",
       "      <th>2</th>\n",
       "      <td>../../../CDS-VIS/flowers/image_0127.jpg</td>\n",
       "      <td>../../../CDS-VIS/flowers/image_1079.jpg</td>\n",
       "      <td>image_0127.jpg-image_1079.jpg</td>\n",
       "      <td>65.862218</td>\n",
       "    </tr>\n",
       "    <tr>\n",
       "      <th>3</th>\n",
       "      <td>../../../CDS-VIS/flowers/image_0479.jpg</td>\n",
       "      <td>../../../CDS-VIS/flowers/image_1079.jpg</td>\n",
       "      <td>image_0479.jpg-image_1079.jpg</td>\n",
       "      <td>1501.185808</td>\n",
       "    </tr>\n",
       "    <tr>\n",
       "      <th>4</th>\n",
       "      <td>../../../CDS-VIS/flowers/image_1250.jpg</td>\n",
       "      <td>../../../CDS-VIS/flowers/image_1079.jpg</td>\n",
       "      <td>image_1079.jpg-image_1250.jpg</td>\n",
       "      <td>427.941901</td>\n",
       "    </tr>\n",
       "  </tbody>\n",
       "</table>\n",
       "</div>"
      ],
      "text/plain": [
       "                                     path2  \\\n",
       "0  ../../../CDS-VIS/flowers/image_1079.jpg   \n",
       "1  ../../../CDS-VIS/flowers/image_1079.jpg   \n",
       "2  ../../../CDS-VIS/flowers/image_1079.jpg   \n",
       "3  ../../../CDS-VIS/flowers/image_1079.jpg   \n",
       "4  ../../../CDS-VIS/flowers/image_1079.jpg   \n",
       "0  ../../../CDS-VIS/flowers/image_0772.jpg   \n",
       "1  ../../../CDS-VIS/flowers/image_1307.jpg   \n",
       "2  ../../../CDS-VIS/flowers/image_0127.jpg   \n",
       "3  ../../../CDS-VIS/flowers/image_0479.jpg   \n",
       "4  ../../../CDS-VIS/flowers/image_1250.jpg   \n",
       "\n",
       "                                     path1                            key  \\\n",
       "0  ../../../CDS-VIS/flowers/image_0772.jpg  image_0772.jpg-image_1079.jpg   \n",
       "1  ../../../CDS-VIS/flowers/image_1307.jpg  image_1079.jpg-image_1307.jpg   \n",
       "2  ../../../CDS-VIS/flowers/image_0127.jpg  image_0127.jpg-image_1079.jpg   \n",
       "3  ../../../CDS-VIS/flowers/image_0479.jpg  image_0479.jpg-image_1079.jpg   \n",
       "4  ../../../CDS-VIS/flowers/image_1250.jpg  image_1079.jpg-image_1250.jpg   \n",
       "0  ../../../CDS-VIS/flowers/image_1079.jpg  image_0772.jpg-image_1079.jpg   \n",
       "1  ../../../CDS-VIS/flowers/image_1079.jpg  image_1079.jpg-image_1307.jpg   \n",
       "2  ../../../CDS-VIS/flowers/image_1079.jpg  image_0127.jpg-image_1079.jpg   \n",
       "3  ../../../CDS-VIS/flowers/image_1079.jpg  image_0479.jpg-image_1079.jpg   \n",
       "4  ../../../CDS-VIS/flowers/image_1079.jpg  image_1079.jpg-image_1250.jpg   \n",
       "\n",
       "          dist  \n",
       "0   398.900890  \n",
       "1   308.679433  \n",
       "2    65.862218  \n",
       "3  1501.185808  \n",
       "4   427.941901  \n",
       "0   398.900890  \n",
       "1   308.679433  \n",
       "2    65.862218  \n",
       "3  1501.185808  \n",
       "4   427.941901  "
      ]
     },
     "execution_count": 8,
     "metadata": {},
     "output_type": "execute_result"
    }
   ],
   "source": [
    "testy1 = test_df.head().rename({\"path1\": \"path2\", \"path2\": \"path1\"}, axis=1)\n",
    "testy2 = test_df.head()\n",
    "pd.concat([testy1, testy2])"
   ]
  },
  {
   "cell_type": "code",
   "execution_count": 15,
   "id": "43b94928-e51b-43e6-be9c-4bbd965a5ec9",
   "metadata": {
    "execution": {
     "iopub.execute_input": "2022-03-03T16:18:32.396223Z",
     "iopub.status.busy": "2022-03-03T16:18:32.395615Z",
     "iopub.status.idle": "2022-03-03T16:18:34.617732Z",
     "shell.execute_reply": "2022-03-03T16:18:34.617085Z",
     "shell.execute_reply.started": "2022-03-03T16:18:32.396172Z"
    },
    "tags": []
   },
   "outputs": [],
   "source": [
    "test_df[[\"path1\", \"path2\"]] = test_df[\"key\"].str.split(\"-\", expand=True)"
   ]
  },
  {
   "cell_type": "code",
   "execution_count": 20,
   "id": "da5dae49-a857-4ca6-a59f-e5831af4418d",
   "metadata": {
    "execution": {
     "iopub.execute_input": "2022-03-03T16:19:32.455284Z",
     "iopub.status.busy": "2022-03-03T16:19:32.454793Z",
     "iopub.status.idle": "2022-03-03T16:19:32.743904Z",
     "shell.execute_reply": "2022-03-03T16:19:32.743280Z",
     "shell.execute_reply.started": "2022-03-03T16:19:32.455234Z"
    },
    "tags": []
   },
   "outputs": [
    {
     "data": {
      "text/html": [
       "<div>\n",
       "<style scoped>\n",
       "    .dataframe tbody tr th:only-of-type {\n",
       "        vertical-align: middle;\n",
       "    }\n",
       "\n",
       "    .dataframe tbody tr th {\n",
       "        vertical-align: top;\n",
       "    }\n",
       "\n",
       "    .dataframe thead th {\n",
       "        text-align: right;\n",
       "    }\n",
       "</style>\n",
       "<table border=\"1\" class=\"dataframe\">\n",
       "  <thead>\n",
       "    <tr style=\"text-align: right;\">\n",
       "      <th>rank</th>\n",
       "      <th>1st</th>\n",
       "      <th>2nd</th>\n",
       "      <th>3rd</th>\n",
       "    </tr>\n",
       "    <tr>\n",
       "      <th>source</th>\n",
       "      <th></th>\n",
       "      <th></th>\n",
       "      <th></th>\n",
       "    </tr>\n",
       "  </thead>\n",
       "  <tbody>\n",
       "    <tr>\n",
       "      <th>image_0553.jpg</th>\n",
       "      <td>image_0233.jpg</td>\n",
       "      <td>image_1080.jpg</td>\n",
       "      <td>image_0234.jpg</td>\n",
       "    </tr>\n",
       "    <tr>\n",
       "      <th>image_0553.jpg</th>\n",
       "      <td>image_0233.jpg</td>\n",
       "      <td>image_1080.jpg</td>\n",
       "      <td>image_0234.jpg</td>\n",
       "    </tr>\n",
       "  </tbody>\n",
       "</table>\n",
       "</div>"
      ],
      "text/plain": [
       "rank                       1st             2nd             3rd\n",
       "source                                                        \n",
       "image_0553.jpg  image_0233.jpg  image_1080.jpg  image_0234.jpg\n",
       "image_0553.jpg  image_0233.jpg  image_1080.jpg  image_0234.jpg"
      ]
     },
     "execution_count": 20,
     "metadata": {},
     "output_type": "execute_result"
    }
   ],
   "source": [
    "testy1 = create_dist_row((test_path, test_df))\n",
    "testy2 = create_dist_row((test_path, test_df))\n",
    "pd.concat([testy1, testy2])"
   ]
  },
  {
   "cell_type": "code",
   "execution_count": 9,
   "id": "d7f77521-f08b-44a2-8240-80da4d5b6d3b",
   "metadata": {
    "execution": {
     "iopub.execute_input": "2022-03-03T16:13:19.621271Z",
     "iopub.status.busy": "2022-03-03T16:13:19.620683Z",
     "iopub.status.idle": "2022-03-03T16:13:19.627115Z",
     "shell.execute_reply": "2022-03-03T16:13:19.626130Z",
     "shell.execute_reply.started": "2022-03-03T16:13:19.621222Z"
    },
    "tags": []
   },
   "outputs": [],
   "source": [
    "test_path = Path(\"sample/image_0553.jpg\")"
   ]
  },
  {
   "cell_type": "code",
   "execution_count": 7,
   "id": "a3945585-ed60-466f-b8f6-6e7175482756",
   "metadata": {
    "execution": {
     "iopub.execute_input": "2022-03-03T16:13:13.789163Z",
     "iopub.status.busy": "2022-03-03T16:13:13.788578Z",
     "iopub.status.idle": "2022-03-03T16:13:13.800574Z",
     "shell.execute_reply": "2022-03-03T16:13:13.799398Z",
     "shell.execute_reply.started": "2022-03-03T16:13:13.789116Z"
    },
    "tags": []
   },
   "outputs": [],
   "source": [
    "%load_ext line_profiler"
   ]
  },
  {
   "cell_type": "code",
   "execution_count": 26,
   "id": "5c349c70-64a9-4665-a3de-fcfbfda85ee6",
   "metadata": {
    "execution": {
     "iopub.execute_input": "2022-03-03T16:28:34.544942Z",
     "iopub.status.busy": "2022-03-03T16:28:34.544407Z",
     "iopub.status.idle": "2022-03-03T16:28:34.701866Z",
     "shell.execute_reply": "2022-03-03T16:28:34.701040Z",
     "shell.execute_reply.started": "2022-03-03T16:28:34.544892Z"
    },
    "tags": []
   },
   "outputs": [
    {
     "data": {
      "text/plain": [
       "Timer unit: 1e-06 s\n",
       "\n",
       "Total time: 0.150693 s\n",
       "File: /tmp/ipykernel_791/2516022608.py\n",
       "Function: create_dist_row at line 1\n",
       "\n",
       "Line #      Hits         Time  Per Hit   % Time  Line Contents\n",
       "==============================================================\n",
       "     1                                           def create_dist_row(arg: Tuple[Path, pd.DataFrame]) -> pd.DataFrame:\n",
       "     2         1          4.0      4.0      0.0      source_path, dist_df = arg\n",
       "     3         1     143349.0 143349.0     95.1      col_filter = (dist_df[\"path1\"] == source_path.name) | (dist_df[\"path2\"] == source_path.name)\n",
       "     4         1       2409.0   2409.0      1.6      smallest_dists = dist_df[col_filter].nsmallest(3, \"dist\")\n",
       "     5         1       1593.0   1593.0      1.1      smallest_dists[\"target\"] = smallest_dists[\"key\"].str.replace(source_path.name, \"\", regex=False).str.replace(\"-\", \"\", regex=False)\n",
       "     6         1        442.0    442.0      0.3      smallest_dists[\"source\"] = source_path.name\n",
       "     7         1        626.0    626.0      0.4      smallest_dists[\"rank\"] = [\"1st\", \"2nd\", \"3rd\"]    \n",
       "     8         1       2270.0   2270.0      1.5      return smallest_dists.pivot(index=\"source\", columns = \"rank\", values=\"target\")"
      ]
     },
     "metadata": {},
     "output_type": "display_data"
    }
   ],
   "source": [
    "%lprun -f create_dist_row create_dist_row((test_path, test_df))"
   ]
  }
 ],
 "metadata": {
  "kernelspec": {
   "display_name": "Python 3 ",
   "language": "python",
   "name": "python3"
  },
  "language_info": {
   "codemirror_mode": {
    "name": "ipython",
    "version": 3
   },
   "file_extension": ".py",
   "mimetype": "text/x-python",
   "name": "python",
   "nbconvert_exporter": "python",
   "pygments_lexer": "ipython3",
   "version": "3.9.6"
  }
 },
 "nbformat": 4,
 "nbformat_minor": 5
}
