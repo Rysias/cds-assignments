{
 "cells": [
  {
   "cell_type": "markdown",
   "id": "b35c40ba-17fd-4ce5-b47d-8d9bd5e7a88a",
   "metadata": {},
   "source": [
    "# Experimenting for A1\n",
    "- Figuring out how to solve the stuff\n",
    "\n",
    "TODO: Refactor into a script"
   ]
  },
  {
   "cell_type": "code",
   "execution_count": 106,
   "id": "5ecb5bcf-c40f-45b4-bdba-420c7faf526c",
   "metadata": {
    "execution": {
     "iopub.execute_input": "2022-03-02T13:29:33.103175Z",
     "iopub.status.busy": "2022-03-02T13:29:33.102537Z",
     "iopub.status.idle": "2022-03-02T13:29:33.109727Z",
     "shell.execute_reply": "2022-03-02T13:29:33.108690Z",
     "shell.execute_reply.started": "2022-03-02T13:29:33.103124Z"
    },
    "tags": []
   },
   "outputs": [],
   "source": [
    "import cv2\n",
    "import imutils\n",
    "import functools\n",
    "import numpy as np\n",
    "import pandas as pd\n",
    "from pathlib import Path\n",
    "from typing import List"
   ]
  },
  {
   "cell_type": "code",
   "execution_count": 63,
   "id": "629a8098-4219-4cf1-87ad-615cd2d6c5aa",
   "metadata": {
    "execution": {
     "iopub.execute_input": "2022-03-02T13:01:54.893790Z",
     "iopub.status.busy": "2022-03-02T13:01:54.893244Z",
     "iopub.status.idle": "2022-03-02T13:01:54.907259Z",
     "shell.execute_reply": "2022-03-02T13:01:54.906399Z",
     "shell.execute_reply.started": "2022-03-02T13:01:54.893738Z"
    },
    "tags": []
   },
   "outputs": [],
   "source": [
    "# Helper functions\n",
    "def to_gray(img): \n",
    "    return cv2.cvtColor(img, cv2.COLOR_BGR2GRAY).astype(np.uint8)\n",
    "\n",
    "def calc_color_hist(img, key=None):         \n",
    "    return cv2.calcHist([img], [0, 1, 2], None, [8, 8, 8], [0, 256, 0, 256, 0, 256])\n",
    "    \n",
    "def create_norm_hist(img: np.ndarray, key=None) -> np.ndarray: \n",
    "    hist = calc_color_hist(img, key=key)\n",
    "    return cv2.normalize(hist, hist).flatten()\n",
    "\n",
    "def read_img(path: Path) -> np.ndarray: \n",
    "    return cv2.imread(str(path))\n",
    "\n",
    "def process_img(img_path: Path):\n",
    "    img = read_img(img_path)\n",
    "    return create_norm_hist(img)\n",
    "\n",
    "def compare_hists(source_hist, candidate_hist):\n",
    "    return cv2.compareHist(source_hist, candidate_hist, cv2.HISTCMP_CHISQR)"
   ]
  },
  {
   "cell_type": "code",
   "execution_count": 2,
   "id": "6eb19c70-0b89-4c38-b477-509ac70c5d1b",
   "metadata": {
    "execution": {
     "iopub.execute_input": "2022-03-02T12:19:21.976242Z",
     "iopub.status.busy": "2022-03-02T12:19:21.975720Z",
     "iopub.status.idle": "2022-03-02T12:19:21.983443Z",
     "shell.execute_reply": "2022-03-02T12:19:21.981972Z",
     "shell.execute_reply.started": "2022-03-02T12:19:21.976194Z"
    },
    "tags": []
   },
   "outputs": [],
   "source": [
    "DATA_DIR = Path(\"../../../CDS-VIS/flowers\")\n",
    "assert DATA_DIR.exists()"
   ]
  },
  {
   "cell_type": "code",
   "execution_count": 64,
   "id": "8d0665d2-aff5-4404-9098-c108e63b1589",
   "metadata": {
    "execution": {
     "iopub.execute_input": "2022-03-02T13:02:01.323031Z",
     "iopub.status.busy": "2022-03-02T13:02:01.322321Z",
     "iopub.status.idle": "2022-03-02T13:02:01.341044Z",
     "shell.execute_reply": "2022-03-02T13:02:01.340228Z",
     "shell.execute_reply.started": "2022-03-02T13:02:01.322977Z"
    },
    "tags": []
   },
   "outputs": [],
   "source": [
    "all_flowers = list(DATA_DIR.glob(\"*.jpg\"))\n",
    "test_flower = all_flowers[0]\n",
    "all_flowers.remove(test_flower)\n",
    "assert test_flower not in all_flowers"
   ]
  },
  {
   "cell_type": "code",
   "execution_count": 77,
   "id": "6c9a976c-0464-4c47-9e96-269a7b1df98e",
   "metadata": {
    "execution": {
     "iopub.execute_input": "2022-03-02T13:09:31.612151Z",
     "iopub.status.busy": "2022-03-02T13:09:31.611456Z",
     "iopub.status.idle": "2022-03-02T13:09:31.627148Z",
     "shell.execute_reply": "2022-03-02T13:09:31.626428Z",
     "shell.execute_reply.started": "2022-03-02T13:09:31.612098Z"
    },
    "tags": []
   },
   "outputs": [],
   "source": [
    "source_img = read_img(test_flower)\n",
    "testy = create_norm_hist(source_img)"
   ]
  },
  {
   "cell_type": "code",
   "execution_count": 36,
   "id": "faf89b5f-2eee-4627-8afa-2ae020e93eef",
   "metadata": {
    "execution": {
     "iopub.execute_input": "2022-03-02T12:39:14.113262Z",
     "iopub.status.busy": "2022-03-02T12:39:14.112713Z",
     "iopub.status.idle": "2022-03-02T12:39:14.123232Z",
     "shell.execute_reply": "2022-03-02T12:39:14.122119Z",
     "shell.execute_reply.started": "2022-03-02T12:39:14.113208Z"
    },
    "tags": []
   },
   "outputs": [
    {
     "data": {
      "text/plain": [
       "0.0"
      ]
     },
     "execution_count": 36,
     "metadata": {},
     "output_type": "execute_result"
    }
   ],
   "source": [
    "cv2.compareHist(testy, testy, cv2.HISTCMP_CHISQR)"
   ]
  },
  {
   "cell_type": "code",
   "execution_count": 46,
   "id": "c9024fe8-eac1-4280-8477-6f2fc468c2ec",
   "metadata": {
    "execution": {
     "iopub.execute_input": "2022-03-02T12:45:24.074975Z",
     "iopub.status.busy": "2022-03-02T12:45:24.074419Z",
     "iopub.status.idle": "2022-03-02T12:45:24.090096Z",
     "shell.execute_reply": "2022-03-02T12:45:24.089150Z",
     "shell.execute_reply.started": "2022-03-02T12:45:24.074922Z"
    },
    "tags": []
   },
   "outputs": [],
   "source": [
    "source_hist = process_img(test_flower)\n",
    "\n"
   ]
  },
  {
   "cell_type": "code",
   "execution_count": 67,
   "id": "5bb5c30e-a79d-43f2-9a1f-ace7e8af8437",
   "metadata": {
    "execution": {
     "iopub.execute_input": "2022-03-02T13:03:16.427150Z",
     "iopub.status.busy": "2022-03-02T13:03:16.426646Z",
     "iopub.status.idle": "2022-03-02T13:03:16.438648Z",
     "shell.execute_reply": "2022-03-02T13:03:16.437856Z",
     "shell.execute_reply.started": "2022-03-02T13:03:16.427102Z"
    },
    "tags": []
   },
   "outputs": [],
   "source": [
    "dist_df = pd.DataFrame({\"dist\": 0}, index=all_flowers)"
   ]
  },
  {
   "cell_type": "code",
   "execution_count": 68,
   "id": "4c2b818d-e9c4-47ac-b6de-aebfd096e34b",
   "metadata": {
    "execution": {
     "iopub.execute_input": "2022-03-02T13:03:21.395399Z",
     "iopub.status.busy": "2022-03-02T13:03:21.394784Z",
     "iopub.status.idle": "2022-03-02T13:03:21.409980Z",
     "shell.execute_reply": "2022-03-02T13:03:21.409154Z",
     "shell.execute_reply.started": "2022-03-02T13:03:21.395348Z"
    },
    "tags": []
   },
   "outputs": [
    {
     "data": {
      "text/html": [
       "<div>\n",
       "<style scoped>\n",
       "    .dataframe tbody tr th:only-of-type {\n",
       "        vertical-align: middle;\n",
       "    }\n",
       "\n",
       "    .dataframe tbody tr th {\n",
       "        vertical-align: top;\n",
       "    }\n",
       "\n",
       "    .dataframe thead th {\n",
       "        text-align: right;\n",
       "    }\n",
       "</style>\n",
       "<table border=\"1\" class=\"dataframe\">\n",
       "  <thead>\n",
       "    <tr style=\"text-align: right;\">\n",
       "      <th></th>\n",
       "      <th>dist</th>\n",
       "    </tr>\n",
       "  </thead>\n",
       "  <tbody>\n",
       "    <tr>\n",
       "      <th>../../../CDS-VIS/flowers/image_0772.jpg</th>\n",
       "      <td>0</td>\n",
       "    </tr>\n",
       "    <tr>\n",
       "      <th>../../../CDS-VIS/flowers/image_1307.jpg</th>\n",
       "      <td>0</td>\n",
       "    </tr>\n",
       "    <tr>\n",
       "      <th>../../../CDS-VIS/flowers/image_0127.jpg</th>\n",
       "      <td>0</td>\n",
       "    </tr>\n",
       "    <tr>\n",
       "      <th>../../../CDS-VIS/flowers/image_0479.jpg</th>\n",
       "      <td>0</td>\n",
       "    </tr>\n",
       "    <tr>\n",
       "      <th>../../../CDS-VIS/flowers/image_1250.jpg</th>\n",
       "      <td>0</td>\n",
       "    </tr>\n",
       "    <tr>\n",
       "      <th>...</th>\n",
       "      <td>...</td>\n",
       "    </tr>\n",
       "    <tr>\n",
       "      <th>../../../CDS-VIS/flowers/image_0682.jpg</th>\n",
       "      <td>0</td>\n",
       "    </tr>\n",
       "    <tr>\n",
       "      <th>../../../CDS-VIS/flowers/image_1342.jpg</th>\n",
       "      <td>0</td>\n",
       "    </tr>\n",
       "    <tr>\n",
       "      <th>../../../CDS-VIS/flowers/image_1025.jpg</th>\n",
       "      <td>0</td>\n",
       "    </tr>\n",
       "    <tr>\n",
       "      <th>../../../CDS-VIS/flowers/image_1061.jpg</th>\n",
       "      <td>0</td>\n",
       "    </tr>\n",
       "    <tr>\n",
       "      <th>../../../CDS-VIS/flowers/image_0134.jpg</th>\n",
       "      <td>0</td>\n",
       "    </tr>\n",
       "  </tbody>\n",
       "</table>\n",
       "<p>1359 rows × 1 columns</p>\n",
       "</div>"
      ],
      "text/plain": [
       "                                         dist\n",
       "../../../CDS-VIS/flowers/image_0772.jpg     0\n",
       "../../../CDS-VIS/flowers/image_1307.jpg     0\n",
       "../../../CDS-VIS/flowers/image_0127.jpg     0\n",
       "../../../CDS-VIS/flowers/image_0479.jpg     0\n",
       "../../../CDS-VIS/flowers/image_1250.jpg     0\n",
       "...                                       ...\n",
       "../../../CDS-VIS/flowers/image_0682.jpg     0\n",
       "../../../CDS-VIS/flowers/image_1342.jpg     0\n",
       "../../../CDS-VIS/flowers/image_1025.jpg     0\n",
       "../../../CDS-VIS/flowers/image_1061.jpg     0\n",
       "../../../CDS-VIS/flowers/image_0134.jpg     0\n",
       "\n",
       "[1359 rows x 1 columns]"
      ]
     },
     "execution_count": 68,
     "metadata": {},
     "output_type": "execute_result"
    }
   ],
   "source": [
    "dist_df"
   ]
  },
  {
   "cell_type": "code",
   "execution_count": 138,
   "id": "a6937b85-bc97-4b15-a436-2416e9d2715c",
   "metadata": {
    "execution": {
     "iopub.execute_input": "2022-03-02T13:49:53.250811Z",
     "iopub.status.busy": "2022-03-02T13:49:53.250303Z",
     "iopub.status.idle": "2022-03-02T13:49:58.779218Z",
     "shell.execute_reply": "2022-03-02T13:49:58.778542Z",
     "shell.execute_reply.started": "2022-03-02T13:49:53.250764Z"
    },
    "tags": []
   },
   "outputs": [
    {
     "name": "stdout",
     "output_type": "stream",
     "text": [
      "processed 0 imgs!\n",
      "processed 200 imgs!\n",
      "processed 400 imgs!\n",
      "processed 600 imgs!\n",
      "processed 800 imgs!\n",
      "processed 1000 imgs!\n",
      "processed 1200 imgs!\n"
     ]
    }
   ],
   "source": [
    "for i, flower in enumerate(all_flowers):\n",
    "    candidate_hist = process_img(flower)\n",
    "    dist_df.loc[flower, \"dist\"] += compare_hists(source_hist, candidate_hist)\n",
    "    if i % 200 == 0: \n",
    "        print(f\"processed {i} imgs!\")"
   ]
  },
  {
   "cell_type": "code",
   "execution_count": 153,
   "id": "6a20726a-63d2-4fb3-b2e7-6da81d352385",
   "metadata": {
    "execution": {
     "iopub.execute_input": "2022-03-02T13:56:33.257826Z",
     "iopub.status.busy": "2022-03-02T13:56:33.257285Z",
     "iopub.status.idle": "2022-03-02T13:56:33.275743Z",
     "shell.execute_reply": "2022-03-02T13:56:33.274800Z",
     "shell.execute_reply.started": "2022-03-02T13:56:33.257775Z"
    },
    "tags": []
   },
   "outputs": [
    {
     "data": {
      "text/html": [
       "<div>\n",
       "<style scoped>\n",
       "    .dataframe tbody tr th:only-of-type {\n",
       "        vertical-align: middle;\n",
       "    }\n",
       "\n",
       "    .dataframe tbody tr th {\n",
       "        vertical-align: top;\n",
       "    }\n",
       "\n",
       "    .dataframe thead th {\n",
       "        text-align: right;\n",
       "    }\n",
       "</style>\n",
       "<table border=\"1\" class=\"dataframe\">\n",
       "  <thead>\n",
       "    <tr style=\"text-align: right;\">\n",
       "      <th></th>\n",
       "      <th>source</th>\n",
       "      <th>1st</th>\n",
       "      <th>2nd</th>\n",
       "      <th>3rd</th>\n",
       "    </tr>\n",
       "  </thead>\n",
       "  <tbody>\n",
       "    <tr>\n",
       "      <th>0</th>\n",
       "      <td>image_1079.jpg</td>\n",
       "      <td>image_0626.jpg</td>\n",
       "      <td>image_0228.jpg</td>\n",
       "      <td>image_0077.jpg</td>\n",
       "    </tr>\n",
       "  </tbody>\n",
       "</table>\n",
       "</div>"
      ],
      "text/plain": [
       "           source             1st             2nd             3rd\n",
       "0  image_1079.jpg  image_0626.jpg  image_0228.jpg  image_0077.jpg"
      ]
     },
     "execution_count": 153,
     "metadata": {},
     "output_type": "execute_result"
    }
   ],
   "source": [
    "closest_imgs = dist_df.nsmallest(3, \"dist\")\n",
    "output_dict = {\"source\": [test_flower.name], \"1st\": [closest_imgs.index[0].name], \"2nd\": [closest_imgs.index[1].name], \"3rd\": [closest_imgs.index[2].name]}\n",
    "pd.DataFrame.from_dict(output_dict)"
   ]
  },
  {
   "cell_type": "code",
   "execution_count": 79,
   "id": "276dbbe1-2c98-4697-adf6-279b1fde1f2e",
   "metadata": {
    "execution": {
     "iopub.execute_input": "2022-03-02T13:10:14.517914Z",
     "iopub.status.busy": "2022-03-02T13:10:14.517377Z",
     "iopub.status.idle": "2022-03-02T13:10:14.528446Z",
     "shell.execute_reply": "2022-03-02T13:10:14.527390Z",
     "shell.execute_reply.started": "2022-03-02T13:10:14.517862Z"
    },
    "tags": []
   },
   "outputs": [],
   "source": [
    "def add_text(img, text):\n",
    "    new_img = img.copy()\n",
    "    # setup text\n",
    "    font = cv2.FONT_HERSHEY_SIMPLEX\n",
    "\n",
    "    # get boundary of this text\n",
    "    textsize = cv2.getTextSize(text, font, 1, 2)[0]\n",
    "\n",
    "    # get coords based on boundary\n",
    "    textX = (img.shape[1] - textsize[0]) // 2\n",
    "    textY = (img.shape[0] + textsize[1]) // 2\n",
    "\n",
    "    # add text centered on image\n",
    "    cv2.putText(new_img, text, (textX, textY ), font, 1, (255, 255, 255), 2)\n",
    "    \n",
    "    return new_img"
   ]
  },
  {
   "cell_type": "code",
   "execution_count": 80,
   "id": "fae88be5-09ce-4071-b104-59e5ae72f365",
   "metadata": {
    "execution": {
     "iopub.execute_input": "2022-03-02T13:10:17.093953Z",
     "iopub.status.busy": "2022-03-02T13:10:17.093423Z",
     "iopub.status.idle": "2022-03-02T13:10:17.113579Z",
     "shell.execute_reply": "2022-03-02T13:10:17.112968Z",
     "shell.execute_reply.started": "2022-03-02T13:10:17.093904Z"
    },
    "tags": []
   },
   "outputs": [
    {
     "data": {
      "text/plain": [
       "True"
      ]
     },
     "execution_count": 80,
     "metadata": {},
     "output_type": "execute_result"
    }
   ],
   "source": [
    "cv2.imwrite(\"test_img.jpg\", add_text(source_img, \"testy\"))"
   ]
  },
  {
   "cell_type": "code",
   "execution_count": 82,
   "id": "fe1df15a-6b0c-4c45-aa19-4f13ad924567",
   "metadata": {
    "execution": {
     "iopub.execute_input": "2022-03-02T13:11:46.321665Z",
     "iopub.status.busy": "2022-03-02T13:11:46.321134Z",
     "iopub.status.idle": "2022-03-02T13:11:46.331272Z",
     "shell.execute_reply": "2022-03-02T13:11:46.329949Z",
     "shell.execute_reply.started": "2022-03-02T13:11:46.321616Z"
    },
    "tags": []
   },
   "outputs": [
    {
     "data": {
      "text/plain": [
       "'dist: 2.13'"
      ]
     },
     "execution_count": 82,
     "metadata": {},
     "output_type": "execute_result"
    }
   ],
   "source": [
    "def format_dist(dist: float) -> str:\n",
    "    return f\"dist:{dist: .2f}\"\n",
    "\n",
    "format_dist(2.132456)"
   ]
  },
  {
   "cell_type": "code",
   "execution_count": 132,
   "id": "c0b24a48-f255-4134-a9a1-79d62e35f472",
   "metadata": {
    "execution": {
     "iopub.execute_input": "2022-03-02T13:46:59.475579Z",
     "iopub.status.busy": "2022-03-02T13:46:59.475073Z",
     "iopub.status.idle": "2022-03-02T13:46:59.482545Z",
     "shell.execute_reply": "2022-03-02T13:46:59.481332Z",
     "shell.execute_reply.started": "2022-03-02T13:46:59.475532Z"
    },
    "tags": []
   },
   "outputs": [],
   "source": [
    "def resize_square(img, size=300):\n",
    "    return cv2.resize(img, dsize=(size, size))"
   ]
  },
  {
   "cell_type": "code",
   "execution_count": 133,
   "id": "77abccf2-db06-4dfe-b111-b386e7ef31d5",
   "metadata": {
    "execution": {
     "iopub.execute_input": "2022-03-02T13:47:03.490074Z",
     "iopub.status.busy": "2022-03-02T13:47:03.489565Z",
     "iopub.status.idle": "2022-03-02T13:47:03.517232Z",
     "shell.execute_reply": "2022-03-02T13:47:03.516502Z",
     "shell.execute_reply.started": "2022-03-02T13:47:03.490028Z"
    },
    "tags": []
   },
   "outputs": [],
   "source": [
    "dist_img_list = [resize_square(add_text(source_img, \"SOURCE\"))]\n",
    "for filename, row in dist_df.nsmallest(3, \"dist\").iterrows():\n",
    "    img = resize_square(read_img(filename))\n",
    "    assert img.shape[1] == 300\n",
    "    dist_img_list.append(add_text(img, format_dist(row[\"dist\"])))"
   ]
  },
  {
   "cell_type": "code",
   "execution_count": 136,
   "id": "aa032b76-f6b2-4f82-8663-642ac0690ef2",
   "metadata": {
    "execution": {
     "iopub.execute_input": "2022-03-02T13:47:23.702299Z",
     "iopub.status.busy": "2022-03-02T13:47:23.701793Z",
     "iopub.status.idle": "2022-03-02T13:47:23.714522Z",
     "shell.execute_reply": "2022-03-02T13:47:23.713801Z",
     "shell.execute_reply.started": "2022-03-02T13:47:23.702249Z"
    },
    "tags": []
   },
   "outputs": [],
   "source": [
    "import math \n",
    "def arrange_square(img_list: List[np.ndarray], img_dim=300) -> np.ndarray: \n",
    "    \"\"\" Adapted from https://stackoverflow.com/a/52283965 \"\"\" \n",
    "    if len(img_list) not in [i**2 for i in range(10)]: \n",
    "        raise ValueError(\"List must have square number of elements\")\n",
    "    \n",
    "    canvas_shape = math.isqrt(len(img_list))\n",
    "    imgmatrix = np.zeros((canvas_shape*img_dim, canvas_shape*img_dim, 3), np.uint8)\n",
    "    #Prepare an iterable with the right dimensions\n",
    "    positions = itertools.product(range(canvas_shape), range(canvas_shape))\n",
    "\n",
    "    for (y_i, x_i), img in zip(positions, img_list):\n",
    "        x = x_i * img_dim\n",
    "        y = y_i * img_dim\n",
    "        imgmatrix[y:y+img_dim, x:x+img_dim, :] = img\n",
    "    return imgmatrix\n",
    "        "
   ]
  },
  {
   "cell_type": "code",
   "execution_count": 154,
   "id": "7e638187-46a4-4910-b390-5c3043f397c5",
   "metadata": {
    "execution": {
     "iopub.execute_input": "2022-03-02T13:57:21.874216Z",
     "iopub.status.busy": "2022-03-02T13:57:21.873698Z",
     "iopub.status.idle": "2022-03-02T13:57:21.881366Z",
     "shell.execute_reply": "2022-03-02T13:57:21.880485Z",
     "shell.execute_reply.started": "2022-03-02T13:57:21.874168Z"
    },
    "tags": []
   },
   "outputs": [],
   "source": [
    "import itertools\n",
    "testy = arrange_square(dist_img_list)"
   ]
  },
  {
   "cell_type": "code",
   "execution_count": 137,
   "id": "4e791dda-efeb-48c0-8c55-4f74beac2098",
   "metadata": {
    "execution": {
     "iopub.execute_input": "2022-03-02T13:47:42.798892Z",
     "iopub.status.busy": "2022-03-02T13:47:42.798193Z",
     "iopub.status.idle": "2022-03-02T13:47:42.835598Z",
     "shell.execute_reply": "2022-03-02T13:47:42.834963Z",
     "shell.execute_reply.started": "2022-03-02T13:47:42.798842Z"
    },
    "tags": []
   },
   "outputs": [
    {
     "data": {
      "text/plain": [
       "True"
      ]
     },
     "execution_count": 137,
     "metadata": {},
     "output_type": "execute_result"
    }
   ],
   "source": [
    "all_imgs = np.vstack(dist_img_list)\n",
    "cv2.imwrite(\"testy.png\", testy)"
   ]
  }
 ],
 "metadata": {
  "kernelspec": {
   "display_name": "Python 3 ",
   "language": "python",
   "name": "python3"
  },
  "language_info": {
   "codemirror_mode": {
    "name": "ipython",
    "version": 3
   },
   "file_extension": ".py",
   "mimetype": "text/x-python",
   "name": "python",
   "nbconvert_exporter": "python",
   "pygments_lexer": "ipython3",
   "version": "3.9.6"
  }
 },
 "nbformat": 4,
 "nbformat_minor": 5
}
