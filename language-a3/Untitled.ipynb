{
 "cells": [
  {
   "cell_type": "code",
   "execution_count": 36,
   "id": "072d6a14-fe9f-4748-b9f7-0fee7272f318",
   "metadata": {
    "execution": {
     "iopub.execute_input": "2022-03-21T11:34:20.551905Z",
     "iopub.status.busy": "2022-03-21T11:34:20.551235Z",
     "iopub.status.idle": "2022-03-21T11:34:20.560326Z",
     "shell.execute_reply": "2022-03-21T11:34:20.559286Z",
     "shell.execute_reply.started": "2022-03-21T11:34:20.551833Z"
    },
    "tags": []
   },
   "outputs": [],
   "source": [
    "import pandas as pd\n",
    "import networkx as nx\n",
    "import ipytest\n",
    "from pathlib import Path\n",
    "\n",
    "from typing import Dict, Callable\n",
    "ipytest.autoconfig()"
   ]
  },
  {
   "cell_type": "code",
   "execution_count": 12,
   "id": "67c74d1e-3e2f-4b37-b235-e0c58225f7e3",
   "metadata": {
    "execution": {
     "iopub.execute_input": "2022-03-21T11:13:46.564133Z",
     "iopub.status.busy": "2022-03-21T11:13:46.563589Z",
     "iopub.status.idle": "2022-03-21T11:13:46.577059Z",
     "shell.execute_reply": "2022-03-21T11:13:46.575609Z",
     "shell.execute_reply.started": "2022-03-21T11:13:46.564080Z"
    },
    "tags": []
   },
   "outputs": [
    {
     "name": "stdout",
     "output_type": "stream",
     "text": [
      "[PosixPath('../../../CDS-LANG/network_data/R3.csv'), PosixPath('../../../CDS-LANG/network_data/2H6.csv'), PosixPath('../../../CDS-LANG/network_data/1H6.csv'), PosixPath('../../../CDS-LANG/network_data/1H4.csv'), PosixPath('../../../CDS-LANG/network_data/H8.csv'), PosixPath('../../../CDS-LANG/network_data/3H6.csv'), PosixPath('../../../CDS-LANG/network_data/2H4.csv'), PosixPath('../../../CDS-LANG/network_data/H5.csv'), PosixPath('../../../CDS-LANG/network_data/R2.csv'), PosixPath('../../../CDS-LANG/network_data/KJ.csv')]\n"
     ]
    }
   ],
   "source": [
    "DATA_DIR = Path(\"../../../CDS-LANG/network_data\")\n",
    "assert DATA_DIR.exists()"
   ]
  },
  {
   "cell_type": "code",
   "execution_count": 15,
   "id": "9b51be85-486f-44a9-9d22-984e2038d1fc",
   "metadata": {
    "execution": {
     "iopub.execute_input": "2022-03-21T11:15:35.548505Z",
     "iopub.status.busy": "2022-03-21T11:15:35.547949Z",
     "iopub.status.idle": "2022-03-21T11:15:35.561862Z",
     "shell.execute_reply": "2022-03-21T11:15:35.560813Z",
     "shell.execute_reply.started": "2022-03-21T11:15:35.548451Z"
    },
    "tags": []
   },
   "outputs": [],
   "source": [
    "all_files = list(DATA_DIR.glob(\"*.csv\"))\n",
    "test_df = pd.read_csv(all_files[0], sep=\"\\t\")"
   ]
  },
  {
   "cell_type": "code",
   "execution_count": 17,
   "id": "22bf7837-9a00-47e1-a41a-05f4b454d347",
   "metadata": {
    "execution": {
     "iopub.execute_input": "2022-03-21T11:17:55.005326Z",
     "iopub.status.busy": "2022-03-21T11:17:55.004775Z",
     "iopub.status.idle": "2022-03-21T11:17:55.014983Z",
     "shell.execute_reply": "2022-03-21T11:17:55.013818Z",
     "shell.execute_reply.started": "2022-03-21T11:17:55.005273Z"
    },
    "tags": []
   },
   "outputs": [],
   "source": [
    "G = nx.from_pandas_edgelist(test_df, source=\"Source\", target=\"Target\", edge_attr=[\"Weight\"])"
   ]
  },
  {
   "cell_type": "markdown",
   "id": "70d7bf34-3bd6-422b-b457-7c73ae751064",
   "metadata": {},
   "source": [
    "- Save a CSV which shows the following for every node:\n",
    "   - name; degree; betweenness centrality; eigenvector_centrality"
   ]
  },
  {
   "cell_type": "code",
   "execution_count": 60,
   "id": "d571047a-62ca-48c9-a45c-d33e43e38cfb",
   "metadata": {
    "execution": {
     "iopub.execute_input": "2022-03-21T11:49:36.154232Z",
     "iopub.status.busy": "2022-03-21T11:49:36.153707Z",
     "iopub.status.idle": "2022-03-21T11:49:36.577984Z",
     "shell.execute_reply": "2022-03-21T11:49:36.576333Z",
     "shell.execute_reply.started": "2022-03-21T11:49:36.154165Z"
    },
    "tags": []
   },
   "outputs": [
    {
     "name": "stdout",
     "output_type": "stream",
     "text": [
      "\u001b[32m.\u001b[0m\u001b[32m                                                                                            [100%]\u001b[0m\n",
      "\u001b[32m\u001b[32m\u001b[1m1 passed\u001b[0m\u001b[32m in 0.17s\u001b[0m\u001b[0m\n"
     ]
    }
   ],
   "source": [
    "%%ipytest\n",
    "import numpy as np\n",
    "\n",
    "def test_calc_measures():\n",
    "    graph = nx.watts_strogatz_graph(10, 3, 0.3)\n",
    "    measure_dict = {\"degree_centrality\": nx.degree_centrality, \"betweenness_centrality\": nx.betweenness_centrality}\n",
    "    measure_df = calc_measures(graph, measure_dict)\n",
    "    assert len(measure_df.columns) == 3\n",
    "    assert \"name\" in measure_df.columns\n",
    "    assert measure_df[\"degree_centrality\"].min() > 0\n",
    "\n",
    "def calc_measures(graph: nx.Graph, measure_dict: Dict[str, Callable]) -> pd.DataFrame:\n",
    "    col_dict = {name: [] for name in measure_dict}\n",
    "    for func_name, func in measure_dict.items():\n",
    "        col_dict[func_name] = func(G)\n",
    "    return pd.DataFrame.from_records(col_dict).reset_index().rename(columns={\"index\": \"name\"})"
   ]
  },
  {
   "cell_type": "code",
   "execution_count": 81,
   "id": "9773bf85-aa1c-44cb-b7ab-423a20611ccc",
   "metadata": {
    "execution": {
     "iopub.execute_input": "2022-03-21T13:09:06.704594Z",
     "iopub.status.busy": "2022-03-21T13:09:06.704073Z",
     "iopub.status.idle": "2022-03-21T13:09:06.745849Z",
     "shell.execute_reply": "2022-03-21T13:09:06.745144Z",
     "shell.execute_reply.started": "2022-03-21T13:09:06.704544Z"
    },
    "tags": []
   },
   "outputs": [],
   "source": [
    "from functools import partial\n",
    "measure_dict = {\"degree_centrality\": nx.degree_centrality, \n",
    "                \"betweenness_centrality\": partial(nx.betweenness_centrality, weight=\"Weigth\"), \n",
    "                 \"eigenvector_centrality\": partial(nx.eigenvector_centrality, weight=\"Weigth\"),\n",
    "               }\n",
    "\n",
    "measure_df = calc_measures(G, measure_dict)"
   ]
  },
  {
   "cell_type": "code",
   "execution_count": 64,
   "id": "c1681ca9-476b-42f1-bbb6-7f8f2b47a79e",
   "metadata": {
    "execution": {
     "iopub.execute_input": "2022-03-21T11:52:07.225368Z",
     "iopub.status.busy": "2022-03-21T11:52:07.224841Z",
     "iopub.status.idle": "2022-03-21T11:52:07.244971Z",
     "shell.execute_reply": "2022-03-21T11:52:07.244231Z",
     "shell.execute_reply.started": "2022-03-21T11:52:07.225317Z"
    },
    "tags": []
   },
   "outputs": [
    {
     "data": {
      "text/html": [
       "<div>\n",
       "<style scoped>\n",
       "    .dataframe tbody tr th:only-of-type {\n",
       "        vertical-align: middle;\n",
       "    }\n",
       "\n",
       "    .dataframe tbody tr th {\n",
       "        vertical-align: top;\n",
       "    }\n",
       "\n",
       "    .dataframe thead th {\n",
       "        text-align: right;\n",
       "    }\n",
       "</style>\n",
       "<table border=\"1\" class=\"dataframe\">\n",
       "  <thead>\n",
       "    <tr style=\"text-align: right;\">\n",
       "      <th></th>\n",
       "      <th>name</th>\n",
       "      <th>betweenness_centrality</th>\n",
       "      <th>degree_centrality</th>\n",
       "      <th>eigenvector_centrality</th>\n",
       "    </tr>\n",
       "  </thead>\n",
       "  <tbody>\n",
       "    <tr>\n",
       "      <th>0</th>\n",
       "      <td>Clarence</td>\n",
       "      <td>0.015410</td>\n",
       "      <td>0.076923</td>\n",
       "      <td>0.067212</td>\n",
       "    </tr>\n",
       "    <tr>\n",
       "      <th>1</th>\n",
       "      <td>Richard</td>\n",
       "      <td>0.529803</td>\n",
       "      <td>0.507692</td>\n",
       "      <td>0.425085</td>\n",
       "    </tr>\n",
       "    <tr>\n",
       "      <th>2</th>\n",
       "      <td>Brakenbury</td>\n",
       "      <td>0.039261</td>\n",
       "      <td>0.123077</td>\n",
       "      <td>0.133008</td>\n",
       "    </tr>\n",
       "    <tr>\n",
       "      <th>3</th>\n",
       "      <td>Hastings</td>\n",
       "      <td>0.094631</td>\n",
       "      <td>0.261538</td>\n",
       "      <td>0.298027</td>\n",
       "    </tr>\n",
       "    <tr>\n",
       "      <th>4</th>\n",
       "      <td>Anne</td>\n",
       "      <td>0.030206</td>\n",
       "      <td>0.107692</td>\n",
       "      <td>0.157726</td>\n",
       "    </tr>\n",
       "    <tr>\n",
       "      <th>...</th>\n",
       "      <td>...</td>\n",
       "      <td>...</td>\n",
       "      <td>...</td>\n",
       "      <td>...</td>\n",
       "    </tr>\n",
       "    <tr>\n",
       "      <th>61</th>\n",
       "      <td>GhostAnne</td>\n",
       "      <td>0.028045</td>\n",
       "      <td>0.046154</td>\n",
       "      <td>0.005253</td>\n",
       "    </tr>\n",
       "    <tr>\n",
       "      <th>62</th>\n",
       "      <td>GhostBuckingham</td>\n",
       "      <td>0.044311</td>\n",
       "      <td>0.030769</td>\n",
       "      <td>0.043157</td>\n",
       "    </tr>\n",
       "    <tr>\n",
       "      <th>63</th>\n",
       "      <td>1Lord</td>\n",
       "      <td>0.000000</td>\n",
       "      <td>0.030769</td>\n",
       "      <td>0.050515</td>\n",
       "    </tr>\n",
       "    <tr>\n",
       "      <th>64</th>\n",
       "      <td>2Lord</td>\n",
       "      <td>0.000000</td>\n",
       "      <td>0.030769</td>\n",
       "      <td>0.050515</td>\n",
       "    </tr>\n",
       "    <tr>\n",
       "      <th>65</th>\n",
       "      <td>7Messenger</td>\n",
       "      <td>0.000000</td>\n",
       "      <td>0.015385</td>\n",
       "      <td>0.042630</td>\n",
       "    </tr>\n",
       "  </tbody>\n",
       "</table>\n",
       "<p>66 rows × 4 columns</p>\n",
       "</div>"
      ],
      "text/plain": [
       "               name  betweenness_centrality  degree_centrality  \\\n",
       "0          Clarence                0.015410           0.076923   \n",
       "1           Richard                0.529803           0.507692   \n",
       "2        Brakenbury                0.039261           0.123077   \n",
       "3          Hastings                0.094631           0.261538   \n",
       "4              Anne                0.030206           0.107692   \n",
       "..              ...                     ...                ...   \n",
       "61        GhostAnne                0.028045           0.046154   \n",
       "62  GhostBuckingham                0.044311           0.030769   \n",
       "63            1Lord                0.000000           0.030769   \n",
       "64            2Lord                0.000000           0.030769   \n",
       "65       7Messenger                0.000000           0.015385   \n",
       "\n",
       "    eigenvector_centrality  \n",
       "0                 0.067212  \n",
       "1                 0.425085  \n",
       "2                 0.133008  \n",
       "3                 0.298027  \n",
       "4                 0.157726  \n",
       "..                     ...  \n",
       "61                0.005253  \n",
       "62                0.043157  \n",
       "63                0.050515  \n",
       "64                0.050515  \n",
       "65                0.042630  \n",
       "\n",
       "[66 rows x 4 columns]"
      ]
     },
     "execution_count": 64,
     "metadata": {},
     "output_type": "execute_result"
    }
   ],
   "source": [
    "measure_df"
   ]
  },
  {
   "cell_type": "code",
   "execution_count": 54,
   "id": "d44e5681-c98f-4b36-94de-c159098ed9e1",
   "metadata": {
    "execution": {
     "iopub.execute_input": "2022-03-21T11:47:15.071193Z",
     "iopub.status.busy": "2022-03-21T11:47:15.070673Z",
     "iopub.status.idle": "2022-03-21T11:47:15.092000Z",
     "shell.execute_reply": "2022-03-21T11:47:15.091105Z",
     "shell.execute_reply.started": "2022-03-21T11:47:15.071144Z"
    },
    "tags": []
   },
   "outputs": [
    {
     "data": {
      "text/html": [
       "<div>\n",
       "<style scoped>\n",
       "    .dataframe tbody tr th:only-of-type {\n",
       "        vertical-align: middle;\n",
       "    }\n",
       "\n",
       "    .dataframe tbody tr th {\n",
       "        vertical-align: top;\n",
       "    }\n",
       "\n",
       "    .dataframe thead th {\n",
       "        text-align: right;\n",
       "    }\n",
       "</style>\n",
       "<table border=\"1\" class=\"dataframe\">\n",
       "  <thead>\n",
       "    <tr style=\"text-align: right;\">\n",
       "      <th></th>\n",
       "      <th>name</th>\n",
       "      <th>betweenness_centrality</th>\n",
       "      <th>degree_centrality</th>\n",
       "    </tr>\n",
       "  </thead>\n",
       "  <tbody>\n",
       "    <tr>\n",
       "      <th>0</th>\n",
       "      <td>Clarence</td>\n",
       "      <td>0.015410</td>\n",
       "      <td>0.076923</td>\n",
       "    </tr>\n",
       "    <tr>\n",
       "      <th>1</th>\n",
       "      <td>Richard</td>\n",
       "      <td>0.529803</td>\n",
       "      <td>0.507692</td>\n",
       "    </tr>\n",
       "    <tr>\n",
       "      <th>2</th>\n",
       "      <td>Brakenbury</td>\n",
       "      <td>0.039261</td>\n",
       "      <td>0.123077</td>\n",
       "    </tr>\n",
       "    <tr>\n",
       "      <th>3</th>\n",
       "      <td>Hastings</td>\n",
       "      <td>0.094631</td>\n",
       "      <td>0.261538</td>\n",
       "    </tr>\n",
       "    <tr>\n",
       "      <th>4</th>\n",
       "      <td>Anne</td>\n",
       "      <td>0.030206</td>\n",
       "      <td>0.107692</td>\n",
       "    </tr>\n",
       "    <tr>\n",
       "      <th>...</th>\n",
       "      <td>...</td>\n",
       "      <td>...</td>\n",
       "      <td>...</td>\n",
       "    </tr>\n",
       "    <tr>\n",
       "      <th>61</th>\n",
       "      <td>GhostAnne</td>\n",
       "      <td>0.028045</td>\n",
       "      <td>0.046154</td>\n",
       "    </tr>\n",
       "    <tr>\n",
       "      <th>62</th>\n",
       "      <td>GhostBuckingham</td>\n",
       "      <td>0.044311</td>\n",
       "      <td>0.030769</td>\n",
       "    </tr>\n",
       "    <tr>\n",
       "      <th>63</th>\n",
       "      <td>1Lord</td>\n",
       "      <td>0.000000</td>\n",
       "      <td>0.030769</td>\n",
       "    </tr>\n",
       "    <tr>\n",
       "      <th>64</th>\n",
       "      <td>2Lord</td>\n",
       "      <td>0.000000</td>\n",
       "      <td>0.030769</td>\n",
       "    </tr>\n",
       "    <tr>\n",
       "      <th>65</th>\n",
       "      <td>7Messenger</td>\n",
       "      <td>0.000000</td>\n",
       "      <td>0.015385</td>\n",
       "    </tr>\n",
       "  </tbody>\n",
       "</table>\n",
       "<p>66 rows × 3 columns</p>\n",
       "</div>"
      ],
      "text/plain": [
       "               name  betweenness_centrality  degree_centrality\n",
       "0          Clarence                0.015410           0.076923\n",
       "1           Richard                0.529803           0.507692\n",
       "2        Brakenbury                0.039261           0.123077\n",
       "3          Hastings                0.094631           0.261538\n",
       "4              Anne                0.030206           0.107692\n",
       "..              ...                     ...                ...\n",
       "61        GhostAnne                0.028045           0.046154\n",
       "62  GhostBuckingham                0.044311           0.030769\n",
       "63            1Lord                0.000000           0.030769\n",
       "64            2Lord                0.000000           0.030769\n",
       "65       7Messenger                0.000000           0.015385\n",
       "\n",
       "[66 rows x 3 columns]"
      ]
     },
     "execution_count": 54,
     "metadata": {},
     "output_type": "execute_result"
    }
   ],
   "source": [
    "pd.DataFrame.from_records(col_dict).reset_index().rename(columns={\"index\": \"name\"})"
   ]
  },
  {
   "cell_type": "markdown",
   "id": "1bb92f2b-3ee0-4ad9-b895-85778afc909a",
   "metadata": {},
   "source": [
    "# Visualization"
   ]
  },
  {
   "cell_type": "code",
   "execution_count": 66,
   "id": "d28172b6-6d8f-4f16-8862-45c2c42e8069",
   "metadata": {
    "execution": {
     "iopub.execute_input": "2022-03-21T13:00:37.405304Z",
     "iopub.status.busy": "2022-03-21T13:00:37.404781Z",
     "iopub.status.idle": "2022-03-21T13:00:37.412968Z",
     "shell.execute_reply": "2022-03-21T13:00:37.411407Z",
     "shell.execute_reply.started": "2022-03-21T13:00:37.405253Z"
    },
    "tags": []
   },
   "outputs": [],
   "source": [
    "from pyvis.network import Network"
   ]
  },
  {
   "cell_type": "code",
   "execution_count": null,
   "id": "bfbd0092-cb6a-4857-be12-e03ebecae7b7",
   "metadata": {},
   "outputs": [],
   "source": []
  },
  {
   "cell_type": "code",
   "execution_count": 85,
   "id": "e58bf585-e4c9-46e2-bdc9-dbae24bbb441",
   "metadata": {
    "execution": {
     "iopub.execute_input": "2022-03-21T13:10:25.294658Z",
     "iopub.status.busy": "2022-03-21T13:10:25.293899Z",
     "iopub.status.idle": "2022-03-21T13:10:25.302960Z",
     "shell.execute_reply": "2022-03-21T13:10:25.301670Z",
     "shell.execute_reply.started": "2022-03-21T13:10:25.294604Z"
    },
    "tags": []
   },
   "outputs": [],
   "source": [
    "Gx = G.copy()"
   ]
  },
  {
   "cell_type": "code",
   "execution_count": 86,
   "id": "d268eca6-376f-42de-8d8e-3f8dd528efc4",
   "metadata": {
    "execution": {
     "iopub.execute_input": "2022-03-21T13:10:27.576817Z",
     "iopub.status.busy": "2022-03-21T13:10:27.576313Z",
     "iopub.status.idle": "2022-03-21T13:10:27.613666Z",
     "shell.execute_reply": "2022-03-21T13:10:27.612953Z",
     "shell.execute_reply.started": "2022-03-21T13:10:27.576767Z"
    },
    "tags": []
   },
   "outputs": [],
   "source": [
    "for name, func in measure_dict.items():\n",
    "    nx.set_node_attributes(Gx, func(Gx), name)"
   ]
  },
  {
   "cell_type": "code",
   "execution_count": 72,
   "id": "b6f9cd0d-6a67-4cd2-8134-92888d71ab14",
   "metadata": {
    "execution": {
     "iopub.execute_input": "2022-03-21T13:05:02.627581Z",
     "iopub.status.busy": "2022-03-21T13:05:02.627037Z",
     "iopub.status.idle": "2022-03-21T13:05:02.654332Z",
     "shell.execute_reply": "2022-03-21T13:05:02.652775Z",
     "shell.execute_reply.started": "2022-03-21T13:05:02.627530Z"
    },
    "tags": []
   },
   "outputs": [],
   "source": [
    "nx.set_node_attributes(Gx, nx.betweenness_centrality(Gx), \"betweenness_centrality\")"
   ]
  },
  {
   "cell_type": "code",
   "execution_count": 90,
   "id": "47f56aba-6738-47b7-95f5-c68f868fdc13",
   "metadata": {
    "execution": {
     "iopub.execute_input": "2022-03-21T13:13:10.845986Z",
     "iopub.status.busy": "2022-03-21T13:13:10.845494Z",
     "iopub.status.idle": "2022-03-21T13:13:10.861234Z",
     "shell.execute_reply": "2022-03-21T13:13:10.859904Z",
     "shell.execute_reply.started": "2022-03-21T13:13:10.845937Z"
    },
    "tags": []
   },
   "outputs": [],
   "source": [
    "def network_to_df(graph: nx.Graph) -> pd.DataFrame:\n",
    "    return pd.DataFrame.from_dict(dict(graph.nodes(data=True)), orient=\"index\") \\\n",
    "             .drop(columns=[\"size\"]) \\\n",
    "             .reset_index() \\\n",
    "             .rename(columns={\"index\": \"name\"})"
   ]
  },
  {
   "cell_type": "code",
   "execution_count": 93,
   "id": "215a45bb-3ac8-4ec6-9c93-b8feb799f4a6",
   "metadata": {
    "execution": {
     "iopub.execute_input": "2022-03-21T13:16:52.670061Z",
     "iopub.status.busy": "2022-03-21T13:16:52.669564Z",
     "iopub.status.idle": "2022-03-21T13:16:52.683099Z",
     "shell.execute_reply": "2022-03-21T13:16:52.682104Z",
     "shell.execute_reply.started": "2022-03-21T13:16:52.670010Z"
    },
    "tags": []
   },
   "outputs": [],
   "source": [
    "netdf = network_to_df(Gx)"
   ]
  },
  {
   "cell_type": "code",
   "execution_count": 120,
   "id": "1c49804b-028d-45dc-b7fd-b2cf1f8227cf",
   "metadata": {
    "execution": {
     "iopub.execute_input": "2022-03-21T13:31:53.409315Z",
     "iopub.status.busy": "2022-03-21T13:31:53.408759Z",
     "iopub.status.idle": "2022-03-21T13:31:53.420340Z",
     "shell.execute_reply": "2022-03-21T13:31:53.419133Z",
     "shell.execute_reply.started": "2022-03-21T13:31:53.409264Z"
    },
    "tags": []
   },
   "outputs": [
    {
     "data": {
      "text/plain": [
       "2.4484629103079295e-09"
      ]
     },
     "execution_count": 120,
     "metadata": {},
     "output_type": "execute_result"
    }
   ],
   "source": [
    "netdf[\"eigenvector_centrality\"].min()"
   ]
  },
  {
   "cell_type": "code",
   "execution_count": null,
   "id": "6fe0fdd7-8b4b-48b0-bef6-30b5fda71017",
   "metadata": {},
   "outputs": [],
   "source": [
    "testy = {'Clarence': 0.07692307692307693,\n",
    " 'Richard': 0.5076923076923077,\n",
    " 'Brakenbury': 0.12307692307692308,\n",
    " 'Hastings': 0.26153846153846155,\n",
    " 'Anne': 0.1076923076923077}\n",
    "\n",
    "min"
   ]
  },
  {
   "cell_type": "code",
   "execution_count": 111,
   "id": "b079596d-8809-40cd-8770-9c680a5fdeb7",
   "metadata": {
    "execution": {
     "iopub.execute_input": "2022-03-21T13:28:04.335636Z",
     "iopub.status.busy": "2022-03-21T13:28:04.335077Z",
     "iopub.status.idle": "2022-03-21T13:28:04.459836Z",
     "shell.execute_reply": "2022-03-21T13:28:04.459145Z",
     "shell.execute_reply.started": "2022-03-21T13:28:04.335583Z"
    },
    "tags": []
   },
   "outputs": [
    {
     "name": "stdout",
     "output_type": "stream",
     "text": [
      "\u001b[32m.\u001b[0m\u001b[32m                                                                                            [100%]\u001b[0m\n",
      "\u001b[32m\u001b[32m\u001b[1m1 passed\u001b[0m\u001b[32m in 0.01s\u001b[0m\u001b[0m\n"
     ]
    }
   ],
   "source": [
    "%%ipytest\n",
    "def test_degree_size():\n",
    "    testy = {'Clarence': 1,\n",
    " 'Richard': 0.5076923076923077,\n",
    " 'Brakenbury': 0.12307692307692308,\n",
    " 'Hastings': 0.26153846153846155,\n",
    " 'Anne': 0.1}\n",
    "    scaled_degrees = degree_size(testy, min_size=10)\n",
    "    assert min(scaled_degrees.values()) == 10\n",
    "    \n",
    "\n",
    "def degree_size(degree_dict, min_size=10) -> Dict[str, \"int\"]:\n",
    "    min_degree = min(degree_dict.values())\n",
    "    max_degree = max(degree_dict.values())\n",
    "    scale_factor = (max_degree / min_degree) * min_size\n",
    "    return {k: v * scale_factor for k, v in degree_dict.items()}\n",
    "\n",
    "def set_size_degree(graph, min_size=10):\n",
    "    scaled_degrees = degree_size(nx.get_node_attributes(Gx, \"degree_centrality\"), min_size=min_size)\n",
    "    nx.set_node_attributes(graph, scaled_degrees, \"size\")"
   ]
  },
  {
   "cell_type": "code",
   "execution_count": 112,
   "id": "15ac3e68-f18d-4f56-a6e3-a14c398f6fcf",
   "metadata": {
    "execution": {
     "iopub.execute_input": "2022-03-21T13:28:31.291471Z",
     "iopub.status.busy": "2022-03-21T13:28:31.290943Z",
     "iopub.status.idle": "2022-03-21T13:28:31.299013Z",
     "shell.execute_reply": "2022-03-21T13:28:31.297616Z",
     "shell.execute_reply.started": "2022-03-21T13:28:31.291420Z"
    },
    "tags": []
   },
   "outputs": [],
   "source": [
    "set_size(Gx)"
   ]
  },
  {
   "cell_type": "code",
   "execution_count": 115,
   "id": "a774122e-72f1-47c1-ae99-e0a00a804c78",
   "metadata": {
    "execution": {
     "iopub.execute_input": "2022-03-21T13:28:55.268015Z",
     "iopub.status.busy": "2022-03-21T13:28:55.267494Z",
     "iopub.status.idle": "2022-03-21T13:28:55.316656Z",
     "shell.execute_reply": "2022-03-21T13:28:55.315127Z",
     "shell.execute_reply.started": "2022-03-21T13:28:55.267964Z"
    },
    "tags": []
   },
   "outputs": [],
   "source": [
    "nt = Network()\n",
    "nt.from_nx(Gx)\n",
    "nt.show(\"nx.html\")"
   ]
  }
 ],
 "metadata": {
  "kernelspec": {
   "display_name": "Python 3 ",
   "language": "python",
   "name": "python3"
  },
  "language_info": {
   "codemirror_mode": {
    "name": "ipython",
    "version": 3
   },
   "file_extension": ".py",
   "mimetype": "text/x-python",
   "name": "python",
   "nbconvert_exporter": "python",
   "pygments_lexer": "ipython3",
   "version": "3.9.6"
  }
 },
 "nbformat": 4,
 "nbformat_minor": 5
}
