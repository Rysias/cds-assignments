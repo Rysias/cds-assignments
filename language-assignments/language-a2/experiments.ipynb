{
 "cells": [
  {
   "cell_type": "markdown",
   "id": "ecc38474-26ce-44d4-addb-8f3e8f5b625c",
   "metadata": {},
   "source": [
    "## A2: Task 2\n",
    "This is an exploration of task 2 described in the markdown. I'll try to use a TDD approach using [ipytest](https://github.com/chmp/ipytest) for my testing framework. I'll mainly be testing the \"hard parts\" and not stuff I'm confident in. "
   ]
  },
  {
   "cell_type": "code",
   "execution_count": 9,
   "id": "51d19eb1-1967-4ae0-a82b-e531853183aa",
   "metadata": {
    "execution": {
     "iopub.execute_input": "2022-03-08T16:08:06.291441Z",
     "iopub.status.busy": "2022-03-08T16:08:06.290888Z",
     "iopub.status.idle": "2022-03-08T16:08:06.724058Z",
     "shell.execute_reply": "2022-03-08T16:08:06.722258Z",
     "shell.execute_reply.started": "2022-03-08T16:08:06.291389Z"
    },
    "tags": []
   },
   "outputs": [],
   "source": [
    "import ipytest\n",
    "import pandas as pd\n",
    "import spacy\n",
    "import numpy as np\n",
    "import matplotlib.pyplot as plt\n",
    "from spacy.tokens import Doc\n",
    "from pathlib import Path\n",
    "from spacytextblob.spacytextblob import SpacyTextBlob\n",
    "from typing import Sequence, Callable, List, Tuple\n",
    "nlp = spacy.load(\"en_core_web_sm\")\n",
    "nlp.add_pipe('spacytextblob')\n",
    "ipytest.autoconfig()"
   ]
  },
  {
   "cell_type": "code",
   "execution_count": null,
   "id": "d520534f-cb39-419b-896e-d5a9b1b94dbb",
   "metadata": {},
   "outputs": [],
   "source": []
  },
  {
   "cell_type": "markdown",
   "id": "545471eb-f700-4ad5-abac-1031e481c342",
   "metadata": {
    "execution": {
     "iopub.execute_input": "2022-03-08T09:22:22.984709Z",
     "iopub.status.busy": "2022-03-08T09:22:22.984567Z",
     "iopub.status.idle": "2022-03-08T09:22:23.268849Z",
     "shell.execute_reply": "2022-03-08T09:22:23.268198Z",
     "shell.execute_reply.started": "2022-03-08T09:22:22.984695Z"
    },
    "tags": []
   },
   "source": [
    "DATA_DIR = Path(\"../../../CDS-LANG/tabular_examples/\")\n",
    "data_path = DATA_DIR / \"fake_or_real_news.csv\"\n",
    "df = pd.read_csv(data_path, index_col=0).reset_index(drop=True)"
   ]
  },
  {
   "cell_type": "code",
   "execution_count": 3,
   "id": "731bdee5-66a5-4dea-a035-4ed01e56e7b4",
   "metadata": {
    "execution": {
     "iopub.execute_input": "2022-03-08T09:22:23.469903Z",
     "iopub.status.busy": "2022-03-08T09:22:23.469414Z",
     "iopub.status.idle": "2022-03-08T09:22:24.678726Z",
     "shell.execute_reply": "2022-03-08T09:22:24.677530Z",
     "shell.execute_reply.started": "2022-03-08T09:22:23.469855Z"
    },
    "tags": []
   },
   "outputs": [
    {
     "name": "stdout",
     "output_type": "stream",
     "text": [
      "\u001b[32m.\u001b[0m\u001b[32m.\u001b[0m\u001b[32m.\u001b[0m\u001b[32m                                                                                          [100%]\u001b[0m\n",
      "\u001b[32m\u001b[32m\u001b[1m3 passed\u001b[0m\u001b[32m in 0.07s\u001b[0m\u001b[0m\n"
     ]
    }
   ],
   "source": [
    "%%ipytest\n",
    "\n",
    "def extract_geopol(doc: Doc) -> str:\n",
    "    return \";\".join(ent.text for ent in doc.ents if ent.label_ == \"GPE\")\n",
    "\n",
    "def test_extract_geopol():\n",
    "    doc = nlp(\"Washington battling Russia\")\n",
    "    geopols = extract_geopol(doc)\n",
    "    assert geopols == \"Washington;Russia\"\n",
    "    \n",
    "def test_only_GPE():\n",
    "    doc = nlp(\"Why isn't Rihanna leading Denmark yet?\")\n",
    "    geopols = extract_geopol(doc)\n",
    "    assert geopols == \"Denmark\"\n",
    "    \n",
    "def test_no_GPE():\n",
    "    doc = nlp(\"what?\")\n",
    "    geopols = extract_geopol(doc)\n",
    "    assert geopols == \"\""
   ]
  },
  {
   "cell_type": "code",
   "execution_count": 4,
   "id": "d44c0b7b-30b9-4ba1-8608-321fcf6a3f9d",
   "metadata": {
    "execution": {
     "iopub.execute_input": "2022-03-08T09:22:25.080626Z",
     "iopub.status.busy": "2022-03-08T09:22:25.080126Z",
     "iopub.status.idle": "2022-03-08T09:22:25.560338Z",
     "shell.execute_reply": "2022-03-08T09:22:25.558659Z",
     "shell.execute_reply.started": "2022-03-08T09:22:25.080576Z"
    },
    "tags": []
   },
   "outputs": [
    {
     "name": "stdout",
     "output_type": "stream",
     "text": [
      "\u001b[32m.\u001b[0m\u001b[32m                                                                                            [100%]\u001b[0m\n",
      "\u001b[32m\u001b[32m\u001b[1m1 passed\u001b[0m\u001b[32m in 0.24s\u001b[0m\u001b[0m\n"
     ]
    }
   ],
   "source": [
    "%%ipytest\n",
    "# Testing multiple sentences\n",
    "def test_list_geopol():\n",
    "    docs = list(nlp.pipe([\"Denmark is a country\", \"Hello mr. smartypants\"]))\n",
    "    entities = list_geopol(docs)\n",
    "    assert entities[0] == \"Denmark\"\n",
    "    assert entities[1] == \"\"\n",
    "    \n",
    "def list_geopol(docs: Sequence[Doc]) -> List[str]:\n",
    "    return [extract_geopol(doc) for doc in docs]"
   ]
  },
  {
   "cell_type": "markdown",
   "id": "ad9cae78-99ee-4d21-a57f-e088a1062b0e",
   "metadata": {},
   "source": [
    "## adding sentiment\n",
    "To make the script interoperable between textblob and VADER, I'll only look at \"compound\" sentiment for both. For the beginning I'll only investigate textblob as it is easier to integrate"
   ]
  },
  {
   "cell_type": "code",
   "execution_count": 15,
   "id": "e400aba4-e3e7-455b-97f9-324d1e5b3591",
   "metadata": {
    "execution": {
     "iopub.execute_input": "2022-03-08T16:10:10.018621Z",
     "iopub.status.busy": "2022-03-08T16:10:10.018110Z",
     "iopub.status.idle": "2022-03-08T16:10:10.199049Z",
     "shell.execute_reply": "2022-03-08T16:10:10.197326Z",
     "shell.execute_reply.started": "2022-03-08T16:10:10.018571Z"
    },
    "tags": []
   },
   "outputs": [
    {
     "name": "stdout",
     "output_type": "stream",
     "text": [
      "\u001b[32m.\u001b[0m\u001b[32m                                                                                            [100%]\u001b[0m\n",
      "\u001b[32m\u001b[32m\u001b[1m1 passed\u001b[0m\u001b[32m in 0.06s\u001b[0m\u001b[0m\n"
     ]
    }
   ],
   "source": [
    "%%ipytest\n",
    "def textblob_sentiment(doc: Doc) -> float:\n",
    "    return doc._.blob.polarity\n",
    "\n",
    "def test_textblob():\n",
    "    doc = nlp(\"you are stupid and dumb :(\")\n",
    "    assert textblob_sentiment(doc) < 0"
   ]
  },
  {
   "cell_type": "code",
   "execution_count": 6,
   "id": "41b1cc43-e295-4355-b208-bb5efbf0d4e1",
   "metadata": {
    "execution": {
     "iopub.execute_input": "2022-03-08T09:22:27.904025Z",
     "iopub.status.busy": "2022-03-08T09:22:27.903521Z",
     "iopub.status.idle": "2022-03-08T09:22:28.199960Z",
     "shell.execute_reply": "2022-03-08T09:22:28.198872Z",
     "shell.execute_reply.started": "2022-03-08T09:22:27.903961Z"
    },
    "tags": []
   },
   "outputs": [
    {
     "name": "stdout",
     "output_type": "stream",
     "text": [
      "\u001b[32m.\u001b[0m\u001b[32m                                                                                            [100%]\u001b[0m\n",
      "\u001b[32m\u001b[32m\u001b[1m1 passed\u001b[0m\u001b[32m in 0.10s\u001b[0m\u001b[0m\n"
     ]
    }
   ],
   "source": [
    "%%ipytest\n",
    "# Testing multiple sentiments\n",
    "def test_multiple_sentiment():\n",
    "    docs = list(nlp.pipe([\"I am angry!\", \"Happy days people\"]))\n",
    "    sentiments = list_sentiment(docs, sent_f=textblob_sentiment)\n",
    "    assert sentiments[0] < 0\n",
    "    assert sentiments[1] > 0\n",
    "    \n",
    "def list_sentiment(docs: Sequence[Doc], sent_f: Callable[[Doc], float]) -> List[float]:\n",
    "    return [sent_f(doc) for doc in docs]"
   ]
  },
  {
   "cell_type": "code",
   "execution_count": 9,
   "id": "480bddeb-a205-4969-a130-1cb31e6945a7",
   "metadata": {
    "execution": {
     "iopub.execute_input": "2022-03-08T09:22:41.687835Z",
     "iopub.status.busy": "2022-03-08T09:22:41.687692Z",
     "iopub.status.idle": "2022-03-08T09:22:41.692121Z",
     "shell.execute_reply": "2022-03-08T09:22:41.691558Z",
     "shell.execute_reply.started": "2022-03-08T09:22:41.687820Z"
    },
    "tags": []
   },
   "outputs": [],
   "source": [
    "\n",
    "def process_df(df: pd.DataFrame) -> pd.DataFrame:\n",
    "    headline_docs = list(nlp.pipe(df[\"title\"]))\n",
    "    geopols = list_geopol(headline_docs)\n",
    "    sentiments = list_sentiment(headline_docs, textblob_sentiment)\n",
    "    return pd.DataFrame(zip(df[\"title\"], geopols, sentiments), columns = [\"title\", \"GPE\", \"sentiment\"])\n",
    "    "
   ]
  },
  {
   "cell_type": "markdown",
   "id": "debd0f5f-6463-4478-8a37-8fa4ac574cdd",
   "metadata": {},
   "source": [
    "### Creating the plot\n",
    "Now it's time to create the plot. The steps are as follows\n",
    "0. Split up the strings to one big list\n",
    "1. Count all GPE's (without entity linking)\n",
    "2. Plot\n",
    "3. Profit"
   ]
  },
  {
   "cell_type": "code",
   "execution_count": 45,
   "id": "dfe6dfca-09c2-41d4-af8a-b78c755e1f25",
   "metadata": {
    "execution": {
     "iopub.execute_input": "2022-03-08T09:39:41.554543Z",
     "iopub.status.busy": "2022-03-08T09:39:41.554001Z",
     "iopub.status.idle": "2022-03-08T09:39:42.101258Z",
     "shell.execute_reply": "2022-03-08T09:39:42.099695Z",
     "shell.execute_reply.started": "2022-03-08T09:39:41.554491Z"
    },
    "tags": []
   },
   "outputs": [
    {
     "name": "stdout",
     "output_type": "stream",
     "text": [
      "\u001b[32m.\u001b[0m\u001b[32m                                                                                            [100%]\u001b[0m\n",
      "\u001b[32m\u001b[32m\u001b[1m1 passed\u001b[0m\u001b[32m in 0.30s\u001b[0m\u001b[0m\n"
     ]
    }
   ],
   "source": [
    "%%ipytest\n",
    "\n",
    "def test_split_entities():\n",
    "    ents = pd.Series([\"Washington;Denmark\", \"\", \"United States\"])\n",
    "    ent_list = split_entities(ents)\n",
    "    assert len(ent_list) == 3\n",
    "    assert ent_list[0] == \"Washington\"\n",
    "    assert ent_list[1] == \"Denmark\"\n",
    "    assert all(len(ent) > 0 for ent in ent_list)\n",
    "\n",
    "def flatten_list(lst: Sequence[Sequence]) -> Sequence: \n",
    "    return [x for y in lst for x in y]\n",
    "\n",
    "def flatten_series(series: pd.Series) -> pd.Series:\n",
    "    return series.apply(pd.Series).stack().reset_index(drop=True)\n",
    "\n",
    "def split_entities(ents: pd.Series) -> List[str]:\n",
    "    non_empty_ents = ents[ents.str.len() > 0]\n",
    "    split_ents = non_empty_ents.str.split(\";\")\n",
    "    return flatten_series(split_ents)\n"
   ]
  },
  {
   "cell_type": "code",
   "execution_count": 56,
   "id": "b687ef16-ab36-4ec1-b3ce-a0c5ea00b1ce",
   "metadata": {
    "execution": {
     "iopub.execute_input": "2022-03-08T09:44:10.764581Z",
     "iopub.status.busy": "2022-03-08T09:44:10.764028Z",
     "iopub.status.idle": "2022-03-08T09:44:10.774275Z",
     "shell.execute_reply": "2022-03-08T09:44:10.773342Z",
     "shell.execute_reply.started": "2022-03-08T09:44:10.764522Z"
    },
    "tags": []
   },
   "outputs": [],
   "source": [
    "from collections import Counter\n",
    "\n",
    "def n_most_common(lst: Sequence[str], n) -> List[Tuple[str, int]]:\n",
    "    return Counter(lst).most_common(n)\n",
    "\n",
    "def most_common_ents(ents: pd.Series, n=20) -> List[Tuple[str, int]]:\n",
    "    ent_series = split_entities(ents)\n",
    "    return ent_series.value_counts()[:n].rename_axis('Entity').reset_index(name='Count')"
   ]
  },
  {
   "cell_type": "code",
   "execution_count": 15,
   "id": "aa611f86-739b-4f61-82f8-93108b2e6767",
   "metadata": {
    "execution": {
     "iopub.execute_input": "2022-03-08T09:24:15.653543Z",
     "iopub.status.busy": "2022-03-08T09:24:15.652859Z",
     "iopub.status.idle": "2022-03-08T09:24:20.725675Z",
     "shell.execute_reply": "2022-03-08T09:24:20.724614Z",
     "shell.execute_reply.started": "2022-03-08T09:24:15.653491Z"
    },
    "tags": []
   },
   "outputs": [],
   "source": [
    "mask = df[\"label\"] == \"REAL\"\n",
    "real_df = df[mask]\n",
    "real_ent_df = process_df(real_df)"
   ]
  },
  {
   "cell_type": "code",
   "execution_count": 71,
   "id": "d5d03c02-3b93-45d6-86ee-ee0f451059b9",
   "metadata": {
    "execution": {
     "iopub.execute_input": "2022-03-08T09:53:02.521967Z",
     "iopub.status.busy": "2022-03-08T09:53:02.521194Z",
     "iopub.status.idle": "2022-03-08T09:53:08.621281Z",
     "shell.execute_reply": "2022-03-08T09:53:08.620461Z",
     "shell.execute_reply.started": "2022-03-08T09:53:02.521889Z"
    },
    "tags": []
   },
   "outputs": [],
   "source": [
    "fake_ent_df = process_df(df[~mask])"
   ]
  },
  {
   "cell_type": "code",
   "execution_count": 59,
   "id": "a8a1d695-315c-4e0e-98e5-3467c4d233c8",
   "metadata": {
    "execution": {
     "iopub.execute_input": "2022-03-08T09:44:49.749176Z",
     "iopub.status.busy": "2022-03-08T09:44:49.748606Z",
     "iopub.status.idle": "2022-03-08T09:44:49.870944Z",
     "shell.execute_reply": "2022-03-08T09:44:49.870236Z",
     "shell.execute_reply.started": "2022-03-08T09:44:49.749124Z"
    },
    "tags": []
   },
   "outputs": [],
   "source": [
    "top_ent_df = most_common_ents(real_ent_df[\"GPE\"])"
   ]
  },
  {
   "cell_type": "code",
   "execution_count": 74,
   "id": "11455b6a-c291-41b0-bbee-2318c3560651",
   "metadata": {
    "execution": {
     "iopub.execute_input": "2022-03-08T09:54:00.461747Z",
     "iopub.status.busy": "2022-03-08T09:54:00.461250Z",
     "iopub.status.idle": "2022-03-08T09:54:00.471311Z",
     "shell.execute_reply": "2022-03-08T09:54:00.470069Z",
     "shell.execute_reply.started": "2022-03-08T09:54:00.461698Z"
    },
    "tags": []
   },
   "outputs": [],
   "source": [
    "import seaborn as sns\n",
    "\n",
    "def plot_top_ents(ent_df, top_n=20, group_type=\"Real\"):\n",
    "    top_ents = most_common_ents(ent_df[\"GPE\"], n=top_n)\n",
    "    plot_title = f\"Most Mentioned {group_type} News GPEs\"\n",
    "    sns.barplot(data=top_ents, y=\"Entity\", x=\"Count\", orient=\"h\", color=\"#29C5F6\").set(title=plot_title)\n"
   ]
  },
  {
   "cell_type": "code",
   "execution_count": 75,
   "id": "48040a6e-5498-4806-9202-447664b5c910",
   "metadata": {
    "execution": {
     "iopub.execute_input": "2022-03-08T09:54:03.099159Z",
     "iopub.status.busy": "2022-03-08T09:54:03.098650Z",
     "iopub.status.idle": "2022-03-08T09:54:03.398493Z",
     "shell.execute_reply": "2022-03-08T09:54:03.397716Z",
     "shell.execute_reply.started": "2022-03-08T09:54:03.099109Z"
    },
    "tags": []
   },
   "outputs": [
    {
     "data": {
      "image/png": "[encoded data removed]",
      "text/plain": [
       "<Figure size 432x288 with 1 Axes>"
      ]
     },
     "metadata": {
      "needs_background": "light"
     },
     "output_type": "display_data"
    }
   ],
   "source": [
    "plot_top_ents(real_ent_df)"
   ]
  },
  {
   "cell_type": "code",
   "execution_count": 76,
   "id": "3cfe438c-a916-4b93-beb6-9097256d2e4d",
   "metadata": {
    "execution": {
     "iopub.execute_input": "2022-03-08T09:54:07.118882Z",
     "iopub.status.busy": "2022-03-08T09:54:07.118389Z",
     "iopub.status.idle": "2022-03-08T09:54:07.389694Z",
     "shell.execute_reply": "2022-03-08T09:54:07.388674Z",
     "shell.execute_reply.started": "2022-03-08T09:54:07.118834Z"
    },
    "tags": []
   },
   "outputs": [
    {
     "data": {
      "image/png": "[encoded data removed]",
      "text/plain": [
       "<Figure size 432x288 with 1 Axes>"
      ]
     },
     "metadata": {
      "needs_background": "light"
     },
     "output_type": "display_data"
    }
   ],
   "source": [
    "plot_top_ents(fake_ent_df, group_type=\"Fake\")"
   ]
  },
  {
   "cell_type": "markdown",
   "id": "fbc33740-e564-4200-b25d-9775d4e5ab17",
   "metadata": {},
   "source": [
    "### Allowing to choose sentiment function\n",
    "Lets see if we can do that "
   ]
  },
  {
   "cell_type": "code",
   "execution_count": 7,
   "id": "ed521570-cc65-4543-896a-0aa75c35d4b2",
   "metadata": {
    "execution": {
     "iopub.execute_input": "2022-03-08T16:07:24.800099Z",
     "iopub.status.busy": "2022-03-08T16:07:24.799558Z",
     "iopub.status.idle": "2022-03-08T16:07:24.809397Z",
     "shell.execute_reply": "2022-03-08T16:07:24.808547Z",
     "shell.execute_reply.started": "2022-03-08T16:07:24.800047Z"
    },
    "tags": []
   },
   "outputs": [
    {
     "data": {
      "text/plain": [
       "spacy.lang.en.English"
      ]
     },
     "execution_count": 7,
     "metadata": {},
     "output_type": "execute_result"
    }
   ],
   "source": [
    "type(nlp)"
   ]
  },
  {
   "cell_type": "code",
   "execution_count": 5,
   "id": "c7002119-dc5e-4793-92c7-aba8203f5623",
   "metadata": {
    "execution": {
     "iopub.execute_input": "2022-03-08T16:06:28.343641Z",
     "iopub.status.busy": "2022-03-08T16:06:28.343094Z",
     "iopub.status.idle": "2022-03-08T16:06:28.353371Z",
     "shell.execute_reply": "2022-03-08T16:06:28.352049Z",
     "shell.execute_reply.started": "2022-03-08T16:06:28.343588Z"
    },
    "tags": []
   },
   "outputs": [
    {
     "data": {
      "text/plain": [
       "True"
      ]
     },
     "execution_count": 5,
     "metadata": {},
     "output_type": "execute_result"
    }
   ],
   "source": [
    "nlp.has_pipe(\"spacytextblob\")"
   ]
  },
  {
   "cell_type": "code",
   "execution_count": 16,
   "id": "f3d8085a-e974-478c-b913-8424f0539f63",
   "metadata": {
    "execution": {
     "iopub.execute_input": "2022-03-08T16:10:14.878440Z",
     "iopub.status.busy": "2022-03-08T16:10:14.877911Z",
     "iopub.status.idle": "2022-03-08T16:10:16.851023Z",
     "shell.execute_reply": "2022-03-08T16:10:16.849206Z",
     "shell.execute_reply.started": "2022-03-08T16:10:14.878388Z"
    },
    "tags": []
   },
   "outputs": [
    {
     "name": "stdout",
     "output_type": "stream",
     "text": [
      "\u001b[32m.\u001b[0m\u001b[32m                                                                                            [100%]\u001b[0m\n",
      "\u001b[32m\u001b[32m\u001b[1m1 passed\u001b[0m\u001b[32m in 1.04s\u001b[0m\u001b[0m\n"
     ]
    }
   ],
   "source": [
    "%%ipytest\n",
    "def test_initialize_textblob():\n",
    "    new_nlp = spacy.load(\"en_core_web_sm\")\n",
    "    sentiment_function = initialise_textblob(new_nlp)\n",
    "    assert new_nlp.has_pipe(\"spacytextblob\")\n",
    "    assert callable(sentiment_function)\n",
    "\n",
    "def initialise_textblob(spacy_model: spacy.lang) -> Callable[[Doc], float]:\n",
    "    spacy_model.add_pipe(\"spacytextblob\")\n",
    "    return textblob_sentiment"
   ]
  },
  {
   "cell_type": "code",
   "execution_count": 21,
   "id": "2619c1a4-1607-4215-b708-d3ea72e9d552",
   "metadata": {
    "execution": {
     "iopub.execute_input": "2022-03-08T16:18:05.778854Z",
     "iopub.status.busy": "2022-03-08T16:18:05.778205Z",
     "iopub.status.idle": "2022-03-08T16:18:06.082344Z",
     "shell.execute_reply": "2022-03-08T16:18:06.081710Z",
     "shell.execute_reply.started": "2022-03-08T16:18:05.778802Z"
    },
    "tags": []
   },
   "outputs": [
    {
     "name": "stdout",
     "output_type": "stream",
     "text": [
      "\u001b[32m.\u001b[0m\u001b[32m                                                                                            [100%]\u001b[0m\n",
      "\u001b[32m\u001b[32m\u001b[1m1 passed\u001b[0m\u001b[32m in 0.04s\u001b[0m\u001b[0m\n"
     ]
    }
   ],
   "source": [
    "%%ipytest\n",
    "import functools\n",
    "from vaderSentiment.vaderSentiment import SentimentIntensityAnalyzer\n",
    "\n",
    "def test_initialise_vader():\n",
    "    sentiment_function = initialise_vader()\n",
    "    doc = nlp(\"I am angry\")\n",
    "    assert callable(sentiment_function)\n",
    "    assert type(sentiment_function(doc)) is float\n",
    "\n",
    "def vader_sentiment(doc: Doc, analyzer: SentimentIntensityAnalyzer) -> float:\n",
    "    return analyzer.polarity_scores(doc.text)[\"compound\"]\n",
    "    \n",
    "def initialise_vader() -> Callable[[Doc], float]:\n",
    "    analyzer = SentimentIntensityAnalyzer()\n",
    "    return functools.partial(vader_sentiment, analyzer=analyzer)\n",
    "    "
   ]
  },
  {
   "cell_type": "code",
   "execution_count": 17,
   "id": "9d938667-df4c-4259-9e43-26397985e4b4",
   "metadata": {
    "execution": {
     "iopub.execute_input": "2022-03-08T16:13:15.612316Z",
     "iopub.status.busy": "2022-03-08T16:13:15.611734Z",
     "iopub.status.idle": "2022-03-08T16:13:15.642681Z",
     "shell.execute_reply": "2022-03-08T16:13:15.640661Z",
     "shell.execute_reply.started": "2022-03-08T16:13:15.612260Z"
    },
    "tags": []
   },
   "outputs": [
    {
     "ename": "TypeError",
     "evalue": "Argument 'vocab' has incorrect type (expected spacy.vocab.Vocab, got str)",
     "output_type": "error",
     "traceback": [
      "\u001b[0;31m---------------------------------------------------------------------------\u001b[0m",
      "\u001b[0;31mTypeError\u001b[0m                                 Traceback (most recent call last)",
      "\u001b[0;32m/tmp/ipykernel_227/1657413986.py\u001b[0m in \u001b[0;36m<module>\u001b[0;34m\u001b[0m\n\u001b[0;32m----> 1\u001b[0;31m \u001b[0mDoc\u001b[0m\u001b[0;34m(\u001b[0m\u001b[0;34m\"I am angry\"\u001b[0m\u001b[0;34m)\u001b[0m\u001b[0;34m\u001b[0m\u001b[0;34m\u001b[0m\u001b[0m\n\u001b[0m",
      "\u001b[0;31mTypeError\u001b[0m: Argument 'vocab' has incorrect type (expected spacy.vocab.Vocab, got str)"
     ]
    }
   ],
   "source": [
    "Doc(\"I am angry\")"
   ]
  }
 ],
 "metadata": {
  "kernelspec": {
   "display_name": "Python 3 ",
   "language": "python",
   "name": "python3"
  },
  "language_info": {
   "codemirror_mode": {
    "name": "ipython",
    "version": 3
   },
   "file_extension": ".py",
   "mimetype": "text/x-python",
   "name": "python",
   "nbconvert_exporter": "python",
   "pygments_lexer": "ipython3",
   "version": "3.9.6"
  }
 },
 "nbformat": 4,
 "nbformat_minor": 5
}
