{
 "cells": [
  {
   "cell_type": "code",
   "execution_count": 1,
   "metadata": {},
   "outputs": [],
   "source": [
    "import pandas as pd\n",
    "from pathlib import Path"
   ]
  },
  {
   "cell_type": "code",
   "execution_count": 6,
   "metadata": {},
   "outputs": [],
   "source": [
    "DATA_DIR = Path(\"data\")\n",
    "df = pd.read_csv(DATA_DIR / \"gpt-j-6b_prompts.csv\")"
   ]
  },
  {
   "cell_type": "code",
   "execution_count": 16,
   "metadata": {},
   "outputs": [
    {
     "data": {
      "text/plain": [
       "0     “This is a big deal!” Obama Lied About ISIS Pr...\n",
       "1     WIKILEAKS JULIAN ASSANGE Says He Has NEW Email...\n",
       "2     REINCE PRIEBUS INTERVIEW: Is Speaker Ryan to B...\n",
       "3     No Ex-President In 100 Yrs Has Set Up A Shadow...\n",
       "4     COLLEGE STUDENT’S UNDERCOVER VIDEO GETS HIM SU...\n",
       "5     TREY GOWDY BREAKS DOWN What Clinton Hasn’t Ans...\n",
       "6     LAUGHABLE! MAXINE WATERS On Why She Wants To I...\n",
       "7     BOOM! DONALD TRUMP, JR Wins Best Cruz Comment ...\n",
       "8     JUDGE JEANINE ON FIRE: “Paul Ryan Needs to Ste...\n",
       "9     WATCH HUGE CROWD CHEER When Asked If Trump Sho...\n",
       "10    JUDGE JEANINE Delivers EPIC Hillary Slap Down:...\n",
       "11    DANIEL HANNAN Tells “The Generation Of The Saf...\n",
       "12    OBAMA DANCES At Last-Ever White House Gig To D...\n",
       "13    GUESS WHO Predicted Weiner Would “Tell The Wor...\n",
       "14    JUDGE JEANINE’S OPENING STATEMENT: “Our Presid...\n",
       "15    NOT-SO-SLICK WILLY: Bill Clinton Tries To Joke...\n",
       "16    ARMED WOMAN Takes Out One Of Three Burglars In...\n",
       "17    THE HORRIBLE END GAME: BERNIE SANDERS Calls fo...\n",
       "18    EPIC! CSPAN CALLER Gets His Benghazi Message O...\n",
       "19    AWESOME: TRUMP TWEETS THE TWO RULES That Will ...\n",
       "20    New York's political leaders reach deal on 201...\n",
       "21    UK defense minister: PM May decides on cabinet...\n",
       "22    NSA director Rogers is top candidate for DNI u...\n",
       "23    Putin, Trump to discuss North Korea on Tuesday...\n",
       "24    Russian and Chinese heads of state to meet in ...\n",
       "25    House Democrats will stage sit-in until they g...\n",
       "26    London security alert ends as package ruled no...\n",
       "27    Trump to announce transportation secretary pic...\n",
       "28    U.S. says it will take steps after Cambodia's ...\n",
       "29    Senate Republican leader says on path toward d...\n",
       "30    Trump to study tougher Russia sanctions bill: ...\n",
       "31    Ex-Catalonia leader turns himself in to Belgia...\n",
       "32    Trump discusses safe zones in Syria with Jorda...\n",
       "33          Trump says 'not distracted' by NFL protests\n",
       "34    Tillerson says Saudi Arabia not ready for talk...\n",
       "35    U.S. tax bill should include repeal of health ...\n",
       "36    Tillerson to visit Pakistan as well as India: ...\n",
       "37    Obama, Mexican president discuss immigration, ...\n",
       "38    Britain's Hammond says 'very confident' of dea...\n",
       "39    UK PM May: We must fight for the political mai...\n",
       "Name: title, dtype: object"
      ]
     },
     "execution_count": 16,
     "metadata": {},
     "output_type": "execute_result"
    }
   ],
   "source": [
    "df[\"title\"]"
   ]
  },
  {
   "cell_type": "code",
   "execution_count": 14,
   "metadata": {},
   "outputs": [
    {
     "data": {
      "text/plain": [
       "[' “ISIS is effective, well-funded and expanding, taking over the U.S.-backed regional allies like our own Iraqi Embassy in Amman, Jordan. The White House is lying.”  Fake headline: “Obama made vows to treat ISIS with ‘humanity,’ but they were hollowed out and killed,” and,',\n",
       " ' I just received affadavits from Pfc. Bradley Manning, Chelsea Manning, and Mr. Chelsea Manning on why wikileaks is so generous to me and the PFCs. I just want to take a few minutes to share them, because I still haven’t found the time to find more, or properly share all of them. Maybe someday. I�',\n",
       " ' AP interviews administration official about the health care bill’s defeat: Speaker John Boehner and President Barack Obama failed to build support for a major overhaul of the nation’s health care system.  note: one of the deans of the lie  As usual, the pimp preacher is shifting blame. There is no failing to blame; it is just that',\n",
       " ' “ABC News has learned that Sally Quinn, who has played a key role in Barack Obama’s political career dating back to when she was his consigliere, is the de-facto head of the new administration.” The article is much more accurate on the fact that Sally Quinn was one of Barack Obama’s inner circle advisors, but',\n",
       " ' College student with the unique experience of being black and white claims that racial profiling led to his suspension. No, I’m actually talking about this black college student who thinks Trump’s election was “an act of terrorism.”  He’s calling Hillary Clinton a domestic terrorist and he wants to ban guns because Obama was President. A professor',\n",
       " ' “In a White House press conference broadcast live on C-SPAN, the president also railed against the ‘CYA’ culture that has engulfed Washington after high-profile spying scandals, and he expressed his hope that the Justice Department’s investigation into the matter would be swift and transparent.”  Flipper  TEXT: �',\n",
       " ' “What, you don’t want to impeach Trump? “I think immeation is we should take strong steps to make sure he cannot do this again, and that’s what impeachment is.”  musical interlude  Miranda Lambert performed on the Academy of Country Music Awards by the pool. She wore',\n",
       " ' WHAT?! Donald Trump Jr has won the best comment prize at Saturday night’s ACM awards! He and the band from Blood Red Shoes took home best comment last night. They went up from the audience, and instead of just saying \"hello Ms. Hadley\", they said his name as well (everyone\\'s looking at him now). Blood',\n",
       " ' “Ryan’s position threatens safety and security of all elements in… “ image: fire.jpg url:   — Problem #',\n",
       " ' “Trump should win for America” logo11: “standing up for America,” photo of Trump:   See also  Flag of the United States  References  ',\n",
       " '  Canadian Judge Jeanine is good on her feet and she hasn’t been sitting on a sofa for awhile.  She’s very pissed at Hillary and all the people who have been siding with her.  Soon you will see Hillary in GOP prison….  Tick, tick, tick, tick … tick, tick, tick,',\n",
       " '  This is a summary of some of the general points that I made to that forum.  One of the reviewers of my “Man Of Mediocrity” blogpost on Youtube said that he’d like to see more personal things, that he’d like to see me go away from the subject of politics. That question is one',\n",
       " ' A “last-ever” White House gig, taped and posted some 30 hours before President Obama left office: an “extended” performance by Drake of “Hotline Bling,” the single that hit number one at radio, worldwide, a year before the former president took office. “Cancel your plans” was Obama�',\n",
       " '  On Thursday, when Rep. Isakson says that the women who claim Weiner sexually exploited them should have been named and discussed at Weiner’s testimony, he is wrong.  As a former Assistant United States Attorney, and as a sitting member of Congress who has had to defend the integrity of our voting system, I know that election fraud is a real',\n",
       " ' It’s now on our Landlord to do this.  Even if every vehicle was a hovercraft/aircraft/land-liner, we would need at least a western style dog catcher to clear the roadways!  I walk Melbourne streets thrice a week, and within a 2-hour period, I have seen exactly four vehicles that do not',\n",
       " ' “Bill Clinton tried to make a joke about Hillary’s email server scandal on TODAY this morning, but his timing was off by several months.”  5. Top Cool Factoid: “Skills” this is not a politically neutral word but you don’t have to be a political junkie to know that there are two',\n",
       " '  It took an armed home invasion to end an armed robbery and a kidnapping.  The woman calmly confronted the home invaders after she got home at 3 a.m. Saturday morning and discovered one would-be thief already be dead and the other inside her garage.  Police said the home invasion took place in the 3500 block of Barrett Lane in the City',\n",
       " ' \"Socialized medicine, a policy that people who agree with Bernie Sanders support, would force the federal government to mandate every healthcare plan that every insurance company must cover. The government, having control over what doctors and hospitals provide care, could force them to favor certain operations, employ certain doctors, make certain types of care as standard practice, over others. It would also require that',\n",
       " ' \"Thank you for that message - it deeply moved us, as it should. Your message tells us that all that is waiting for us is the time we need to get off the dime. For that, we need to tell you to get off the phone so that when we get to the questions, we are free to get our reply without fear of interruption.\"  IN',\n",
       " ' \"The first question on any crisis is, what was done before? The second question is, what would a successful strategy look like?  Then there is the strategy itself, which should be: Get all the facts, understand them, and make your decisions based on those facts, and to this end, there are two simple rules:  1) Immediately begin following',\n",
       " '  \"Gov. Andrew M. Cuomo and legislative leaders have reached a tentative, two-year spending deal that would produce an increase in spending on schools, affordable housing and health care...  McGrath and other elected leaders agreed to a tentative budget that spans the fiscal year beginning July 1, 2015, and the fiscal year beginning July 1, 2016.',\n",
       " ' Theresa May says it is Prime Minister David Cameron‘s decision to make public appointments to her top team. And a government spokesman said that May would be present for Prime Minister’s Question Time later on Wednesday.  It’s the Aldar Choudhry case all over again. After it emerged how Choudhry snooped on',\n",
       " ' “NSA Director Mike Rogers is a top contender to become the next Director of National Intelligence, sources have told The Wall Street Journal, but the man with the rank of four-star general hasn’t made himself officially available for the job.”  The NSA is likely to have a smaller budget than under the Obama administration. DoD officials say that this',\n",
       " '  article link: ',\n",
       " ' Read the real headline: Russian and Chinese leaders to meet in first half of November  And it\\'s not nearly enough. The west has indeed armed itself and the so called free \"uninhibiting” media are happy to spread fomenting propaganda blaming Russia for “war”, worsening global tensions, undermining unity, screwed up USA election and any other nonsense',\n",
       " \" House Democrats are preparing to stage a sit-in in the House chamber over the rollout of the GOP's legislation to repeal and replace ObamaCare, threatening to upend Congress' first day of a new session.  Just 24 hours after House Republicans passed their ObamaCare repeal bill, Democrats plan to sit-in in the chamber for at least several hours Tuesday. Rep. John Lewis\",\n",
       " ' \"Local newspaper says: \\'not found\\' ONreport.com\"  -----Forwarded Message----- From: David Austin <david.austin@capability-inc.com> To: Send Trace Mail <mailto:trace.trace@mail.nih.gov> Date: Mon, 12 Oct 2000 07:49:27 -',\n",
       " ' \"Pence looks on as Trump speaks at a law enforcement conference in … Ford Area.\"  source: Business Insider headline: Trump to announce planned military battle with drug cartels: Sessions text: \"White House sources said Trump looks forward to announcing unilateral action against drug cartels \"  source: NBC News headline: Trump to talk trade at White',\n",
       " \" A former Khmer Rouge soldier is accused of murdering a political dissident, yet the United States' diplomatic strategy towards Cambodia continues to brush off the Hun Sen administration's decision to dissolve the dissolved (left-wing) Cambodian National Rescue Party a few days ago.  AFP-translated article excerpt: U.S. Ambassador to Cambodia William Heidt said Friday\",\n",
       " \" Senate Republican leader says on path toward deal on government funding D.C. FIRE CLOCK: Time expired for fire-safety bill text: The clock has expired for legislation to strengthen D.C.'s fire-safety regulations, but organizers say the public still has time to make their voices heard. D.C. MAYOR: DC fire official says '\",\n",
       " ' Earlier this week, Trump was expected to non-sign the draft bill passed by Congress on July 20, 2017. Instead, he renounced it saying: \"The president doesn\\'t sign bad legislation.\"  INN:  Trump to study tougher Russia sanctions bill: White House  - President Donald Trump has decided to sign the bill that would impose new sanctions on',\n",
       " \" Ex-Catalonia leader turns himself in to Belgian police: VRT  Spanish politicians said he would be arrested as soon as he entered the country on Thursday.  His removal from office means Catalonia's new government will be led by Santi Vila, a minister of the outgoing administration chosen by the centre-right grouping Cs.  The Spanish government in\",\n",
       " ' \"President Donald Trump spoke with King Abdullah II of Jordan this week during his first official visit to the Middle East.\"  behind the headline: Anxiety grows for the republicans\\' healthcare reform: Washington Post text: \"As conservatives try to sell the public on their plan to repeal and replace the Affordable Care Act, there is growing anxiety among Republicans about the prospects of losing',\n",
       " ' \"President Donald Trump said on Sunday that he was surprised that football fans were so passionate about the national anthem, suggesting that he himself would not show such passion if he had an option. \\'I guess I\\'m not a real big football fan,\\' Trump said in a Fox News interview. \\'And I\\'ve always had a lot of respect for what you\\'ve all been doing,',\n",
       " ' Secretary of state Rex Tillerson said Saudi Arabia was not ready for talks on the \\u200bDoha-based \\u200bQatar crisis. he pointed to Qatar’s hostility toward Iran and for the Muslim Brotherhood, which Riyadh sees as a terrorist organisation. He also said the Gulf consortium, including Saudi Arabia, were \\u200bon the brink of war in the dispute. byline:',\n",
       " '<p>US Senate Republicans wrapped up debate on President Donald Trump&#8217;s tax bill, an October bill that would cut taxes for corporations and wealthy individuals but eliminate a mandate to have insurance purchased by employees.<br /> &#8220;I&#8217;m going to continue to ask that the Senate not vote on the American Health Care',\n",
       " ' \"The Secretary of State will travel to Islamabad, Islamabad, and New Delhi to discuss cooperation in the war against ISIS, and will also call on leaders in Pakistan and India to engage in dialogue and find a way to bring an end to the Pakistan-India conflict,\" said State Department spokesman Mark Toner.  Mixed messages on ISIS threat? App',\n",
       " \" President Obama met with Mexican President Felipe Calderon as part of their exchange of prime ministers. Obama’s first official trip abroad as president included a stop at a camp for children and young immigrants. He urged them to learn about the country’s political system and find a job.  The public can't dismiss Obama, and the\",\n",
       " \"... the pound fell to a two-month high against the shaky European single currency, and bonds posted their biggest quarterly losses in a decade, raising the specter of the current era of political turmoil in Europe descending on the financial markets dateline: LONDON headline: London's FTSE 100, seen as a barometer of the British economy, fell the\",\n",
       " ' According to Theresa May, \"the most important thing as we leave the European Union is that we get the right deal for the people of this country,\" she said. \"That means the establishment of a common rulebook that works for everyone, a single, bespoke deal for Britain rather than a generic, off-the-shelf product.\" [PG] ']"
      ]
     },
     "execution_count": 14,
     "metadata": {},
     "output_type": "execute_result"
    }
   ],
   "source": [
    "clean_df = df.copy()\n",
    "clean_df[\"generated_text\"] = clean_df[\"generated_text\"].str.replace(\"\\n\", \" \")\n",
    "\n",
    "# remove urls\n",
    "clean_df[\"generated_text\"] = clean_df[\"generated_text\"].str.replace(r\"http\\S+\", \"\", regex=True)\n",
    "\n"
   ]
  }
 ],
 "metadata": {
  "interpreter": {
   "hash": "c5923c95a727ee36eb19daf1b1449e67914ae9326dbd02e970c5c5d61e9f98bc"
  },
  "kernelspec": {
   "display_name": "Python 3.9.12 ('cds-lang')",
   "language": "python",
   "name": "python3"
  },
  "language_info": {
   "codemirror_mode": {
    "name": "ipython",
    "version": 3
   },
   "file_extension": ".py",
   "mimetype": "text/x-python",
   "name": "python",
   "nbconvert_exporter": "python",
   "pygments_lexer": "ipython3",
   "version": "3.9.12"
  },
  "orig_nbformat": 4
 },
 "nbformat": 4,
 "nbformat_minor": 2
}
