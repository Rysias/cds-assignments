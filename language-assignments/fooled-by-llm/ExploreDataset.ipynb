{
 "cells": [
  {
   "cell_type": "code",
   "execution_count": 1,
   "metadata": {},
   "outputs": [],
   "source": [
    "import pandas as pd\n",
    "from pathlib import Path\n",
    "import ipytest\n",
    "\n",
    "ipytest.autoconfig()"
   ]
  },
  {
   "cell_type": "code",
   "execution_count": 4,
   "metadata": {},
   "outputs": [],
   "source": [
    "\n",
    "def read_sample(filename: Path, sample_size: int = 10) -> pd.DataFrame:\n",
    "    \"\"\"\n",
    "    Reads a sample of the data from the given file.\n",
    "    \"\"\"\n",
    "    return pd.read_csv(filename, nrows=sample_size)\n",
    "    \n",
    "def first_n_sentences(text: str, n: int, sentencizer) -> str:\n",
    "    \"\"\"\n",
    "    Returns the first n sentences of a text.\n",
    "    \"\"\"\n",
    "    doc = sentencizer(text)\n",
    "    return \" \".join(str(sent) for i, sent in enumerate(doc.sents) if i < n)\n",
    "\n",
    "def count_sentences(text: pd.Series) -> pd.Series:\n",
    "    \"\"\"\n",
    "    Counts the number of sentences in a text.\n",
    "    \"\"\"\n",
    "    return text.str.split(\".\").str.len()"
   ]
  },
  {
   "cell_type": "code",
   "execution_count": 2,
   "metadata": {},
   "outputs": [],
   "source": [
    "DATA_DIR = Path(\"data\")\n",
    "\n",
    "\n",
    "df = read_sample(DATA_DIR / \"Fake.csv\", sample_size=1000)\n"
   ]
  },
  {
   "cell_type": "markdown",
   "metadata": {},
   "source": [
    "# Exploring distributions\n"
   ]
  },
  {
   "cell_type": "code",
   "execution_count": 13,
   "metadata": {},
   "outputs": [
    {
     "data": {
      "text/plain": [
       "<AxesSubplot:ylabel='Frequency'>"
      ]
     },
     "execution_count": 13,
     "metadata": {},
     "output_type": "execute_result"
    },
    {
     "data": {
      "image/png": "[encoded data removed]",
      "text/plain": [
       "<Figure size 432x288 with 1 Axes>"
      ]
     },
     "metadata": {
      "needs_background": "light"
     },
     "output_type": "display_data"
    }
   ],
   "source": [
    "# Plot length of text\n",
    "df[\"title\"].str.len().plot(kind=\"hist\")\n"
   ]
  },
  {
   "cell_type": "code",
   "execution_count": 15,
   "metadata": {},
   "outputs": [
    {
     "data": {
      "text/plain": [
       "<AxesSubplot:ylabel='Frequency'>"
      ]
     },
     "execution_count": 15,
     "metadata": {},
     "output_type": "execute_result"
    },
    {
     "data": {
      "image/png": "[encoded data removed]",
      "text/plain": [
       "<Figure size 432x288 with 1 Axes>"
      ]
     },
     "metadata": {
      "needs_background": "light"
     },
     "output_type": "display_data"
    }
   ],
   "source": [
    "\n",
    "count_sentences(df[\"text\"]).plot(kind=\"hist\")"
   ]
  },
  {
   "cell_type": "code",
   "execution_count": 7,
   "metadata": {},
   "outputs": [
    {
     "data": {
      "text/plain": [
       "'Donald Trump just couldn t wish all Americans a Happy New Year and leave it at that. Instead, he had to give a shout out to his enemies, haters and  the very dishonest fake news media.  The former reality show star had just one job to do and he couldn t do it.'"
      ]
     },
     "execution_count": 7,
     "metadata": {},
     "output_type": "execute_result"
    }
   ],
   "source": [
    "import spacy\n",
    "\n",
    "\n",
    "\n",
    "def create_sentencizer() -> spacy.pipeline.Sentencizer:\n",
    "    \"\"\"\n",
    "    Creates a sentencizer pipe.\n",
    "    \"\"\"\n",
    "    nlp = spacy.load(\"en_core_web_sm\")\n",
    "    nlp.disable_pipes('tok2vec', 'tagger', 'parser', 'attribute_ruler', 'lemmatizer', 'ner')\n",
    "    nlp.add_pipe(\"sentencizer\")\n",
    "    return nlp\n",
    "def count_sents(text: str, sentencizer) -> int:\n",
    "    \"\"\"\n",
    "    Counts the number of sentences in a text.\n",
    "    \"\"\"\n",
    "    doc = sentencizer(text)\n",
    "    return sum(1 for _ in doc.sents)\n",
    "\n",
    "\n",
    "sentencizer = create_sentencizer()\n",
    "\n",
    "first_n_sentences(df[\"text\"][0], 3, sentencizer)\n",
    "\n",
    "#num_sents = df[\"text\"].apply(lambda x: count_sents(x, sentencizer))"
   ]
  },
  {
   "cell_type": "code",
   "execution_count": 49,
   "metadata": {},
   "outputs": [
    {
     "name": "stdout",
     "output_type": "stream",
     "text": [
      "\u001b[32m.\u001b[0m\u001b[32m.\u001b[0m\u001b[32m                                                                                           [100%]\u001b[0m\n",
      "\u001b[32m\u001b[32m\u001b[1m2 passed\u001b[0m\u001b[32m in 0.04s\u001b[0m\u001b[0m\n"
     ]
    }
   ],
   "source": [
    "%%ipytest\n",
    "\n",
    "\n",
    "def test_first_n_sentences():\n",
    "    text = \"This is a sentence. This is another sentence. This is the last sentence.\"\n",
    "    assert first_n_sentences(text, 2, sentencizer) == \"This is a sentence. This is another sentence.\"\n",
    "    assert first_n_sentences(text, 1, sentencizer) == \"This is a sentence.\"\n",
    "def test_first_n_empty():\n",
    "    text = \"this is the only sentence\"\n",
    "    assert first_n_sentences(text, 2, sentencizer) == text"
   ]
  },
  {
   "cell_type": "code",
   "execution_count": 9,
   "metadata": {},
   "outputs": [],
   "source": [
    "df[\"short_text\"] = df[\"text\"].apply(lambda x: first_n_sentences(x, 2, sentencizer))"
   ]
  },
  {
   "cell_type": "code",
   "execution_count": 10,
   "metadata": {},
   "outputs": [
    {
     "data": {
      "text/plain": [
       "['Donald Trump just couldn t wish all Americans a Happy New Year and leave it at that. Instead, he had to give a shout out to his enemies, haters and  the very dishonest fake news media.',\n",
       " 'House Intelligence Committee Chairman Devin Nunes is going to have a bad day. He s been under the assumption, like many of us, that the Christopher Steele-dossier was what prompted the Russia investigation so he s been lashing out at the Department of Justice and the FBI in order to protect Trump.',\n",
       " 'On Friday, it was revealed that former Milwaukee Sheriff David Clarke, who was being considered for Homeland Security Secretary in Donald Trump s administration, has an email scandal of his own. In January, there was a brief run-in on a plane between Clarke and fellow passenger Dan Black, who he later had detained by the police for no reason whatsoever, except that maybe his feelings were hurt.',\n",
       " 'On Christmas day, Donald Trump announced that he would  be back to work  the following day, but he is golfing for the fourth day in a row. The former reality show star blasted former President Barack Obama for playing golf and now Trump is on track to outpace the number of golf games his predecessor played.',\n",
       " 'Pope Francis used his annual Christmas Day message to rebuke Donald Trump without even mentioning his name. The Pope delivered his message just days after members of the United Nations condemned Trump s move to recognize Jerusalem as the capital of Israel.']"
      ]
     },
     "execution_count": 10,
     "metadata": {},
     "output_type": "execute_result"
    }
   ],
   "source": [
    "df[\"short_text\"].head().to_list()"
   ]
  },
  {
   "cell_type": "code",
   "execution_count": 14,
   "metadata": {},
   "outputs": [
    {
     "data": {
      "text/plain": [
       "Index(['title', 'text', 'subject', 'date', 'short_text'], dtype='object')"
      ]
     },
     "execution_count": 14,
     "metadata": {},
     "output_type": "execute_result"
    },
    {
     "data": {
      "image/png": "[encoded data removed]",
      "text/plain": [
       "<Figure size 432x288 with 1 Axes>"
      ]
     },
     "metadata": {
      "needs_background": "light"
     },
     "output_type": "display_data"
    }
   ],
   "source": [
    "# count number of words per string in df[\"short_text\"]\n",
    "df[\"short_text\"].str.split().str.len().plot(kind=\"hist\")\n",
    "\n",
    "long_texts = df[df[\"short_text\"].str.split().str.len() > 100]\n",
    "long_texts.columns"
   ]
  },
  {
   "cell_type": "markdown",
   "metadata": {},
   "source": [
    "# Exploring prompt generation\n",
    "- Let's have a look at how to create nice prompts \n",
    "- Based on https://6b.eleuther.ai/\n"
   ]
  },
  {
   "cell_type": "code",
   "execution_count": 21,
   "metadata": {},
   "outputs": [
    {
     "data": {
      "text/plain": [
       "0     17\n",
       "1     20\n",
       "2     16\n",
       "3     21\n",
       "4     19\n",
       "5     18\n",
       "6     13\n",
       "7     14\n",
       "8     16\n",
       "9     15\n",
       "10    24\n",
       "11    16\n",
       "12    14\n",
       "13    14\n",
       "14    17\n",
       "15    16\n",
       "16    16\n",
       "17    16\n",
       "18    15\n",
       "19    15\n",
       "20    13\n",
       "21    14\n",
       "22    14\n",
       "23    15\n",
       "24    16\n",
       "25    15\n",
       "26    11\n",
       "27    10\n",
       "28    14\n",
       "29    14\n",
       "30    12\n",
       "31    12\n",
       "32    14\n",
       "33    10\n",
       "34    16\n",
       "35    16\n",
       "36    14\n",
       "37    12\n",
       "38    13\n",
       "39    13\n",
       "Name: prompt, dtype: int64"
      ]
     },
     "execution_count": 21,
     "metadata": {},
     "output_type": "execute_result"
    }
   ],
   "source": [
    "df = pd.read_csv(\"data/clean_news_examples.csv\")\n",
    "df[\"prompt\"] = df[\"type\"].str.lower() + \" headline: \" + df[\"title\"] + \"\\n\" + \"text:\"\n",
    "\n",
    "df[\"prompt\"].str.split(r\"\\s\").str.len()"
   ]
  },
  {
   "cell_type": "code",
   "execution_count": 22,
   "metadata": {},
   "outputs": [
    {
     "data": {
      "text/html": [
       "<div>\n",
       "<style scoped>\n",
       "    .dataframe tbody tr th:only-of-type {\n",
       "        vertical-align: middle;\n",
       "    }\n",
       "\n",
       "    .dataframe tbody tr th {\n",
       "        vertical-align: top;\n",
       "    }\n",
       "\n",
       "    .dataframe thead th {\n",
       "        text-align: right;\n",
       "    }\n",
       "</style>\n",
       "<table border=\"1\" class=\"dataframe\">\n",
       "  <thead>\n",
       "    <tr style=\"text-align: right;\">\n",
       "      <th></th>\n",
       "      <th>title</th>\n",
       "      <th>subject</th>\n",
       "      <th>date</th>\n",
       "      <th>short_text</th>\n",
       "      <th>type</th>\n",
       "      <th>prompt</th>\n",
       "    </tr>\n",
       "  </thead>\n",
       "  <tbody>\n",
       "    <tr>\n",
       "      <th>0</th>\n",
       "      <td>“This is a big deal!” Obama Lied About ISIS Pr...</td>\n",
       "      <td>Government News</td>\n",
       "      <td>Sep 20, 2015</td>\n",
       "      <td>Steve Hayes says the biggest scandal yet for O...</td>\n",
       "      <td>Fake</td>\n",
       "      <td>fake headline: “This is a big deal!” Obama Lie...</td>\n",
       "    </tr>\n",
       "    <tr>\n",
       "      <th>1</th>\n",
       "      <td>WIKILEAKS JULIAN ASSANGE Says He Has NEW Email...</td>\n",
       "      <td>left-news</td>\n",
       "      <td>Jul 25, 2016</td>\n",
       "      <td>Julian Assange tells what he ll do next and wh...</td>\n",
       "      <td>Fake</td>\n",
       "      <td>fake headline: WIKILEAKS JULIAN ASSANGE Says H...</td>\n",
       "    </tr>\n",
       "    <tr>\n",
       "      <th>2</th>\n",
       "      <td>REINCE PRIEBUS INTERVIEW: Is Speaker Ryan to B...</td>\n",
       "      <td>politics</td>\n",
       "      <td>Mar 26, 2017</td>\n",
       "      <td></td>\n",
       "      <td>Fake</td>\n",
       "      <td>fake headline: REINCE PRIEBUS INTERVIEW: Is Sp...</td>\n",
       "    </tr>\n",
       "    <tr>\n",
       "      <th>3</th>\n",
       "      <td>No Ex-President In 100 Yrs Has Set Up A Shadow...</td>\n",
       "      <td>politics</td>\n",
       "      <td>Mar 13, 2017</td>\n",
       "      <td>FOX News  Catherine Herridge exposes the dirty...</td>\n",
       "      <td>Fake</td>\n",
       "      <td>fake headline: No Ex-President In 100 Yrs Has ...</td>\n",
       "    </tr>\n",
       "    <tr>\n",
       "      <th>4</th>\n",
       "      <td>COLLEGE STUDENT’S UNDERCOVER VIDEO GETS HIM SU...</td>\n",
       "      <td>politics</td>\n",
       "      <td>Feb 16, 2017</td>\n",
       "      <td>THIS IS OUTRAGEOUS! YOU WON T BELIEVE THIS!</td>\n",
       "      <td>Fake</td>\n",
       "      <td>fake headline: COLLEGE STUDENT’S UNDERCOVER VI...</td>\n",
       "    </tr>\n",
       "    <tr>\n",
       "      <th>5</th>\n",
       "      <td>TREY GOWDY BREAKS DOWN What Clinton Hasn’t Ans...</td>\n",
       "      <td>Government News</td>\n",
       "      <td>Aug 25, 2016</td>\n",
       "      <td>Trey Gowdy rips into the Clinton case of using...</td>\n",
       "      <td>Fake</td>\n",
       "      <td>fake headline: TREY GOWDY BREAKS DOWN What Cli...</td>\n",
       "    </tr>\n",
       "    <tr>\n",
       "      <th>6</th>\n",
       "      <td>LAUGHABLE! MAXINE WATERS On Why She Wants To I...</td>\n",
       "      <td>politics</td>\n",
       "      <td>Jan 16, 2017</td>\n",
       "      <td></td>\n",
       "      <td>Fake</td>\n",
       "      <td>fake headline: LAUGHABLE! MAXINE WATERS On Why...</td>\n",
       "    </tr>\n",
       "    <tr>\n",
       "      <th>7</th>\n",
       "      <td>BOOM! DONALD TRUMP, JR Wins Best Cruz Comment ...</td>\n",
       "      <td>politics</td>\n",
       "      <td>Jul 21, 2016</td>\n",
       "      <td>The best unity I saw was everyone booing him ...</td>\n",
       "      <td>Fake</td>\n",
       "      <td>fake headline: BOOM! DONALD TRUMP, JR Wins Bes...</td>\n",
       "    </tr>\n",
       "    <tr>\n",
       "      <th>8</th>\n",
       "      <td>JUDGE JEANINE ON FIRE: “Paul Ryan Needs to Ste...</td>\n",
       "      <td>politics</td>\n",
       "      <td>Mar 25, 2017</td>\n",
       "      <td></td>\n",
       "      <td>Fake</td>\n",
       "      <td>fake headline: JUDGE JEANINE ON FIRE: “Paul Ry...</td>\n",
       "    </tr>\n",
       "    <tr>\n",
       "      <th>9</th>\n",
       "      <td>WATCH HUGE CROWD CHEER When Asked If Trump Sho...</td>\n",
       "      <td>politics</td>\n",
       "      <td>Oct 9, 2016</td>\n",
       "      <td></td>\n",
       "      <td>Fake</td>\n",
       "      <td>fake headline: WATCH HUGE CROWD CHEER When Ask...</td>\n",
       "    </tr>\n",
       "    <tr>\n",
       "      <th>10</th>\n",
       "      <td>JUDGE JEANINE Delivers EPIC Hillary Slap Down:...</td>\n",
       "      <td>politics</td>\n",
       "      <td>Sep 11, 2016</td>\n",
       "      <td>YIKES That s gonna leave a mark!</td>\n",
       "      <td>Fake</td>\n",
       "      <td>fake headline: JUDGE JEANINE Delivers EPIC Hil...</td>\n",
       "    </tr>\n",
       "    <tr>\n",
       "      <th>11</th>\n",
       "      <td>DANIEL HANNAN Tells “The Generation Of The Saf...</td>\n",
       "      <td>politics</td>\n",
       "      <td>Nov 15, 2016</td>\n",
       "      <td></td>\n",
       "      <td>Fake</td>\n",
       "      <td>fake headline: DANIEL HANNAN Tells “The Genera...</td>\n",
       "    </tr>\n",
       "    <tr>\n",
       "      <th>12</th>\n",
       "      <td>OBAMA DANCES At Last-Ever White House Gig To D...</td>\n",
       "      <td>left-news</td>\n",
       "      <td>Oct 23, 2016</td>\n",
       "      <td></td>\n",
       "      <td>Fake</td>\n",
       "      <td>fake headline: OBAMA DANCES At Last-Ever White...</td>\n",
       "    </tr>\n",
       "    <tr>\n",
       "      <th>13</th>\n",
       "      <td>GUESS WHO Predicted Weiner Would “Tell The Wor...</td>\n",
       "      <td>politics</td>\n",
       "      <td>Oct 28, 2016</td>\n",
       "      <td></td>\n",
       "      <td>Fake</td>\n",
       "      <td>fake headline: GUESS WHO Predicted Weiner Woul...</td>\n",
       "    </tr>\n",
       "    <tr>\n",
       "      <th>14</th>\n",
       "      <td>JUDGE JEANINE’S OPENING STATEMENT: “Our Presid...</td>\n",
       "      <td>politics</td>\n",
       "      <td>Apr 1, 2017</td>\n",
       "      <td>Watch my #OpeningStatment   pic.twitter.com/Qp...</td>\n",
       "      <td>Fake</td>\n",
       "      <td>fake headline: JUDGE JEANINE’S OPENING STATEME...</td>\n",
       "    </tr>\n",
       "    <tr>\n",
       "      <th>15</th>\n",
       "      <td>NOT-SO-SLICK WILLY: Bill Clinton Tries To Joke...</td>\n",
       "      <td>politics</td>\n",
       "      <td>Sep 14, 2016</td>\n",
       "      <td></td>\n",
       "      <td>Fake</td>\n",
       "      <td>fake headline: NOT-SO-SLICK WILLY: Bill Clinto...</td>\n",
       "    </tr>\n",
       "    <tr>\n",
       "      <th>16</th>\n",
       "      <td>ARMED WOMAN Takes Out One Of Three Burglars In...</td>\n",
       "      <td>Government News</td>\n",
       "      <td>Sep 23, 2016</td>\n",
       "      <td>If not for the second amendment, this woman wo...</td>\n",
       "      <td>Fake</td>\n",
       "      <td>fake headline: ARMED WOMAN Takes Out One Of Th...</td>\n",
       "    </tr>\n",
       "    <tr>\n",
       "      <th>17</th>\n",
       "      <td>THE HORRIBLE END GAME: BERNIE SANDERS Calls fo...</td>\n",
       "      <td>politics</td>\n",
       "      <td>Mar 26, 2017</td>\n",
       "      <td></td>\n",
       "      <td>Fake</td>\n",
       "      <td>fake headline: THE HORRIBLE END GAME: BERNIE S...</td>\n",
       "    </tr>\n",
       "    <tr>\n",
       "      <th>18</th>\n",
       "      <td>EPIC! CSPAN CALLER Gets His Benghazi Message O...</td>\n",
       "      <td>politics</td>\n",
       "      <td>Aug 8, 2016</td>\n",
       "      <td>If you ve ever watched CSPAN you ll know how r...</td>\n",
       "      <td>Fake</td>\n",
       "      <td>fake headline: EPIC! CSPAN CALLER Gets His Ben...</td>\n",
       "    </tr>\n",
       "    <tr>\n",
       "      <th>19</th>\n",
       "      <td>AWESOME: TRUMP TWEETS THE TWO RULES That Will ...</td>\n",
       "      <td>politics</td>\n",
       "      <td>Dec 30, 2016</td>\n",
       "      <td>The link to Instagram was the photo below:</td>\n",
       "      <td>Fake</td>\n",
       "      <td>fake headline: AWESOME: TRUMP TWEETS THE TWO R...</td>\n",
       "    </tr>\n",
       "    <tr>\n",
       "      <th>20</th>\n",
       "      <td>New York's political leaders reach deal on 201...</td>\n",
       "      <td>politicsNews</td>\n",
       "      <td>April 1, 2016</td>\n",
       "      <td>New York state’s governor Andrew Cuomo and leg...</td>\n",
       "      <td>True</td>\n",
       "      <td>true headline: New York's political leaders re...</td>\n",
       "    </tr>\n",
       "    <tr>\n",
       "      <th>21</th>\n",
       "      <td>UK defense minister: PM May decides on cabinet...</td>\n",
       "      <td>worldnews</td>\n",
       "      <td>November 8, 2017</td>\n",
       "      <td>British defense minister Gavin Williamson said...</td>\n",
       "      <td>True</td>\n",
       "      <td>true headline: UK defense minister: PM May dec...</td>\n",
       "    </tr>\n",
       "    <tr>\n",
       "      <th>22</th>\n",
       "      <td>NSA director Rogers is top candidate for DNI u...</td>\n",
       "      <td>politicsNews</td>\n",
       "      <td>November 18, 2016</td>\n",
       "      <td>U.S. National Security Agency Director Admiral...</td>\n",
       "      <td>True</td>\n",
       "      <td>true headline: NSA director Rogers is top cand...</td>\n",
       "    </tr>\n",
       "    <tr>\n",
       "      <th>23</th>\n",
       "      <td>Putin, Trump to discuss North Korea on Tuesday...</td>\n",
       "      <td>politicsNews</td>\n",
       "      <td>November 21, 2017</td>\n",
       "      <td>Russian President Vladimir Putin and U.S. Pres...</td>\n",
       "      <td>True</td>\n",
       "      <td>true headline: Putin, Trump to discuss North K...</td>\n",
       "    </tr>\n",
       "    <tr>\n",
       "      <th>24</th>\n",
       "      <td>Russian and Chinese heads of state to meet in ...</td>\n",
       "      <td>worldnews</td>\n",
       "      <td>October 26, 2017</td>\n",
       "      <td>Russian President Vladimir Putin on Thursday h...</td>\n",
       "      <td>True</td>\n",
       "      <td>true headline: Russian and Chinese heads of st...</td>\n",
       "    </tr>\n",
       "    <tr>\n",
       "      <th>25</th>\n",
       "      <td>House Democrats will stage sit-in until they g...</td>\n",
       "      <td>politicsNews</td>\n",
       "      <td>June 22, 2016</td>\n",
       "      <td>U.S. House of Representatives Democratic leade...</td>\n",
       "      <td>True</td>\n",
       "      <td>true headline: House Democrats will stage sit-...</td>\n",
       "    </tr>\n",
       "    <tr>\n",
       "      <th>26</th>\n",
       "      <td>London security alert ends as package ruled no...</td>\n",
       "      <td>worldnews</td>\n",
       "      <td>December 5, 2017</td>\n",
       "      <td>London police said an item that had prompted a...</td>\n",
       "      <td>True</td>\n",
       "      <td>true headline: London security alert ends as p...</td>\n",
       "    </tr>\n",
       "    <tr>\n",
       "      <th>27</th>\n",
       "      <td>Trump to announce transportation secretary pic...</td>\n",
       "      <td>politicsNews</td>\n",
       "      <td>November 29, 2016</td>\n",
       "      <td>President-elect Donald Trump will nominate a t...</td>\n",
       "      <td>True</td>\n",
       "      <td>true headline: Trump to announce transportatio...</td>\n",
       "    </tr>\n",
       "    <tr>\n",
       "      <th>28</th>\n",
       "      <td>U.S. says it will take steps after Cambodia's ...</td>\n",
       "      <td>worldnews</td>\n",
       "      <td>November 17, 2017</td>\n",
       "      <td>The United States expressed  grave concern  on...</td>\n",
       "      <td>True</td>\n",
       "      <td>true headline: U.S. says it will take steps af...</td>\n",
       "    </tr>\n",
       "    <tr>\n",
       "      <th>29</th>\n",
       "      <td>Senate Republican leader says on path toward d...</td>\n",
       "      <td>politicsNews</td>\n",
       "      <td>October 31, 2017</td>\n",
       "      <td>Senate Republican leader Mitch McConnell said ...</td>\n",
       "      <td>True</td>\n",
       "      <td>true headline: Senate Republican leader says o...</td>\n",
       "    </tr>\n",
       "    <tr>\n",
       "      <th>30</th>\n",
       "      <td>Trump to study tougher Russia sanctions bill: ...</td>\n",
       "      <td>politicsNews</td>\n",
       "      <td>July 24, 2017</td>\n",
       "      <td>President Donald Trump will examine whether a ...</td>\n",
       "      <td>True</td>\n",
       "      <td>true headline: Trump to study tougher Russia s...</td>\n",
       "    </tr>\n",
       "    <tr>\n",
       "      <th>31</th>\n",
       "      <td>Ex-Catalonia leader turns himself in to Belgia...</td>\n",
       "      <td>worldnews</td>\n",
       "      <td>November 5, 2017</td>\n",
       "      <td>Sacked Catalonian leader Carles Puigdemont has...</td>\n",
       "      <td>True</td>\n",
       "      <td>true headline: Ex-Catalonia leader turns himse...</td>\n",
       "    </tr>\n",
       "    <tr>\n",
       "      <th>32</th>\n",
       "      <td>Trump discusses safe zones in Syria with Jorda...</td>\n",
       "      <td>politicsNews</td>\n",
       "      <td>February 2, 2017</td>\n",
       "      <td>U.S. President Donald Trump discussed with Jor...</td>\n",
       "      <td>True</td>\n",
       "      <td>true headline: Trump discusses safe zones in S...</td>\n",
       "    </tr>\n",
       "    <tr>\n",
       "      <th>33</th>\n",
       "      <td>Trump says 'not distracted' by NFL protests</td>\n",
       "      <td>politicsNews</td>\n",
       "      <td>September 26, 2017</td>\n",
       "      <td>U.S. President Donald Trump’s criticisms of Na...</td>\n",
       "      <td>True</td>\n",
       "      <td>true headline: Trump says 'not distracted' by ...</td>\n",
       "    </tr>\n",
       "    <tr>\n",
       "      <th>34</th>\n",
       "      <td>Tillerson says Saudi Arabia not ready for talk...</td>\n",
       "      <td>worldnews</td>\n",
       "      <td>October 22, 2017</td>\n",
       "      <td>Saudi Arabia is not yet ready to begin direct ...</td>\n",
       "      <td>True</td>\n",
       "      <td>true headline: Tillerson says Saudi Arabia not...</td>\n",
       "    </tr>\n",
       "    <tr>\n",
       "      <th>35</th>\n",
       "      <td>U.S. tax bill should include repeal of health ...</td>\n",
       "      <td>politicsNews</td>\n",
       "      <td>November 14, 2017</td>\n",
       "      <td>Senate Republican leader Mitch McConnell on Tu...</td>\n",
       "      <td>True</td>\n",
       "      <td>true headline: U.S. tax bill should include re...</td>\n",
       "    </tr>\n",
       "    <tr>\n",
       "      <th>36</th>\n",
       "      <td>Tillerson to visit Pakistan as well as India: ...</td>\n",
       "      <td>politicsNews</td>\n",
       "      <td>October 18, 2017</td>\n",
       "      <td>U.S. Secretary of State Rex Tillerson will Pak...</td>\n",
       "      <td>True</td>\n",
       "      <td>true headline: Tillerson to visit Pakistan as ...</td>\n",
       "    </tr>\n",
       "    <tr>\n",
       "      <th>37</th>\n",
       "      <td>Obama, Mexican president discuss immigration, ...</td>\n",
       "      <td>politicsNews</td>\n",
       "      <td>May 6, 2016</td>\n",
       "      <td>U.S. President Barack Obama and Mexican Presid...</td>\n",
       "      <td>True</td>\n",
       "      <td>true headline: Obama, Mexican president discus...</td>\n",
       "    </tr>\n",
       "    <tr>\n",
       "      <th>38</th>\n",
       "      <td>Britain's Hammond says 'very confident' of dea...</td>\n",
       "      <td>worldnews</td>\n",
       "      <td>December 5, 2017</td>\n",
       "      <td>Britain s Chancellor of the Exchequer Philip H...</td>\n",
       "      <td>True</td>\n",
       "      <td>true headline: Britain's Hammond says 'very co...</td>\n",
       "    </tr>\n",
       "    <tr>\n",
       "      <th>39</th>\n",
       "      <td>UK PM May: We must fight for the political mai...</td>\n",
       "      <td>worldnews</td>\n",
       "      <td>October 4, 2017</td>\n",
       "      <td>British Prime Minister Theresa May said on Wed...</td>\n",
       "      <td>True</td>\n",
       "      <td>true headline: UK PM May: We must fight for th...</td>\n",
       "    </tr>\n",
       "  </tbody>\n",
       "</table>\n",
       "</div>"
      ],
      "text/plain": [
       "                                                title          subject  \\\n",
       "0   “This is a big deal!” Obama Lied About ISIS Pr...  Government News   \n",
       "1   WIKILEAKS JULIAN ASSANGE Says He Has NEW Email...        left-news   \n",
       "2   REINCE PRIEBUS INTERVIEW: Is Speaker Ryan to B...         politics   \n",
       "3   No Ex-President In 100 Yrs Has Set Up A Shadow...         politics   \n",
       "4   COLLEGE STUDENT’S UNDERCOVER VIDEO GETS HIM SU...         politics   \n",
       "5   TREY GOWDY BREAKS DOWN What Clinton Hasn’t Ans...  Government News   \n",
       "6   LAUGHABLE! MAXINE WATERS On Why She Wants To I...         politics   \n",
       "7   BOOM! DONALD TRUMP, JR Wins Best Cruz Comment ...         politics   \n",
       "8   JUDGE JEANINE ON FIRE: “Paul Ryan Needs to Ste...         politics   \n",
       "9   WATCH HUGE CROWD CHEER When Asked If Trump Sho...         politics   \n",
       "10  JUDGE JEANINE Delivers EPIC Hillary Slap Down:...         politics   \n",
       "11  DANIEL HANNAN Tells “The Generation Of The Saf...         politics   \n",
       "12  OBAMA DANCES At Last-Ever White House Gig To D...        left-news   \n",
       "13  GUESS WHO Predicted Weiner Would “Tell The Wor...         politics   \n",
       "14  JUDGE JEANINE’S OPENING STATEMENT: “Our Presid...         politics   \n",
       "15  NOT-SO-SLICK WILLY: Bill Clinton Tries To Joke...         politics   \n",
       "16  ARMED WOMAN Takes Out One Of Three Burglars In...  Government News   \n",
       "17  THE HORRIBLE END GAME: BERNIE SANDERS Calls fo...         politics   \n",
       "18  EPIC! CSPAN CALLER Gets His Benghazi Message O...         politics   \n",
       "19  AWESOME: TRUMP TWEETS THE TWO RULES That Will ...         politics   \n",
       "20  New York's political leaders reach deal on 201...     politicsNews   \n",
       "21  UK defense minister: PM May decides on cabinet...        worldnews   \n",
       "22  NSA director Rogers is top candidate for DNI u...     politicsNews   \n",
       "23  Putin, Trump to discuss North Korea on Tuesday...     politicsNews   \n",
       "24  Russian and Chinese heads of state to meet in ...        worldnews   \n",
       "25  House Democrats will stage sit-in until they g...     politicsNews   \n",
       "26  London security alert ends as package ruled no...        worldnews   \n",
       "27  Trump to announce transportation secretary pic...     politicsNews   \n",
       "28  U.S. says it will take steps after Cambodia's ...        worldnews   \n",
       "29  Senate Republican leader says on path toward d...     politicsNews   \n",
       "30  Trump to study tougher Russia sanctions bill: ...     politicsNews   \n",
       "31  Ex-Catalonia leader turns himself in to Belgia...        worldnews   \n",
       "32  Trump discusses safe zones in Syria with Jorda...     politicsNews   \n",
       "33        Trump says 'not distracted' by NFL protests     politicsNews   \n",
       "34  Tillerson says Saudi Arabia not ready for talk...        worldnews   \n",
       "35  U.S. tax bill should include repeal of health ...     politicsNews   \n",
       "36  Tillerson to visit Pakistan as well as India: ...     politicsNews   \n",
       "37  Obama, Mexican president discuss immigration, ...     politicsNews   \n",
       "38  Britain's Hammond says 'very confident' of dea...        worldnews   \n",
       "39  UK PM May: We must fight for the political mai...        worldnews   \n",
       "\n",
       "                   date                                         short_text  \\\n",
       "0          Sep 20, 2015  Steve Hayes says the biggest scandal yet for O...   \n",
       "1          Jul 25, 2016  Julian Assange tells what he ll do next and wh...   \n",
       "2          Mar 26, 2017                                                      \n",
       "3          Mar 13, 2017  FOX News  Catherine Herridge exposes the dirty...   \n",
       "4          Feb 16, 2017        THIS IS OUTRAGEOUS! YOU WON T BELIEVE THIS!   \n",
       "5          Aug 25, 2016  Trey Gowdy rips into the Clinton case of using...   \n",
       "6          Jan 16, 2017                                                      \n",
       "7          Jul 21, 2016   The best unity I saw was everyone booing him ...   \n",
       "8          Mar 25, 2017                                                      \n",
       "9           Oct 9, 2016                                                      \n",
       "10         Sep 11, 2016                   YIKES That s gonna leave a mark!   \n",
       "11         Nov 15, 2016                                                      \n",
       "12         Oct 23, 2016                                                      \n",
       "13         Oct 28, 2016                                                      \n",
       "14          Apr 1, 2017  Watch my #OpeningStatment   pic.twitter.com/Qp...   \n",
       "15         Sep 14, 2016                                                      \n",
       "16         Sep 23, 2016  If not for the second amendment, this woman wo...   \n",
       "17         Mar 26, 2017                                                      \n",
       "18          Aug 8, 2016  If you ve ever watched CSPAN you ll know how r...   \n",
       "19         Dec 30, 2016         The link to Instagram was the photo below:   \n",
       "20       April 1, 2016   New York state’s governor Andrew Cuomo and leg...   \n",
       "21    November 8, 2017   British defense minister Gavin Williamson said...   \n",
       "22   November 18, 2016   U.S. National Security Agency Director Admiral...   \n",
       "23   November 21, 2017   Russian President Vladimir Putin and U.S. Pres...   \n",
       "24    October 26, 2017   Russian President Vladimir Putin on Thursday h...   \n",
       "25       June 22, 2016   U.S. House of Representatives Democratic leade...   \n",
       "26    December 5, 2017   London police said an item that had prompted a...   \n",
       "27   November 29, 2016   President-elect Donald Trump will nominate a t...   \n",
       "28   November 17, 2017   The United States expressed  grave concern  on...   \n",
       "29    October 31, 2017   Senate Republican leader Mitch McConnell said ...   \n",
       "30       July 24, 2017   President Donald Trump will examine whether a ...   \n",
       "31    November 5, 2017   Sacked Catalonian leader Carles Puigdemont has...   \n",
       "32    February 2, 2017   U.S. President Donald Trump discussed with Jor...   \n",
       "33  September 26, 2017   U.S. President Donald Trump’s criticisms of Na...   \n",
       "34    October 22, 2017   Saudi Arabia is not yet ready to begin direct ...   \n",
       "35   November 14, 2017   Senate Republican leader Mitch McConnell on Tu...   \n",
       "36    October 18, 2017   U.S. Secretary of State Rex Tillerson will Pak...   \n",
       "37         May 6, 2016   U.S. President Barack Obama and Mexican Presid...   \n",
       "38    December 5, 2017   Britain s Chancellor of the Exchequer Philip H...   \n",
       "39     October 4, 2017   British Prime Minister Theresa May said on Wed...   \n",
       "\n",
       "    type                                             prompt  \n",
       "0   Fake  fake headline: “This is a big deal!” Obama Lie...  \n",
       "1   Fake  fake headline: WIKILEAKS JULIAN ASSANGE Says H...  \n",
       "2   Fake  fake headline: REINCE PRIEBUS INTERVIEW: Is Sp...  \n",
       "3   Fake  fake headline: No Ex-President In 100 Yrs Has ...  \n",
       "4   Fake  fake headline: COLLEGE STUDENT’S UNDERCOVER VI...  \n",
       "5   Fake  fake headline: TREY GOWDY BREAKS DOWN What Cli...  \n",
       "6   Fake  fake headline: LAUGHABLE! MAXINE WATERS On Why...  \n",
       "7   Fake  fake headline: BOOM! DONALD TRUMP, JR Wins Bes...  \n",
       "8   Fake  fake headline: JUDGE JEANINE ON FIRE: “Paul Ry...  \n",
       "9   Fake  fake headline: WATCH HUGE CROWD CHEER When Ask...  \n",
       "10  Fake  fake headline: JUDGE JEANINE Delivers EPIC Hil...  \n",
       "11  Fake  fake headline: DANIEL HANNAN Tells “The Genera...  \n",
       "12  Fake  fake headline: OBAMA DANCES At Last-Ever White...  \n",
       "13  Fake  fake headline: GUESS WHO Predicted Weiner Woul...  \n",
       "14  Fake  fake headline: JUDGE JEANINE’S OPENING STATEME...  \n",
       "15  Fake  fake headline: NOT-SO-SLICK WILLY: Bill Clinto...  \n",
       "16  Fake  fake headline: ARMED WOMAN Takes Out One Of Th...  \n",
       "17  Fake  fake headline: THE HORRIBLE END GAME: BERNIE S...  \n",
       "18  Fake  fake headline: EPIC! CSPAN CALLER Gets His Ben...  \n",
       "19  Fake  fake headline: AWESOME: TRUMP TWEETS THE TWO R...  \n",
       "20  True  true headline: New York's political leaders re...  \n",
       "21  True  true headline: UK defense minister: PM May dec...  \n",
       "22  True  true headline: NSA director Rogers is top cand...  \n",
       "23  True  true headline: Putin, Trump to discuss North K...  \n",
       "24  True  true headline: Russian and Chinese heads of st...  \n",
       "25  True  true headline: House Democrats will stage sit-...  \n",
       "26  True  true headline: London security alert ends as p...  \n",
       "27  True  true headline: Trump to announce transportatio...  \n",
       "28  True  true headline: U.S. says it will take steps af...  \n",
       "29  True  true headline: Senate Republican leader says o...  \n",
       "30  True  true headline: Trump to study tougher Russia s...  \n",
       "31  True  true headline: Ex-Catalonia leader turns himse...  \n",
       "32  True  true headline: Trump discusses safe zones in S...  \n",
       "33  True  true headline: Trump says 'not distracted' by ...  \n",
       "34  True  true headline: Tillerson says Saudi Arabia not...  \n",
       "35  True  true headline: U.S. tax bill should include re...  \n",
       "36  True  true headline: Tillerson to visit Pakistan as ...  \n",
       "37  True  true headline: Obama, Mexican president discus...  \n",
       "38  True  true headline: Britain's Hammond says 'very co...  \n",
       "39  True  true headline: UK PM May: We must fight for th...  "
      ]
     },
     "execution_count": 22,
     "metadata": {},
     "output_type": "execute_result"
    }
   ],
   "source": [
    "df[df[\"short_text\"].str.split().str.len() < 80]"
   ]
  },
  {
   "cell_type": "code",
   "execution_count": 65,
   "metadata": {},
   "outputs": [],
   "source": [
    "import openai\n",
    "import json\n",
    "from pathlib import Path\n",
    "\n",
    "def read_json(filename: Path) -> dict:\n",
    "    \"\"\"\n",
    "    Reads a json file.\n",
    "    \"\"\"\n",
    "    with open(filename, \"r\") as f:\n",
    "        return json.load(f)\n",
    "\n",
    "def get_api_key(config: Path, keyname: str = \"goose_api\") -> str:\n",
    "    \"\"\"\n",
    "    Gets the API key from the config file.\n",
    "    \"\"\"\n",
    "    return read_json(config)[keyname]\n",
    "\n",
    "\n",
    "api_key = get_api_key(Path(\"config.json\"))\n",
    "\n",
    "# Authenticate OPenai API\n",
    "openai.api_key = api_key\n",
    "openai.api_base = \"https://api.goose.ai/v1\"\n",
    "\n",
    "modelid = \"gpt-neo-125m\"\n",
    "\n"
   ]
  },
  {
   "cell_type": "code",
   "execution_count": 63,
   "metadata": {},
   "outputs": [
    {
     "data": {
      "text/plain": [
       "\"true headline: UK's May says foreign minister Johnson 'doing good work'\\ntext:\""
      ]
     },
     "execution_count": 63,
     "metadata": {},
     "output_type": "execute_result"
    }
   ],
   "source": [
    "testprompt = df[\"prompt\"][21]\n",
    "testprompt"
   ]
  },
  {
   "cell_type": "code",
   "execution_count": 66,
   "metadata": {},
   "outputs": [
    {
     "ename": "PermissionError",
     "evalue": "Your organization does not have enough balance to request this action (need $0.00008, have $0 in active grants, $0 in balance).",
     "output_type": "error",
     "traceback": [
      "\u001b[1;31m---------------------------------------------------------------------------\u001b[0m",
      "\u001b[1;31mPermissionError\u001b[0m                           Traceback (most recent call last)",
      "\u001b[1;32mc:\\Users\\jhr\\fooled-by-llm\\ExploreDataset.ipynb Cell 14'\u001b[0m in \u001b[0;36m<cell line: 2>\u001b[1;34m()\u001b[0m\n\u001b[0;32m      <a href='vscode-notebook-cell:/c%3A/Users/jhr/fooled-by-llm/ExploreDataset.ipynb#ch0000013?line=0'>1</a>\u001b[0m myprompt \u001b[39m=\u001b[39m \u001b[39m\"\u001b[39m\u001b[39mQ: what is the meaning of life?\u001b[39m\u001b[39m\\n\u001b[39;00m\u001b[39mA:\u001b[39m\u001b[39m\"\u001b[39m \n\u001b[1;32m----> <a href='vscode-notebook-cell:/c%3A/Users/jhr/fooled-by-llm/ExploreDataset.ipynb#ch0000013?line=1'>2</a>\u001b[0m testy \u001b[39m=\u001b[39m openai\u001b[39m.\u001b[39;49mCompletion\u001b[39m.\u001b[39;49mcreate(\n\u001b[0;32m      <a href='vscode-notebook-cell:/c%3A/Users/jhr/fooled-by-llm/ExploreDataset.ipynb#ch0000013?line=2'>3</a>\u001b[0m   engine\u001b[39m=\u001b[39;49m\u001b[39m\"\u001b[39;49m\u001b[39mgpt-neo-125m\u001b[39;49m\u001b[39m\"\u001b[39;49m,\n\u001b[0;32m      <a href='vscode-notebook-cell:/c%3A/Users/jhr/fooled-by-llm/ExploreDataset.ipynb#ch0000013?line=3'>4</a>\u001b[0m   prompt\u001b[39m=\u001b[39;49mtestprompt,\n\u001b[0;32m      <a href='vscode-notebook-cell:/c%3A/Users/jhr/fooled-by-llm/ExploreDataset.ipynb#ch0000013?line=4'>5</a>\u001b[0m   temperature\u001b[39m=\u001b[39;49m\u001b[39m0.9\u001b[39;49m,\n\u001b[0;32m      <a href='vscode-notebook-cell:/c%3A/Users/jhr/fooled-by-llm/ExploreDataset.ipynb#ch0000013?line=5'>6</a>\u001b[0m   max_tokens\u001b[39m=\u001b[39;49m\u001b[39m70\u001b[39;49m,\n\u001b[0;32m      <a href='vscode-notebook-cell:/c%3A/Users/jhr/fooled-by-llm/ExploreDataset.ipynb#ch0000013?line=6'>7</a>\u001b[0m )\n",
      "File \u001b[1;32m~\\Anaconda3\\envs\\bullshit\\lib\\site-packages\\openai\\api_resources\\completion.py:31\u001b[0m, in \u001b[0;36mCompletion.create\u001b[1;34m(cls, *args, **kwargs)\u001b[0m\n\u001b[0;32m     <a href='file:///c%3A/Users/jhr/Anaconda3/envs/bullshit/lib/site-packages/openai/api_resources/completion.py?line=28'>29</a>\u001b[0m \u001b[39mwhile\u001b[39;00m \u001b[39mTrue\u001b[39;00m:\n\u001b[0;32m     <a href='file:///c%3A/Users/jhr/Anaconda3/envs/bullshit/lib/site-packages/openai/api_resources/completion.py?line=29'>30</a>\u001b[0m     \u001b[39mtry\u001b[39;00m:\n\u001b[1;32m---> <a href='file:///c%3A/Users/jhr/Anaconda3/envs/bullshit/lib/site-packages/openai/api_resources/completion.py?line=30'>31</a>\u001b[0m         \u001b[39mreturn\u001b[39;00m \u001b[39msuper\u001b[39m()\u001b[39m.\u001b[39mcreate(\u001b[39m*\u001b[39margs, \u001b[39m*\u001b[39m\u001b[39m*\u001b[39mkwargs)\n\u001b[0;32m     <a href='file:///c%3A/Users/jhr/Anaconda3/envs/bullshit/lib/site-packages/openai/api_resources/completion.py?line=31'>32</a>\u001b[0m     \u001b[39mexcept\u001b[39;00m TryAgain \u001b[39mas\u001b[39;00m e:\n\u001b[0;32m     <a href='file:///c%3A/Users/jhr/Anaconda3/envs/bullshit/lib/site-packages/openai/api_resources/completion.py?line=32'>33</a>\u001b[0m         \u001b[39mif\u001b[39;00m timeout \u001b[39mis\u001b[39;00m \u001b[39mnot\u001b[39;00m \u001b[39mNone\u001b[39;00m \u001b[39mand\u001b[39;00m time\u001b[39m.\u001b[39mtime() \u001b[39m>\u001b[39m start \u001b[39m+\u001b[39m timeout:\n",
      "File \u001b[1;32m~\\Anaconda3\\envs\\bullshit\\lib\\site-packages\\openai\\api_resources\\abstract\\engine_api_resource.py:100\u001b[0m, in \u001b[0;36mEngineAPIResource.create\u001b[1;34m(cls, api_key, api_base, api_type, request_id, api_version, organization, **params)\u001b[0m\n\u001b[0;32m     <a href='file:///c%3A/Users/jhr/Anaconda3/envs/bullshit/lib/site-packages/openai/api_resources/abstract/engine_api_resource.py?line=91'>92</a>\u001b[0m requestor \u001b[39m=\u001b[39m api_requestor\u001b[39m.\u001b[39mAPIRequestor(\n\u001b[0;32m     <a href='file:///c%3A/Users/jhr/Anaconda3/envs/bullshit/lib/site-packages/openai/api_resources/abstract/engine_api_resource.py?line=92'>93</a>\u001b[0m     api_key,\n\u001b[0;32m     <a href='file:///c%3A/Users/jhr/Anaconda3/envs/bullshit/lib/site-packages/openai/api_resources/abstract/engine_api_resource.py?line=93'>94</a>\u001b[0m     api_base\u001b[39m=\u001b[39mapi_base,\n\u001b[1;32m   (...)\u001b[0m\n\u001b[0;32m     <a href='file:///c%3A/Users/jhr/Anaconda3/envs/bullshit/lib/site-packages/openai/api_resources/abstract/engine_api_resource.py?line=96'>97</a>\u001b[0m     organization\u001b[39m=\u001b[39morganization,\n\u001b[0;32m     <a href='file:///c%3A/Users/jhr/Anaconda3/envs/bullshit/lib/site-packages/openai/api_resources/abstract/engine_api_resource.py?line=97'>98</a>\u001b[0m )\n\u001b[0;32m     <a href='file:///c%3A/Users/jhr/Anaconda3/envs/bullshit/lib/site-packages/openai/api_resources/abstract/engine_api_resource.py?line=98'>99</a>\u001b[0m url \u001b[39m=\u001b[39m \u001b[39mcls\u001b[39m\u001b[39m.\u001b[39mclass_url(engine, api_type, api_version)\n\u001b[1;32m--> <a href='file:///c%3A/Users/jhr/Anaconda3/envs/bullshit/lib/site-packages/openai/api_resources/abstract/engine_api_resource.py?line=99'>100</a>\u001b[0m response, _, api_key \u001b[39m=\u001b[39m requestor\u001b[39m.\u001b[39;49mrequest(\n\u001b[0;32m    <a href='file:///c%3A/Users/jhr/Anaconda3/envs/bullshit/lib/site-packages/openai/api_resources/abstract/engine_api_resource.py?line=100'>101</a>\u001b[0m     \u001b[39m\"\u001b[39;49m\u001b[39mpost\u001b[39;49m\u001b[39m\"\u001b[39;49m,\n\u001b[0;32m    <a href='file:///c%3A/Users/jhr/Anaconda3/envs/bullshit/lib/site-packages/openai/api_resources/abstract/engine_api_resource.py?line=101'>102</a>\u001b[0m     url,\n\u001b[0;32m    <a href='file:///c%3A/Users/jhr/Anaconda3/envs/bullshit/lib/site-packages/openai/api_resources/abstract/engine_api_resource.py?line=102'>103</a>\u001b[0m     params\u001b[39m=\u001b[39;49mparams,\n\u001b[0;32m    <a href='file:///c%3A/Users/jhr/Anaconda3/envs/bullshit/lib/site-packages/openai/api_resources/abstract/engine_api_resource.py?line=103'>104</a>\u001b[0m     headers\u001b[39m=\u001b[39;49mheaders,\n\u001b[0;32m    <a href='file:///c%3A/Users/jhr/Anaconda3/envs/bullshit/lib/site-packages/openai/api_resources/abstract/engine_api_resource.py?line=104'>105</a>\u001b[0m     stream\u001b[39m=\u001b[39;49mstream,\n\u001b[0;32m    <a href='file:///c%3A/Users/jhr/Anaconda3/envs/bullshit/lib/site-packages/openai/api_resources/abstract/engine_api_resource.py?line=105'>106</a>\u001b[0m     request_id\u001b[39m=\u001b[39;49mrequest_id,\n\u001b[0;32m    <a href='file:///c%3A/Users/jhr/Anaconda3/envs/bullshit/lib/site-packages/openai/api_resources/abstract/engine_api_resource.py?line=106'>107</a>\u001b[0m )\n\u001b[0;32m    <a href='file:///c%3A/Users/jhr/Anaconda3/envs/bullshit/lib/site-packages/openai/api_resources/abstract/engine_api_resource.py?line=108'>109</a>\u001b[0m \u001b[39mif\u001b[39;00m stream:\n\u001b[0;32m    <a href='file:///c%3A/Users/jhr/Anaconda3/envs/bullshit/lib/site-packages/openai/api_resources/abstract/engine_api_resource.py?line=109'>110</a>\u001b[0m     \u001b[39massert\u001b[39;00m \u001b[39mnot\u001b[39;00m \u001b[39misinstance\u001b[39m(response, OpenAIResponse)  \u001b[39m# must be an iterator\u001b[39;00m\n",
      "File \u001b[1;32m~\\Anaconda3\\envs\\bullshit\\lib\\site-packages\\openai\\api_requestor.py:120\u001b[0m, in \u001b[0;36mAPIRequestor.request\u001b[1;34m(self, method, url, params, headers, files, stream, request_id)\u001b[0m\n\u001b[0;32m    <a href='file:///c%3A/Users/jhr/Anaconda3/envs/bullshit/lib/site-packages/openai/api_requestor.py?line=100'>101</a>\u001b[0m \u001b[39mdef\u001b[39;00m \u001b[39mrequest\u001b[39m(\n\u001b[0;32m    <a href='file:///c%3A/Users/jhr/Anaconda3/envs/bullshit/lib/site-packages/openai/api_requestor.py?line=101'>102</a>\u001b[0m     \u001b[39mself\u001b[39m,\n\u001b[0;32m    <a href='file:///c%3A/Users/jhr/Anaconda3/envs/bullshit/lib/site-packages/openai/api_requestor.py?line=102'>103</a>\u001b[0m     method,\n\u001b[1;32m   (...)\u001b[0m\n\u001b[0;32m    <a href='file:///c%3A/Users/jhr/Anaconda3/envs/bullshit/lib/site-packages/openai/api_requestor.py?line=108'>109</a>\u001b[0m     request_id: Optional[\u001b[39mstr\u001b[39m] \u001b[39m=\u001b[39m \u001b[39mNone\u001b[39;00m,\n\u001b[0;32m    <a href='file:///c%3A/Users/jhr/Anaconda3/envs/bullshit/lib/site-packages/openai/api_requestor.py?line=109'>110</a>\u001b[0m ) \u001b[39m-\u001b[39m\u001b[39m>\u001b[39m Tuple[Union[OpenAIResponse, Iterator[OpenAIResponse]], \u001b[39mbool\u001b[39m, \u001b[39mstr\u001b[39m]:\n\u001b[0;32m    <a href='file:///c%3A/Users/jhr/Anaconda3/envs/bullshit/lib/site-packages/openai/api_requestor.py?line=110'>111</a>\u001b[0m     result \u001b[39m=\u001b[39m \u001b[39mself\u001b[39m\u001b[39m.\u001b[39mrequest_raw(\n\u001b[0;32m    <a href='file:///c%3A/Users/jhr/Anaconda3/envs/bullshit/lib/site-packages/openai/api_requestor.py?line=111'>112</a>\u001b[0m         method\u001b[39m.\u001b[39mlower(),\n\u001b[0;32m    <a href='file:///c%3A/Users/jhr/Anaconda3/envs/bullshit/lib/site-packages/openai/api_requestor.py?line=112'>113</a>\u001b[0m         url,\n\u001b[1;32m   (...)\u001b[0m\n\u001b[0;32m    <a href='file:///c%3A/Users/jhr/Anaconda3/envs/bullshit/lib/site-packages/openai/api_requestor.py?line=117'>118</a>\u001b[0m         request_id\u001b[39m=\u001b[39mrequest_id,\n\u001b[0;32m    <a href='file:///c%3A/Users/jhr/Anaconda3/envs/bullshit/lib/site-packages/openai/api_requestor.py?line=118'>119</a>\u001b[0m     )\n\u001b[1;32m--> <a href='file:///c%3A/Users/jhr/Anaconda3/envs/bullshit/lib/site-packages/openai/api_requestor.py?line=119'>120</a>\u001b[0m     resp, got_stream \u001b[39m=\u001b[39m \u001b[39mself\u001b[39;49m\u001b[39m.\u001b[39;49m_interpret_response(result, stream)\n\u001b[0;32m    <a href='file:///c%3A/Users/jhr/Anaconda3/envs/bullshit/lib/site-packages/openai/api_requestor.py?line=120'>121</a>\u001b[0m     \u001b[39mreturn\u001b[39;00m resp, got_stream, \u001b[39mself\u001b[39m\u001b[39m.\u001b[39mapi_key\n",
      "File \u001b[1;32m~\\Anaconda3\\envs\\bullshit\\lib\\site-packages\\openai\\api_requestor.py:327\u001b[0m, in \u001b[0;36mAPIRequestor._interpret_response\u001b[1;34m(self, result, stream)\u001b[0m\n\u001b[0;32m    <a href='file:///c%3A/Users/jhr/Anaconda3/envs/bullshit/lib/site-packages/openai/api_requestor.py?line=318'>319</a>\u001b[0m     \u001b[39mreturn\u001b[39;00m (\n\u001b[0;32m    <a href='file:///c%3A/Users/jhr/Anaconda3/envs/bullshit/lib/site-packages/openai/api_requestor.py?line=319'>320</a>\u001b[0m         \u001b[39mself\u001b[39m\u001b[39m.\u001b[39m_interpret_response_line(\n\u001b[0;32m    <a href='file:///c%3A/Users/jhr/Anaconda3/envs/bullshit/lib/site-packages/openai/api_requestor.py?line=320'>321</a>\u001b[0m             line, result\u001b[39m.\u001b[39mstatus_code, result\u001b[39m.\u001b[39mheaders, stream\u001b[39m=\u001b[39m\u001b[39mTrue\u001b[39;00m\n\u001b[0;32m    <a href='file:///c%3A/Users/jhr/Anaconda3/envs/bullshit/lib/site-packages/openai/api_requestor.py?line=321'>322</a>\u001b[0m         )\n\u001b[0;32m    <a href='file:///c%3A/Users/jhr/Anaconda3/envs/bullshit/lib/site-packages/openai/api_requestor.py?line=322'>323</a>\u001b[0m         \u001b[39mfor\u001b[39;00m line \u001b[39min\u001b[39;00m parse_stream(result\u001b[39m.\u001b[39miter_lines())\n\u001b[0;32m    <a href='file:///c%3A/Users/jhr/Anaconda3/envs/bullshit/lib/site-packages/openai/api_requestor.py?line=323'>324</a>\u001b[0m     ), \u001b[39mTrue\u001b[39;00m\n\u001b[0;32m    <a href='file:///c%3A/Users/jhr/Anaconda3/envs/bullshit/lib/site-packages/openai/api_requestor.py?line=324'>325</a>\u001b[0m \u001b[39melse\u001b[39;00m:\n\u001b[0;32m    <a href='file:///c%3A/Users/jhr/Anaconda3/envs/bullshit/lib/site-packages/openai/api_requestor.py?line=325'>326</a>\u001b[0m     \u001b[39mreturn\u001b[39;00m (\n\u001b[1;32m--> <a href='file:///c%3A/Users/jhr/Anaconda3/envs/bullshit/lib/site-packages/openai/api_requestor.py?line=326'>327</a>\u001b[0m         \u001b[39mself\u001b[39;49m\u001b[39m.\u001b[39;49m_interpret_response_line(\n\u001b[0;32m    <a href='file:///c%3A/Users/jhr/Anaconda3/envs/bullshit/lib/site-packages/openai/api_requestor.py?line=327'>328</a>\u001b[0m             result\u001b[39m.\u001b[39;49mcontent, result\u001b[39m.\u001b[39;49mstatus_code, result\u001b[39m.\u001b[39;49mheaders, stream\u001b[39m=\u001b[39;49m\u001b[39mFalse\u001b[39;49;00m\n\u001b[0;32m    <a href='file:///c%3A/Users/jhr/Anaconda3/envs/bullshit/lib/site-packages/openai/api_requestor.py?line=328'>329</a>\u001b[0m         ),\n\u001b[0;32m    <a href='file:///c%3A/Users/jhr/Anaconda3/envs/bullshit/lib/site-packages/openai/api_requestor.py?line=329'>330</a>\u001b[0m         \u001b[39mFalse\u001b[39;00m,\n\u001b[0;32m    <a href='file:///c%3A/Users/jhr/Anaconda3/envs/bullshit/lib/site-packages/openai/api_requestor.py?line=330'>331</a>\u001b[0m     )\n",
      "File \u001b[1;32m~\\Anaconda3\\envs\\bullshit\\lib\\site-packages\\openai\\api_requestor.py:360\u001b[0m, in \u001b[0;36mAPIRequestor._interpret_response_line\u001b[1;34m(self, rbody, rcode, rheaders, stream)\u001b[0m\n\u001b[0;32m    <a href='file:///c%3A/Users/jhr/Anaconda3/envs/bullshit/lib/site-packages/openai/api_requestor.py?line=357'>358</a>\u001b[0m stream_error \u001b[39m=\u001b[39m stream \u001b[39mand\u001b[39;00m \u001b[39m\"\u001b[39m\u001b[39merror\u001b[39m\u001b[39m\"\u001b[39m \u001b[39min\u001b[39;00m resp\u001b[39m.\u001b[39mdata\n\u001b[0;32m    <a href='file:///c%3A/Users/jhr/Anaconda3/envs/bullshit/lib/site-packages/openai/api_requestor.py?line=358'>359</a>\u001b[0m \u001b[39mif\u001b[39;00m stream_error \u001b[39mor\u001b[39;00m \u001b[39mnot\u001b[39;00m \u001b[39m200\u001b[39m \u001b[39m<\u001b[39m\u001b[39m=\u001b[39m rcode \u001b[39m<\u001b[39m \u001b[39m300\u001b[39m:\n\u001b[1;32m--> <a href='file:///c%3A/Users/jhr/Anaconda3/envs/bullshit/lib/site-packages/openai/api_requestor.py?line=359'>360</a>\u001b[0m     \u001b[39mraise\u001b[39;00m \u001b[39mself\u001b[39m\u001b[39m.\u001b[39mhandle_error_response(\n\u001b[0;32m    <a href='file:///c%3A/Users/jhr/Anaconda3/envs/bullshit/lib/site-packages/openai/api_requestor.py?line=360'>361</a>\u001b[0m         rbody, rcode, resp\u001b[39m.\u001b[39mdata, rheaders, stream_error\u001b[39m=\u001b[39mstream_error\n\u001b[0;32m    <a href='file:///c%3A/Users/jhr/Anaconda3/envs/bullshit/lib/site-packages/openai/api_requestor.py?line=361'>362</a>\u001b[0m     )\n\u001b[0;32m    <a href='file:///c%3A/Users/jhr/Anaconda3/envs/bullshit/lib/site-packages/openai/api_requestor.py?line=362'>363</a>\u001b[0m \u001b[39mreturn\u001b[39;00m resp\n",
      "\u001b[1;31mPermissionError\u001b[0m: Your organization does not have enough balance to request this action (need $0.00008, have $0 in active grants, $0 in balance)."
     ]
    }
   ],
   "source": [
    "myprompt = \"Q: what is the meaning of life?\\nA:\" \n",
    "testy = openai.Completion.create(\n",
    "  engine=\"gpt-neo-125m\",\n",
    "  prompt=testprompt,\n",
    "  temperature=0.9,\n",
    "  max_tokens=75,\n",
    ")"
   ]
  },
  {
   "cell_type": "code",
   "execution_count": 59,
   "metadata": {},
   "outputs": [
    {
     "name": "stdout",
     "output_type": "stream",
     "text": [
      "testprompt ='True headline:Venezuelan opposition disarray heaps pain on protesters\\ntext:'\n",
      "\n",
      "testprompt + answer ='True headline:Venezuelan opposition disarray heaps pain on protesters\\ntext: \\'Unsatisfied with the government\\'s response\\'\\n\\nA Reuters journalist in Venezuela\\'s capital, Caracas, described the opposition\\'s violent demonstrations in a scathing report that came from a military press corps. \"Most of the demonstrators are well armed,\" he wrote in a post that appeared to be taken down.\\n\\nThe article took up by'\n"
     ]
    }
   ],
   "source": [
    "answer = testy[\"choices\"][0][\"text\"]\n",
    "print(f\"{testprompt =}\")\n",
    "print(f\"\")\n",
    "print(f\"{testprompt + answer =}\")"
   ]
  },
  {
   "cell_type": "code",
   "execution_count": 60,
   "metadata": {},
   "outputs": [
    {
     "data": {
      "text/plain": [
       "' \\'Unsatisfied with the government\\'s response\\'\\n\\nA Reuters journalist in Venezuela\\'s capital, Caracas, described the opposition\\'s violent demonstrations in a scathing report that came from a military press corps. \"Most of the demonstrators are well armed,\" he wrote in a post that appeared to be taken down.\\n\\nThe article took up by'"
      ]
     },
     "execution_count": 60,
     "metadata": {},
     "output_type": "execute_result"
    }
   ],
   "source": [
    "answer"
   ]
  }
 ],
 "metadata": {
  "interpreter": {
   "hash": "c5923c95a727ee36eb19daf1b1449e67914ae9326dbd02e970c5c5d61e9f98bc"
  },
  "kernelspec": {
   "display_name": "Python 3.9.12 ('cds-lang')",
   "language": "python",
   "name": "python3"
  },
  "language_info": {
   "codemirror_mode": {
    "name": "ipython",
    "version": 3
   },
   "file_extension": ".py",
   "mimetype": "text/x-python",
   "name": "python",
   "nbconvert_exporter": "python",
   "pygments_lexer": "ipython3",
   "version": "3.9.12"
  },
  "orig_nbformat": 4
 },
 "nbformat": 4,
 "nbformat_minor": 2
}
